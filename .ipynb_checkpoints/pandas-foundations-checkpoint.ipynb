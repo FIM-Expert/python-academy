{
 "cells": [
  {
   "cell_type": "markdown",
   "metadata": {},
   "source": [
    "# pandas Foundations"
   ]
  },
  {
   "cell_type": "markdown",
   "metadata": {},
   "source": [
    "##### pandas DataFrames are the most widely used in-memory representation of complex data collections within Python"
   ]
  },
  {
   "cell_type": "markdown",
   "metadata": {},
   "source": [
    "## Data Ingestion and Inspection"
   ]
  },
  {
   "cell_type": "markdown",
   "metadata": {},
   "source": [
    "pandas DataFrame is a tabular data structure with labeled rows (index - tabled list of labels that permit fast look-up and relational operations) and columns  "
   ]
  },
  {
   "cell_type": "code",
   "execution_count": 3,
   "metadata": {},
   "outputs": [],
   "source": [
    "import pandas as pd\n",
    "df = pd.read_csv(\"./data/world_ind_pop_data.csv\", index_col=0)"
   ]
  },
  {
   "cell_type": "code",
   "execution_count": null,
   "metadata": {},
   "outputs": [],
   "source": [
    "print(type(df), \"\\n\")\n",
    "print(df.shape, \"\\n\")                # shape is an attribute of the dataframe object\n",
    "print(df.columns, \"\\n\")              # displays the labels of every column, this attribute is an index\n",
    "print(type(df.columns), \"\\n\")"
   ]
  },
  {
   "cell_type": "markdown",
   "metadata": {},
   "source": [
    "##### DataFrame slicing"
   ]
  },
  {
   "cell_type": "code",
   "execution_count": null,
   "metadata": {},
   "outputs": [],
   "source": [
    "df_slice1 = df.iloc[:5, :]      # returns the first five rows (index 0 - 4) and all columns\n",
    "print(df_slice1, \"\\n\")\n",
    "df_slice2 = df.iloc[-5:, :]      # returns the last five rows and all columns\n",
    "print(df_slice2)"
   ]
  },
  {
   "cell_type": "code",
   "execution_count": null,
   "metadata": {},
   "outputs": [],
   "source": [
    "df.head()"
   ]
  },
  {
   "cell_type": "code",
   "execution_count": null,
   "metadata": {},
   "outputs": [],
   "source": [
    "df.tail()"
   ]
  },
  {
   "cell_type": "code",
   "execution_count": 4,
   "metadata": {},
   "outputs": [
    {
     "name": "stdout",
     "output_type": "stream",
     "text": [
      "<class 'pandas.core.frame.DataFrame'>\n",
      "Index: 13374 entries, Arab World to Zimbabwe\n",
      "Data columns (total 4 columns):\n",
      "CountryCode                      13374 non-null object\n",
      "Year                             13374 non-null int64\n",
      "Total Population                 13374 non-null float64\n",
      "Urban population (% of total)    13374 non-null float64\n",
      "dtypes: float64(2), int64(1), object(1)\n",
      "memory usage: 522.4+ KB\n"
     ]
    }
   ],
   "source": [
    "df.info()"
   ]
  },
  {
   "cell_type": "markdown",
   "metadata": {},
   "source": [
    "#### pandas DataFrames are a collection of columns where each column is a pandas Series"
   ]
  },
  {
   "cell_type": "code",
   "execution_count": 15,
   "metadata": {},
   "outputs": [
    {
     "name": "stdout",
     "output_type": "stream",
     "text": [
      "CountryName\n",
      "Arab World                                 9.249590e+07\n",
      "Caribbean small states                     4.190810e+06\n",
      "Central Europe and the Baltics             9.140158e+07\n",
      "East Asia & Pacific (all income levels)    1.042475e+09\n",
      "East Asia & Pacific (developing only)      8.964930e+08\n",
      "                                               ...     \n",
      "Virgin Islands (U.S.)                      1.041700e+05\n",
      "West Bank and Gaza                         4.294682e+06\n",
      "Yemen, Rep.                                2.618368e+07\n",
      "Zambia                                     1.572134e+07\n",
      "Zimbabwe                                   1.524586e+07\n",
      "Name: Total Population, Length: 13374, dtype: float64 \n",
      "\n"
     ]
    }
   ],
   "source": [
    "sr_total_population = df[\"Total Population\"]\n",
    "print(sr_total_population, \"\\n\")                              # when you grab a single column from a dataframe a pandas series is returned\n",
    "\n",
    "df_total_population = df[[\"Total Population\"]]                # note that this is a pandas dataframe however"
   ]
  },
  {
   "cell_type": "code",
   "execution_count": 16,
   "metadata": {},
   "outputs": [],
   "source": [
    "total_population_values = sr_total_population.values          # a numpy array is returned"
   ]
  },
  {
   "cell_type": "code",
   "execution_count": 21,
   "metadata": {},
   "outputs": [],
   "source": [
    "import numpy as np\n",
    "sr_log10_total_population = np.log10(sr_total_population)     # we are applying log10 operation on all values in a pandas series\n",
    "df_log10_total_population = np.log10(df_total_population)     # we are applying log10 operation on all values in a pandas dataframe"
   ]
  },
  {
   "cell_type": "code",
   "execution_count": 30,
   "metadata": {
    "jupyter": {
     "source_hidden": true
    }
   },
   "outputs": [
    {
     "name": "stdout",
     "output_type": "stream",
     "text": [
      "sr_total_population has type <class 'pandas.core.series.Series'>\n",
      "df_total_population has type <class 'pandas.core.frame.DataFrame'>\n",
      "total_population_values has type <class 'numpy.ndarray'>\n",
      "sr_log10_total_population has type <class 'pandas.core.series.Series'>\n",
      "df_log10_total_population has type <class 'pandas.core.frame.DataFrame'>\n"
     ]
    }
   ],
   "source": [
    "object_types = [x + \" has type \" + str(type(eval(x))) for x in [\"sr_total_population\", \"df_total_population\", \"total_population_values\", \"sr_log10_total_population\", \"df_log10_total_population\"]]\n",
    "for ot in object_types:\n",
    "    print(ot)"
   ]
  },
  {
   "cell_type": "markdown",
   "metadata": {},
   "source": [
    "#### Constructing a pandas DataFrame from scratch"
   ]
  },
  {
   "cell_type": "code",
   "execution_count": 39,
   "metadata": {},
   "outputs": [
    {
     "name": "stdout",
     "output_type": "stream",
     "text": [
      "['Country', 'Medals'] \n",
      "\n",
      "[['United States', 'Soviet Union', 'United Kingdom'], [1118, 473, 273]] \n",
      "\n",
      "<zip object at 0x00000223AC8582C8> \n",
      "\n",
      "[('Country', ['United States', 'Soviet Union', 'United Kingdom']), ('Medals', [1118, 473, 273])] \n",
      "\n",
      "{'Country': ['United States', 'Soviet Union', 'United Kingdom'], 'Medals': [1118, 473, 273]} \n",
      "\n",
      "          Country  Medals\n",
      "0   United States    1118\n",
      "1    Soviet Union     473\n",
      "2  United Kingdom     273\n"
     ]
    }
   ],
   "source": [
    "list_keys = [\"Country\", \"Medals\"]                                           # this is a list of the column labels of the dataframe we are going to create\n",
    "list_countries = [\"United States\", \"Soviet Union\", \"United Kingdom\"]        # this is a list of values for the \"Country\" column\n",
    "list_medals = [1118, 473, 273]                                              # this is a list of values for the \"Medals\" column\n",
    "list_values = [list_countries, list_medals]\n",
    "\n",
    "print(list_keys, \"\\n\")\n",
    "print(list_values, \"\\n\")\n",
    "\n",
    "# create a zip object (this is a generator)\n",
    "data_zip = zip(list_keys, list_values)\n",
    "print(data_zip, \"\\n\")\n",
    "\n",
    "# convert a zip object into a list\n",
    "data_zip_list = list(data_zip)                # this is a list of key-value tuples\n",
    "print(data_zip_list, \"\\n\")\n",
    "\n",
    "# covert the list of tuples into a dictionary\n",
    "data_dict = dict(data_zip_list)\n",
    "print(data_dict, \"\\n\")\n",
    "\n",
    "# create a dataframe from the dict object\n",
    "df = pd.DataFrame(data)\n",
    "print(df)"
   ]
  },
  {
   "cell_type": "code",
   "execution_count": 40,
   "metadata": {},
   "outputs": [
    {
     "name": "stdout",
     "output_type": "stream",
     "text": [
      "          Country  Medals\n",
      "0   United States    1118\n",
      "1    Soviet Union     473\n",
      "2  United Kingdom     273 \n",
      "\n",
      "        countries  medals\n",
      "0   United States    1118\n",
      "1    Soviet Union     473\n",
      "2  United Kingdom     273\n"
     ]
    }
   ],
   "source": [
    "# renaming the columns in a dataframe\n",
    "print(df, \"\\n\")\n",
    "new_column_nanmes = [\"countries\", \"medals\"]\n",
    "df.columns = new_column_nanmes\n",
    "print(df)"
   ]
  },
  {
   "cell_type": "code",
   "execution_count": 41,
   "metadata": {},
   "outputs": [
    {
     "name": "stdout",
     "output_type": "stream",
     "text": [
      "        countries  medals  year\n",
      "0   United States    1118  2018\n",
      "1    Soviet Union     473  2018\n",
      "2  United Kingdom     273  2018\n"
     ]
    }
   ],
   "source": [
    "# broadcasting (adding a column to a dataframe)\n",
    "df[\"year\"] = 2018\n",
    "print(df)"
   ]
  },
  {
   "cell_type": "code",
   "execution_count": 45,
   "metadata": {},
   "outputs": [
    {
     "name": "stdout",
     "output_type": "stream",
     "text": [
      "                                                   The following stock data was collect on 2016-AUG-25 from an unknown source\n",
      "These kind of ocmments are not very useful                                                  are they?                        \n",
      "probably should just throw this line away too          but not the next since those are column labels                        \n",
      "name Jan Feb Mar Apr May Jun Jul Aug Sep Oct No...                                                NaN                        \n",
      "# So that line you just read has all the column...                                                NaN                        \n",
      "IBM 156.08 160.01 159.81 165.22 172.25 167.15 1...                                                NaN                        \n",
      "     name     Jan     Feb     Mar     Apr     May     Jun     Jul     Aug  \\\n",
      "0     IBM  156.08  160.01  159.81  165.22  172.25  167.15  164.75  152.77   \n",
      "1    MSFT   45.51   43.08   42.13   43.47   47.53   45.96   45.61   45.51   \n",
      "2  GOOGLE  512.42  537.99  559.72  540.50  535.24  532.92  590.09  636.84   \n",
      "3   APPLE  110.64  125.43  125.97  127.29  128.76  127.81  125.34  113.39   \n",
      "\n",
      "      Sep     Oct     Nov     Dec  \n",
      "0  145.36  146.11  137.21  137.96  \n",
      "1   43.56   48.70   53.88   55.40  \n",
      "2  617.93  663.59  735.39  755.35  \n",
      "3  112.80  113.36  118.16  111.73  \n"
     ]
    }
   ],
   "source": [
    "file_messy = \"./data/messy_stock_data.tsv\"\n",
    "file_clean_csv = \"./data/file_clean.csv\"\n",
    "file_clean_excel = \"./data/file_clean.xlsx\"\n",
    "\n",
    "df1 = pd.read_csv(file_messy)\n",
    "print(df1.head())\n",
    "\n",
    "df2 = pd.read_csv(file_messy, delimiter=\" \", header=3, comment=\"#\")\n",
    "print(df2.head())\n",
    "\n",
    "df2.to_csv(file_clean_csv, index=False)\n",
    "df2.to_excel(file_clean_excel, index=False)"
   ]
  },
  {
   "cell_type": "markdown",
   "metadata": {},
   "source": [
    "## Time Series in pandas"
   ]
  },
  {
   "cell_type": "code",
   "execution_count": 46,
   "metadata": {},
   "outputs": [
    {
     "name": "stdout",
     "output_type": "stream",
     "text": [
      "2010-01-12 06:00:00    50.2\n",
      "2010-01-12 07:00:00    50.3\n",
      "2010-01-12 08:00:00    49.8\n",
      "dtype: float64\n"
     ]
    }
   ],
   "source": [
    "temperature_list = [50.2, 50.3, 49.8]\n",
    "date_list = [\"20100112 06:00\", \"20100112 07:00\", \"20100112 08:00\"]\n",
    "\n",
    "time_format  = \"%Y-%m-%d %H:%M\"\n",
    "my_datetimes = pd.to_datetime(date_list, format=time_format)\n",
    "\n",
    "time_series = pd.Series(temperature_list, index=my_datetimes)\n",
    "\n",
    "print(time_series)"
   ]
  },
  {
   "cell_type": "code",
   "execution_count": 47,
   "metadata": {},
   "outputs": [],
   "source": [
    "import pandas as pd\n",
    "stock_file = \"./data/tech_stocks_monthly_data.csv\"\n",
    "stock_file_column_names = [\"ticker\", \"date\", \"close_price\", \"market_cap\", \"volume\"]\n",
    "stocks = pd.read_csv(stock_file, header=0, names=stock_file_column_names, index_col=\"date\", parse_dates=True)"
   ]
  },
  {
   "cell_type": "code",
   "execution_count": 49,
   "metadata": {},
   "outputs": [
    {
     "name": "stdout",
     "output_type": "stream",
     "text": [
      "<class 'pandas.core.frame.DataFrame'>\n",
      "DatetimeIndex: 18270 entries, 1990-12-31 to 2019-11-29\n",
      "Data columns (total 4 columns):\n",
      "ticker         18270 non-null object\n",
      "close_price    17878 non-null float64\n",
      "market_cap     18270 non-null object\n",
      "volume         18270 non-null object\n",
      "dtypes: float64(1), object(3)\n",
      "memory usage: 713.7+ KB\n"
     ]
    }
   ],
   "source": [
    "stocks.info()      # the stocks dataframe has a DatetimeIndex"
   ]
  },
  {
   "cell_type": "code",
   "execution_count": 53,
   "metadata": {},
   "outputs": [
    {
     "name": "stdout",
     "output_type": "stream",
     "text": [
      "           ticker  close_price  market_cap        volume\n",
      "date                                                    \n",
      "1992-01-31   MXIM       1.0439      351.3    49,438,400 \n",
      "1992-02-28   MXIM       1.0866      373.5    16,766,400 \n",
      "1992-03-31   MXIM       0.8351      287.1    38,395,200 \n",
      "1992-04-30   MXIM       1.0249      352.3    32,465,600 \n",
      "1992-05-29   MXIM       0.9015      315.8    25,286,400 \n",
      "...           ...          ...         ...           ...\n",
      "1992-08-31    MSI      18.7677   23,801.0    15,447,767 \n",
      "1992-09-30    MSI      19.3319   24,463.1    16,894,109 \n",
      "1992-10-30    MSI      21.1494   26,763.0    24,579,593 \n",
      "1992-11-30    MSI      22.6640   28,679.6    17,979,766 \n",
      "1992-12-31    MSI      23.0703   29,132.7    15,764,052 \n",
      "\n",
      "[392 rows x 4 columns]\n",
      "           ticker  close_price market_cap         volume\n",
      "date                                                    \n",
      "1998-01-30   MXIM      10.5146   4,501.7     69,706,200 \n",
      "1998-02-27   MXIM      12.2608   5,286.9     53,564,400 \n",
      "1998-03-31   MXIM      11.0651   4,771.3     69,824,600 \n",
      "1998-04-30   MXIM      12.2608   5,286.9     63,847,400 \n",
      "1998-05-29   MXIM      10.1351   4,377.3     57,007,000 \n",
      "...           ...          ...        ...            ...\n",
      "1998-02-27   CTXS       8.2305   1,725.9    124,125,600 \n",
      "1998-03-31   CTXS      10.6030   2,247.3    137,918,800 \n",
      "1998-04-30   CTXS      12.1562   2,576.5    109,933,600 \n",
      "1998-05-29   CTXS      10.2117   2,181.9     58,150,800 \n",
      "1998-06-30   CTXS      13.3792   2,858.7     99,598,000 \n",
      "\n",
      "[244 rows x 4 columns]\n",
      "           ticker  close_price market_cap         volume\n",
      "date                                                    \n",
      "1998-01-30   MXIM      10.5146   4,501.7     69,706,200 \n",
      "1998-02-27   MXIM      12.2608   5,286.9     53,564,400 \n",
      "1998-03-31   MXIM      11.0651   4,771.3     69,824,600 \n",
      "1998-04-30   MXIM      12.2608   5,286.9     63,847,400 \n",
      "1998-05-29   MXIM      10.1351   4,377.3     57,007,000 \n",
      "...           ...          ...        ...            ...\n",
      "1998-02-27   CTXS       8.2305   1,725.9    124,125,600 \n",
      "1998-03-31   CTXS      10.6030   2,247.3    137,918,800 \n",
      "1998-04-30   CTXS      12.1562   2,576.5    109,933,600 \n",
      "1998-05-29   CTXS      10.2117   2,181.9     58,150,800 \n",
      "1998-06-30   CTXS      13.3792   2,858.7     99,598,000 \n",
      "\n",
      "[244 rows x 4 columns]\n"
     ]
    }
   ],
   "source": [
    "# slice on a DatetimeIndex\n",
    "stocks_1992 = stocks[\"1992\"]\n",
    "print(stocks_1992)\n",
    "\n",
    "stocks_1998_first_half = stocks[\"1998-01\":\"1998-06\"]\n",
    "print(stocks_1998_first_half)\n",
    "\n",
    "stocks_1998_first_half2 = stocks.loc[\"1998-01\":\"1998-06\"]\n",
    "print(stocks_1998_first_half2)"
   ]
  },
  {
   "cell_type": "code",
   "execution_count": 79,
   "metadata": {},
   "outputs": [],
   "source": [
    "ts1 = pd.read_csv(\"./data/ts1.csv\", header=None, parse_dates=True, index_col=0)\n",
    "ts2 = pd.read_csv(\"./data/ts2.csv\", header=None, parse_dates=True, index_col=0)"
   ]
  },
  {
   "cell_type": "code",
   "execution_count": 80,
   "metadata": {},
   "outputs": [
    {
     "name": "stdout",
     "output_type": "stream",
     "text": [
      "             1\n",
      "0             \n",
      "2016-07-01   0\n",
      "2016-07-02   1\n",
      "2016-07-03   2\n",
      "2016-07-04   3\n",
      "2016-07-05   4\n",
      "2016-07-06   5\n",
      "2016-07-07   6\n",
      "2016-07-08   7\n",
      "2016-07-09   8\n",
      "2016-07-10   9\n",
      "2016-07-11  10\n",
      "2016-07-12  11\n",
      "2016-07-13  12\n",
      "2016-07-14  13\n",
      "2016-07-15  14\n",
      "2016-07-16  15\n",
      "2016-07-17  16\n",
      "             1\n",
      "0             \n",
      "2016-07-01   0\n",
      "2016-07-04   1\n",
      "2016-07-05   2\n",
      "2016-07-06   3\n",
      "2016-07-07   4\n",
      "2016-07-08   5\n",
      "2016-07-11   6\n",
      "2016-07-12   7\n",
      "2016-07-13   8\n",
      "2016-07-14   9\n",
      "2016-07-15  10\n"
     ]
    }
   ],
   "source": [
    "print(ts1)\n",
    "print(ts2)"
   ]
  },
  {
   "cell_type": "code",
   "execution_count": 88,
   "metadata": {},
   "outputs": [],
   "source": [
    "ts3 = ts2.reindex(ts1.index)\n",
    "ts4 = ts2.reindex(ts1.index, method=\"ffill\")\n",
    "ts5 = ts2.reindex(ts1.index, method=\"bfill\")"
   ]
  },
  {
   "cell_type": "code",
   "execution_count": 89,
   "metadata": {},
   "outputs": [
    {
     "name": "stdout",
     "output_type": "stream",
     "text": [
      "               1\n",
      "0               \n",
      "2016-07-01   0.0\n",
      "2016-07-02   NaN\n",
      "2016-07-03   NaN\n",
      "2016-07-04   1.0\n",
      "2016-07-05   2.0\n",
      "2016-07-06   3.0\n",
      "2016-07-07   4.0\n",
      "2016-07-08   5.0\n",
      "2016-07-09   NaN\n",
      "2016-07-10   NaN\n",
      "2016-07-11   6.0\n",
      "2016-07-12   7.0\n",
      "2016-07-13   8.0\n",
      "2016-07-14   9.0\n",
      "2016-07-15  10.0\n",
      "2016-07-16   NaN\n",
      "2016-07-17   NaN \n",
      "\n",
      "             1\n",
      "0             \n",
      "2016-07-01   0\n",
      "2016-07-02   0\n",
      "2016-07-03   0\n",
      "2016-07-04   1\n",
      "2016-07-05   2\n",
      "2016-07-06   3\n",
      "2016-07-07   4\n",
      "2016-07-08   5\n",
      "2016-07-09   5\n",
      "2016-07-10   5\n",
      "2016-07-11   6\n",
      "2016-07-12   7\n",
      "2016-07-13   8\n",
      "2016-07-14   9\n",
      "2016-07-15  10\n",
      "2016-07-16  10\n",
      "2016-07-17  10 \n",
      "\n",
      "               1\n",
      "0               \n",
      "2016-07-01   0.0\n",
      "2016-07-02   1.0\n",
      "2016-07-03   1.0\n",
      "2016-07-04   1.0\n",
      "2016-07-05   2.0\n",
      "2016-07-06   3.0\n",
      "2016-07-07   4.0\n",
      "2016-07-08   5.0\n",
      "2016-07-09   6.0\n",
      "2016-07-10   6.0\n",
      "2016-07-11   6.0\n",
      "2016-07-12   7.0\n",
      "2016-07-13   8.0\n",
      "2016-07-14   9.0\n",
      "2016-07-15  10.0\n",
      "2016-07-16   NaN\n",
      "2016-07-17   NaN \n",
      "\n"
     ]
    }
   ],
   "source": [
    "print(ts3, \"\\n\")\n",
    "print(ts4, \"\\n\")\n",
    "print(ts5, \"\\n\")"
   ]
  },
  {
   "cell_type": "code",
   "execution_count": 90,
   "metadata": {},
   "outputs": [
    {
     "name": "stdout",
     "output_type": "stream",
     "text": [
      "               1\n",
      "0               \n",
      "2016-07-01   0.0\n",
      "2016-07-02   NaN\n",
      "2016-07-03   NaN\n",
      "2016-07-04   4.0\n",
      "2016-07-05   6.0\n",
      "2016-07-06   8.0\n",
      "2016-07-07  10.0\n",
      "2016-07-08  12.0\n",
      "2016-07-09   NaN\n",
      "2016-07-10   NaN\n",
      "2016-07-11  16.0\n",
      "2016-07-12  18.0\n",
      "2016-07-13  20.0\n",
      "2016-07-14  22.0\n",
      "2016-07-15  24.0\n",
      "2016-07-16   NaN\n",
      "2016-07-17   NaN\n"
     ]
    }
   ],
   "source": [
    "\n",
    "print(sum12)"
   ]
  },
  {
   "cell_type": "code",
   "execution_count": 91,
   "metadata": {},
   "outputs": [
    {
     "name": "stdout",
     "output_type": "stream",
     "text": [
      "               1\n",
      "0               \n",
      "2016-07-01   0.0\n",
      "2016-07-02   NaN\n",
      "2016-07-03   NaN\n",
      "2016-07-04   4.0\n",
      "2016-07-05   6.0\n",
      "2016-07-06   8.0\n",
      "2016-07-07  10.0\n",
      "2016-07-08  12.0\n",
      "2016-07-09   NaN\n",
      "2016-07-10   NaN\n",
      "2016-07-11  16.0\n",
      "2016-07-12  18.0\n",
      "2016-07-13  20.0\n",
      "2016-07-14  22.0\n",
      "2016-07-15  24.0\n",
      "2016-07-16   NaN\n",
      "2016-07-17   NaN\n"
     ]
    }
   ],
   "source": [
    "sum13 = ts1 + ts3\n",
    "print(sum13)"
   ]
  },
  {
   "cell_type": "code",
   "execution_count": 93,
   "metadata": {},
   "outputs": [
    {
     "name": "stdout",
     "output_type": "stream",
     "text": [
      "             1\n",
      "0             \n",
      "2016-07-01   0\n",
      "2016-07-02   1\n",
      "2016-07-03   2\n",
      "2016-07-04   4\n",
      "2016-07-05   6\n",
      "2016-07-06   8\n",
      "2016-07-07  10\n",
      "2016-07-08  12\n",
      "2016-07-09  13\n",
      "2016-07-10  14\n",
      "2016-07-11  16\n",
      "2016-07-12  18\n",
      "2016-07-13  20\n",
      "2016-07-14  22\n",
      "2016-07-15  24\n",
      "2016-07-16  25\n",
      "2016-07-17  26\n"
     ]
    }
   ],
   "source": [
    "sum14 = ts1 + ts4\n",
    "print(sum14)"
   ]
  },
  {
   "cell_type": "code",
   "execution_count": null,
   "metadata": {},
   "outputs": [],
   "source": []
  }
 ],
 "metadata": {
  "kernelspec": {
   "display_name": "Python 3",
   "language": "python",
   "name": "python3"
  },
  "language_info": {
   "codemirror_mode": {
    "name": "ipython",
    "version": 3
   },
   "file_extension": ".py",
   "mimetype": "text/x-python",
   "name": "python",
   "nbconvert_exporter": "python",
   "pygments_lexer": "ipython3",
   "version": "3.7.4"
  }
 },
 "nbformat": 4,
 "nbformat_minor": 4
}
