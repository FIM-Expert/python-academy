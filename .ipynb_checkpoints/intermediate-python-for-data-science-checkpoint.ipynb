{
 "cells": [
  {
   "cell_type": "markdown",
   "metadata": {},
   "source": [
    "# Intermediate Python for Data Science"
   ]
  },
  {
   "cell_type": "markdown",
   "metadata": {},
   "source": [
    "## matplotlib"
   ]
  },
  {
   "cell_type": "markdown",
   "metadata": {},
   "source": [
    "import matplotlib.pyplot as plt\n",
    "\n",
    "##### Make a line plot: year on the x-axis, pop on the y-axis\n",
    "plt.plot(year, pop)\n",
    "\n",
    "##### Display the plot with plt.show()\n",
    "plt.show()"
   ]
  },
  {
   "cell_type": "code",
   "execution_count": null,
   "metadata": {},
   "outputs": [],
   "source": [
    "import numpy as np\n",
    "import pandas as pd\n",
    "import matplotlib.pyplot as plt\n",
    "\n",
    "data = pd.read_csv(\"./data/gapminder.csv\")\n",
    "gdp_cap = data[\"gdp_cap\"]\n",
    "life_exp = data[\"life_exp\"]\n",
    "pop = data[\"population\"]\n",
    "pop = pop / 1000000\n",
    "\n",
    "plt.scatter(gdp_cap, life_exp)\n",
    "\n",
    "# Put the x-axis on a logarithmic scale\n",
    "plt.xscale(\"log\")\n",
    "plt.show()\n",
    "\n",
    "plt.scatter(pop, life_exp)\n",
    "plt.show()\n",
    "\n",
    "plt.hist(life_exp, bins=5)\n",
    "plt.show()\n",
    "\n",
    "plt.hist(life_exp, bins=20)\n",
    "plt.show()\n",
    "plt.clf()"
   ]
  },
  {
   "cell_type": "code",
   "execution_count": null,
   "metadata": {},
   "outputs": [],
   "source": [
    "# Import numpy as np\n",
    "import numpy as np\n",
    "\n",
    "np_pop = np.array(pop)\n",
    "np_pop = np_pop * 2\n",
    "\n",
    "# Update: set s argument to np_pop\n",
    "plt.scatter(gdp_cap, life_exp, s=np_pop, alpha=0.8)   # s --> size,  c --> color,   alpha --> control opacity\n",
    "\n",
    "# Previous customizations\n",
    "plt.xscale('log') \n",
    "plt.xlabel('GDP per Capita [in USD]')\n",
    "plt.ylabel('Life Expectancy [in years]')\n",
    "plt.title('World Development in 2007')\n",
    "plt.xticks([1000, 10000, 100000],['1k', '10k', '100k'])\n",
    "\n",
    "plt.text(1550, 71, \"India\")\n",
    "plt.text(5700, 80, \"China\")\n",
    "\n",
    "plt.grid(True)\n",
    "\n",
    "# Display the plot\n",
    "plt.show()"
   ]
  },
  {
   "cell_type": "markdown",
   "metadata": {},
   "source": [
    "## Python Dictionaries"
   ]
  },
  {
   "cell_type": "code",
   "execution_count": null,
   "metadata": {},
   "outputs": [],
   "source": [
    "# Motivation for using dictionaries\n",
    "countries = ['spain', 'france', 'germany', 'norway']\n",
    "capitals = ['madrid', 'paris', 'berlin', 'oslo']\n",
    "\n",
    "# Get index of 'germany': ind_ger\n",
    "ind_ger = countries.index(\"germany\")\n",
    "\n",
    "# Use ind_ger to print out capital of Germany\n",
    "print(capitals[ind_ger])\n",
    "\n",
    "# the above method works but it is extremely clunky\n",
    "# a dictionary is a unordered collection of key-value pairs\n",
    "# the dictionary key has to be unique and an immutable object"
   ]
  },
  {
   "cell_type": "code",
   "execution_count": null,
   "metadata": {},
   "outputs": [],
   "source": [
    "# Create dictionary europe\n",
    "europe = {\"spain\":\"madrid\", \"france\":\"paris\", \"norway\":\"oslo\"}\n",
    "print(europe)"
   ]
  },
  {
   "cell_type": "code",
   "execution_count": null,
   "metadata": {},
   "outputs": [],
   "source": [
    "print(europe.keys())\n",
    "print(europe.values())\n",
    "print(europe[\"norway\"])"
   ]
  },
  {
   "cell_type": "code",
   "execution_count": null,
   "metadata": {},
   "outputs": [],
   "source": [
    "# manipulating dictionaries\n",
    "europe[\"italy\"] = \"rome\"   # this direct Python to add a new key-value pair since the key is not in the dictionary\n",
    "print(europe)\n",
    "europe[\"italy\"] = \"rome\"\n",
    "print(europe)\n",
    "print(\"italy\" in europe)   # asserts whether the \"italy\" key is in the dictionary\n",
    "europe[\"australia\"] = \"vienna\"\n",
    "europe[\"germany\"] = \"bonn\"\n",
    "print(europe)"
   ]
  },
  {
   "cell_type": "code",
   "execution_count": null,
   "metadata": {},
   "outputs": [],
   "source": [
    "# Update capital of germany\n",
    "europe[\"germany\"] = \"berlin\"\n",
    "\n",
    "# Remove australia\n",
    "del(europe[\"australia\"])\n",
    "\n",
    "print(europe)"
   ]
  },
  {
   "cell_type": "code",
   "execution_count": null,
   "metadata": {},
   "outputs": [],
   "source": [
    "# dictionary values can be complex hetergenous objects\n",
    "europe = {\"spain\":{\"capital\":\"madrid\", \"population\":46.77},\n",
    "          \"france\":{\"capital\":\"paris\", \"population\":66.03},\n",
    "          \"germany\":{\"capital\":\"berlin\", \"population\":80.62},\n",
    "          \"norway\":{\"capital\":\"oslo\", \"population\":5.084}}"
   ]
  },
  {
   "cell_type": "code",
   "execution_count": null,
   "metadata": {},
   "outputs": [],
   "source": [
    "# Print out the capital of France\n",
    "print(europe[\"france\"][\"capital\"])\n",
    "\n",
    "# Create sub-dictionary data\n",
    "data = {\"capital\":\"rome\", \"population\":59.83}\n",
    "\n",
    "# Add data to europe under key 'italy'\n",
    "europe[\"italy\"] = data\n",
    "\n",
    "print(europe)"
   ]
  },
  {
   "cell_type": "markdown",
   "metadata": {},
   "source": [
    "## pandas DataFrames"
   ]
  },
  {
   "cell_type": "markdown",
   "metadata": {},
   "source": [
    "##### pandas\n",
    "High level data manipulation tool built on numpy  \n",
    "pandas was developed by Wes McKinney\n"
   ]
  },
  {
   "cell_type": "code",
   "execution_count": null,
   "metadata": {},
   "outputs": [],
   "source": [
    "# Creating a dataframe from scratch using a Python dictionary\n",
    "names = ['United States', 'Australia', 'Japan', 'India', 'Russia', 'Morocco', 'Egypt']\n",
    "dr =  [True, False, False, False, True, True, True]\n",
    "cpc = [809, 731, 588, 18, 200, 70, 45]\n",
    "\n",
    "import pandas as pd\n",
    "\n",
    "# Create dictionary my_dict with three key:value pairs: my_dict\n",
    "my_dict = {\"country\": names, \"drives_right\": dr, \"cars_per_cap\": cpc}\n",
    "\n",
    "# Build a DataFrame cars from my_dict: cars\n",
    "cars = pd.DataFrame(my_dict)\n",
    "\n",
    "# Print cars\n",
    "print(cars)\n",
    "\n",
    "# Notice that in the cars DF, the DF has be assigned a default integer index"
   ]
  },
  {
   "cell_type": "code",
   "execution_count": null,
   "metadata": {},
   "outputs": [],
   "source": [
    "# change the index of a dataframe\n",
    "row_labels = ['US', 'AUS', 'JPN', 'IN', 'RU', 'MOR', 'EG']\n",
    "cars.index = row_labels\n",
    "print(cars)   # the integer index has been replaced by the row_labels (notice there is now name for the index)"
   ]
  },
  {
   "cell_type": "code",
   "execution_count": null,
   "metadata": {},
   "outputs": [],
   "source": [
    "# importing data from an external source (e.g. csv file) into a dataframe\n",
    "\n",
    "import pandas as pd\n",
    "cars = pd.read_csv(\".\\data\\cars.csv\")\n",
    "print(cars)"
   ]
  },
  {
   "cell_type": "code",
   "execution_count": null,
   "metadata": {},
   "outputs": [],
   "source": [
    "# assign an index column when importing data\n",
    "import pandas as pd\n",
    "cars = pd.read_csv(\".\\data\\cars.csv\", index_col=0)\n",
    "print(cars)"
   ]
  },
  {
   "cell_type": "markdown",
   "metadata": {},
   "source": [
    "#### Slicing pandas dataframes"
   ]
  },
  {
   "cell_type": "code",
   "execution_count": null,
   "metadata": {},
   "outputs": [],
   "source": [
    "import pandas as pd\n",
    "cars = pd.read_csv(\".\\data\\cars.csv\", index_col=0)\n",
    "\n",
    "# extract a single column from a dataframe as a pandas series\n",
    "cars_country_sr = cars[\"country\"]\n",
    "print(cars_country_sr)\n",
    "print(type(cars_country_sr))\n",
    "\n",
    "# extract a single column from a dataframe as a pandas series\n",
    "cars_country_df = cars[[\"country\"]]\n",
    "print(cars_country_df)\n",
    "print(type(cars_country_df))\n",
    "\n",
    "cars_multicolumn = cars[[\"country\", \"drives_right\"]]\n",
    "print(cars_multicolumn)\n",
    "\n",
    "# print out first 3 observations\n",
    "cars_first_three_rows = cars[0:3]\n",
    "print(cars_first_three_rows)\n",
    "\n",
    "# print out fourth, fifth and sixth observation\n",
    "cars_middle_rows = cars[3:6]\n",
    "print(cars_middle_rows)"
   ]
  },
  {
   "cell_type": "code",
   "execution_count": null,
   "metadata": {},
   "outputs": [],
   "source": [
    "# more slicing with .loc() and .iloc()\n",
    "cars_russia_row = cars.loc[\"RU\"]\n",
    "print(cars_russia_row)\n",
    "print(type(cars_russia_row))\n",
    "print(cars_russia_row.shape)   # pay attention to the type and shape of the resulting object\n",
    "\n",
    "cars_russia_row = cars.iloc[4]\n",
    "print(cars_russia_row)\n",
    "\n",
    "cars_japan_row = cars.loc[[\"JAP\"]]\n",
    "print(cars_japan_row)\n",
    "print(type(cars_japan_row))\n",
    "print(cars_japan_row.shape)   # pay attention to the type and shape of the resulting object\n",
    "\n",
    "cars_japan_row = cars.iloc[[2]]\n",
    "print(cars_japan_row)\n",
    "print(type(cars_japan_row))\n",
    "print(cars_japan_row.shape)   # pay attention to the type and shape of the resulting object\n",
    "\n",
    "cars_australia_egypt = cars.loc[[\"AUS\", \"EG\"]]\n",
    "print(cars_australia_egypt)\n",
    "\n",
    "cars_australia_egypt = cars.iloc[[1, 6]]\n",
    "print(cars_australia_egypt)"
   ]
  },
  {
   "cell_type": "code",
   "execution_count": null,
   "metadata": {
    "jupyter": {
     "source_hidden": true
    }
   },
   "outputs": [],
   "source": [
    "# slicing rows and columns with .loc() and .iloc()\n",
    "slice1 = cars.loc[\"MOR\", \"drives_right\"]\n",
    "print(slice1)\n",
    "print(type(slice1))\n",
    "\n",
    "slice1a = cars.iloc[5, 2]\n",
    "print(slice1a)\n",
    "print(type(slice1a))\n",
    "\n",
    "slice1b = cars.loc[[\"MOR\"], [\"drives_right\"]]\n",
    "print(slice1b)\n",
    "print(type(slice1b))\n",
    "\n",
    "slice1c = cars.iloc[[5], [2]]\n",
    "print(slice1c)\n",
    "print(type(slice1c))\n",
    "\n",
    "slice2 = cars.loc[[\"RU\", \"MOR\"], [\"country\", \"drives_right\"]]\n",
    "print(slice2)\n",
    "\n",
    "slice2a = cars.iloc[[4, 5], [1, 2]]\n",
    "print(slice2a)\n",
    "\n",
    "# there is a hybrid slicing method --> .ix()"
   ]
  },
  {
   "cell_type": "code",
   "execution_count": null,
   "metadata": {},
   "outputs": [],
   "source": [
    "# slicing entire columns or rows with .loc() and .iloc()\n",
    "slice_entire_drives_right_column_sr = cars.loc[:, \"drives_right\"]\n",
    "print(slice_entire_drives_right_column_sr)\n",
    "print(type(slice_entire_drives_right_column_sr))\n",
    "\n",
    "slice_entire_drives_right_column_sr = cars.iloc[:, 2]\n",
    "print(slice_entire_drives_right_column_sr)\n",
    "print(type(slice_entire_drives_right_column_sr))\n",
    "\n",
    "slice_entire_drives_right_column_df = cars.loc[:, [\"drives_right\"]]\n",
    "print(slice_entire_drives_right_column_df)\n",
    "print(type(slice_entire_drives_right_column_df))\n",
    "\n",
    "slice_entire_multicolumns_df = cars.loc[:, [\"cars_per_cap\", \"drives_right\"]]\n",
    "print(slice_entire_multicolumns_df)"
   ]
  },
  {
   "cell_type": "markdown",
   "metadata": {},
   "source": [
    "#### Comparison Operations"
   ]
  },
  {
   "cell_type": "code",
   "execution_count": null,
   "metadata": {},
   "outputs": [],
   "source": [
    "print(True == False)\n",
    "print(-5 * 15 != 75)\n",
    "print(\"pyscript\" == \"PyScript\")\n",
    "print(True == 1)\n",
    "\n",
    "x = -3 * 6\n",
    "print(x >= -10)\n",
    "\n",
    "y = \"test\"\n",
    "print(\"test\" <= y)\n",
    "\n",
    "print(True > False)"
   ]
  },
  {
   "cell_type": "code",
   "execution_count": null,
   "metadata": {},
   "outputs": [],
   "source": [
    "# compare two numpy arrays\n",
    "\n",
    "import numpy as np\n",
    "my_house = np.array([18.0, 20.0, 10.75, 9.50])\n",
    "your_house = np.array([14.0, 24.0, 14.25, 9.0])\n",
    "\n",
    "# my_house greater than or equal to 18\n",
    "print(my_house >= 18)\n",
    "\n",
    "# my_house less than your_house\n",
    "print(my_house < your_house)"
   ]
  },
  {
   "cell_type": "markdown",
   "metadata": {},
   "source": [
    "#### Boolean Operators (and, or, not)"
   ]
  },
  {
   "cell_type": "code",
   "execution_count": null,
   "metadata": {},
   "outputs": [],
   "source": [
    "my_kitchen = 18.0\n",
    "your_kitchen = 14.0\n",
    "\n",
    "# my_kitchen bigger than 10 and smaller than 18?\n",
    "print(my_kitchen > 10 and my_kitchen < 18)\n",
    "\n",
    "# my_kitchen smaller than 14 or bigger than 17?\n",
    "print(my_kitchen < 14 or my_kitchen > 17)\n",
    "\n",
    "# Double my_kitchen smaller than triple your_kitchen?\n",
    "print(2*my_kitchen < 3*your_kitchen)\n",
    "\n",
    "# not operator\n",
    "print(not(my_kitchen > 10))"
   ]
  },
  {
   "cell_type": "code",
   "execution_count": null,
   "metadata": {},
   "outputs": [],
   "source": [
    "# boolean operators with numpy arrays\n",
    "import numpy as np\n",
    "my_house = np.array([18.0, 20.0, 10.75, 9.50])\n",
    "your_house = np.array([14.0, 24.0, 14.25, 9.0])\n",
    "\n",
    "# my_house greater than 18.5 or smaller than 10   --> this does an element-wise boolean comparison\n",
    "print(np.logical_or(my_house > 18.5, my_house < 10))\n",
    "\n",
    "# Both my_house and your_house smaller than 11\n",
    "print(np.logical_and(my_house < 11, your_house < 11))"
   ]
  },
  {
   "cell_type": "code",
   "execution_count": null,
   "metadata": {},
   "outputs": [],
   "source": [
    "room = \"kit\"\n",
    "area = 14.0\n",
    "\n",
    "if room == \"kit\":\n",
    "    print(\"looking around in the kitchen.\")\n",
    "\n",
    "if area > 15:\n",
    "    print(\"big place!\")"
   ]
  },
  {
   "cell_type": "code",
   "execution_count": null,
   "metadata": {},
   "outputs": [],
   "source": [
    "room = \"kit\"\n",
    "area = 14.0\n",
    "\n",
    "if room == \"kit\":\n",
    "    print(\"looking around in the kitchen.\")\n",
    "else :\n",
    "    print(\"looking around elsewhere.\")\n",
    "\n",
    "if area > 15:\n",
    "    print(\"big place!\")\n",
    "else:\n",
    "    print(\"pretty small.\")"
   ]
  },
  {
   "cell_type": "code",
   "execution_count": null,
   "metadata": {},
   "outputs": [],
   "source": [
    "room = \"bed\"\n",
    "area = 14.0\n",
    "\n",
    "if room == \"kit\":\n",
    "    print(\"looking around in the kitchen.\")\n",
    "elif room == \"bed\":\n",
    "    print(\"looking around in the bedroom.\")\n",
    "else:\n",
    "    print(\"looking around elsewhere.\")\n",
    "\n",
    "if area > 15:\n",
    "    print(\"big place!\")\n",
    "elif area > 10:\n",
    "    print(\"medium size, nice!\")\n",
    "else:\n",
    "    print(\"pretty small.\")"
   ]
  },
  {
   "cell_type": "code",
   "execution_count": null,
   "metadata": {
    "jupyter": {
     "source_hidden": true
    }
   },
   "outputs": [],
   "source": [
    "import pandas as pd\n",
    "cars = pd.read_csv(\"./data/cars.csv\", index_col = 0)\n",
    "print(cars)\n",
    "\n",
    "dr = cars[\"drives_right\"]      # extract drives_right column as pandas series: dr\n",
    "sel = cars[dr]                 # use dr to subset cars: sel\n",
    "\n",
    "print(sel)\n",
    "\n",
    "sel2 = cars[cars[\"drives_right\"]]      # this only works because the column \"drives_right\" is a boolean column\n",
    "                                       # when the column is not a boolean you have to use boolean operators to generate a boolean series\n",
    "\n",
    "print(sel2)"
   ]
  },
  {
   "cell_type": "code",
   "execution_count": null,
   "metadata": {},
   "outputs": [],
   "source": [
    "import pandas as pd\n",
    "cars = pd.read_csv(\"./data/cars.csv\", index_col = 0)\n",
    "\n",
    "cpc = cars[\"cars_per_cap\"]       # this extracts cars_per_cap as a pandas series\n",
    "many_cars = cpc > 500            # this creats a boolean series that meets the logical condition\n",
    "car_manaic = cars[many_cars]     # this filters the cars dataframe based on the boolean mask applied\n",
    "print(car_manaic)\n",
    "\n",
    "car_maniac2 = cars[cars[\"cars_per_cap\"] > 500]      # same thing as above but compressed into a one-liner\n",
    "print(car_maniac2)"
   ]
  },
  {
   "cell_type": "code",
   "execution_count": null,
   "metadata": {},
   "outputs": [],
   "source": [
    "import pandas as pd\n",
    "import numpy as np\n",
    "cars = pd.read_csv(\"./data/cars.csv\", index_col = 0)\n",
    "\n",
    "# Create medium: observations with cars_per_cap between 100 and 500\n",
    "medium = cars[np.logical_and(cars[\"cars_per_cap\"] > 100, cars[\"cars_per_cap\"] < 500)]\n",
    "\n",
    "# A more expressive version of the one-linear above\n",
    "cpc = cars[\"cars_per_cap\"]\n",
    "medium1 = cars[np.logical_and(cpc > 100, cpc < 500)]\n",
    "\n",
    "# Print medium\n",
    "print(medium1)"
   ]
  },
  {
   "cell_type": "code",
   "execution_count": null,
   "metadata": {},
   "outputs": [],
   "source": [
    "# While loop syntax\n",
    "offset = 1\n",
    "# Code the while loop\n",
    "while offset != 0 :\n",
    "    print(\"correcting...\")\n",
    "    if offset > 1 :\n",
    "      offset -= 1\n",
    "    else : \n",
    "      offset += 1    \n",
    "    print(offset)"
   ]
  },
  {
   "cell_type": "code",
   "execution_count": 1,
   "metadata": {},
   "outputs": [
    {
     "name": "stdout",
     "output_type": "stream",
     "text": [
      "11.25\n",
      "18.0\n",
      "20.0\n",
      "10.75\n",
      "9.5\n"
     ]
    }
   ],
   "source": [
    "# For loop syntax\n",
    "areas = [11.25, 18.0, 20.0, 10.75, 9.50]\n",
    "\n",
    "for a in areas:          # areas is an iterable object\n",
    "    print(a)"
   ]
  },
  {
   "cell_type": "code",
   "execution_count": 7,
   "metadata": {},
   "outputs": [
    {
     "name": "stdout",
     "output_type": "stream",
     "text": [
      "room  0 :  11.25\n",
      "room  1 :  18.0\n",
      "room  2 :  20.0\n",
      "room  3 :  10.75\n",
      "room  4 :  9.5\n"
     ]
    }
   ],
   "source": [
    "areas = [11.25, 18.0, 20.0, 10.75, 9.50]\n",
    "\n",
    "for i, a in enumerate(areas) :                    # enumerate gives you access to the index of the list (works for tuples as well)\n",
    "    print(\"room \", str(i), \": \", str(a))"
   ]
  },
  {
   "cell_type": "code",
   "execution_count": 8,
   "metadata": {},
   "outputs": [
    {
     "name": "stdout",
     "output_type": "stream",
     "text": [
      "the hallway is 11.25 sqm\n",
      "the kitchen is 18.0 sqm\n",
      "the living room is 20.0 sqm\n",
      "the bedroom is 10.75 sqm\n",
      "the bathroom is 9.5 sqm\n"
     ]
    }
   ],
   "source": [
    "house = [[\"hallway\", 11.25], \n",
    "         [\"kitchen\", 18.0], \n",
    "         [\"living room\", 20.0], \n",
    "         [\"bedroom\", 10.75], \n",
    "         [\"bathroom\", 9.50]]\n",
    "         \n",
    "# iterating over a list of list (can you iterate over a dictonary?)\n",
    "for room in house:\n",
    "    print(\"the\", room[0], \"is\", str(room[1]), \"sqm\")"
   ]
  },
  {
   "cell_type": "code",
   "execution_count": 1,
   "metadata": {},
   "outputs": [
    {
     "name": "stdout",
     "output_type": "stream",
     "text": [
      "the capital of spain is madrid\n",
      "the capital of france is paris\n",
      "the capital of germany is berlin\n",
      "the capital of norway is oslo\n",
      "the capital of italy is rome\n",
      "the capital of poland is warsaw\n",
      "the capital of austria is vienna\n"
     ]
    }
   ],
   "source": [
    "europe = {'spain':'madrid', 'france':'paris', 'germany':'berlin',\n",
    "          'norway':'oslo', 'italy':'rome', 'poland':'warsaw', 'austria':'vienna' }\n",
    "          \n",
    "# iterate over europe and get access to the key-value pairs by applying the .items() method of the dictionary\n",
    "for k, v in europe.items():\n",
    "    print(\"the capital of\", k, \"is\", v)\n",
    "    \n",
    "# notice that the output is not in the same order as the dictionary construction\n",
    "# this is becuase dictionary are unordered"
   ]
  },
  {
   "cell_type": "code",
   "execution_count": 7,
   "metadata": {},
   "outputs": [
    {
     "name": "stdout",
     "output_type": "stream",
     "text": [
      "451\n",
      "451\n"
     ]
    }
   ],
   "source": [
    "import numpy as np\n",
    "height_in = [75, 70, 72, 77, 79, 78]\n",
    "np_height_in = np.array(height_in)\n",
    "\n",
    "height_array_summed = 0\n",
    "height_list_summed = 0\n",
    "\n",
    "# iterate over a 1D numpy array\n",
    "for i in np_height_in:\n",
    "    height_array_summed +=  i\n",
    "    \n",
    "# iterate over a list\n",
    "for i in height_in:\n",
    "    height_list_summed +=  i    \n",
    "\n",
    "print(height_array_summed)\n",
    "print(height_list_summed)"
   ]
  },
  {
   "cell_type": "code",
   "execution_count": 10,
   "metadata": {},
   "outputs": [
    {
     "name": "stdout",
     "output_type": "stream",
     "text": [
      "[1.73 1.68 1.71 1.89 1.79]\n",
      "[65.4 59.2 63.6 88.4 68.7]\n",
      "[[ 1.73  1.68  1.71  1.89  1.79]\n",
      " [65.4  59.2  63.6  88.4  68.7 ]]\n",
      "[[ 1.73 65.4 ]\n",
      " [ 1.68 59.2 ]\n",
      " [ 1.71 63.6 ]\n",
      " [ 1.89 88.4 ]\n",
      " [ 1.79 68.7 ]]\n"
     ]
    }
   ],
   "source": [
    "import numpy as np\n",
    "height = [1.73, 1.68, 1.71, 1.89, 1.79]\n",
    "np_height = np.array(height)\n",
    "weight = [65.4, 59.2, 63.6, 88.4, 68.7]\n",
    "np_weight = np.array(weight)\n",
    "\n",
    "np_baseball_rw = np.array([np_height, np_weight])          # row-wise\n",
    "np_baseball_cw = np.column_stack((np_height, np_weight))   # column-wise\n",
    "\n",
    "print(np_height)\n",
    "print(np_weight)\n",
    "print(np_baseball_rw)\n",
    "print(np_baseball_cw)"
   ]
  },
  {
   "cell_type": "code",
   "execution_count": 13,
   "metadata": {},
   "outputs": [
    {
     "name": "stdout",
     "output_type": "stream",
     "text": [
      "1.73 meters\n",
      "1.68 meters\n",
      "1.71 meters\n",
      "1.89 meters\n",
      "1.79 meters\n"
     ]
    }
   ],
   "source": [
    "for i in np_height:\n",
    "    print(str(i) + \" meters\")"
   ]
  },
  {
   "cell_type": "code",
   "execution_count": 14,
   "metadata": {},
   "outputs": [
    {
     "name": "stdout",
     "output_type": "stream",
     "text": [
      "65.4 kgs\n",
      "59.2 kgs\n",
      "63.6 kgs\n",
      "88.4 kgs\n",
      "68.7 kgs\n"
     ]
    }
   ],
   "source": [
    "for i in np_weight:\n",
    "    print(str(i) + \" kgs\")"
   ]
  },
  {
   "cell_type": "markdown",
   "metadata": {},
   "source": [
    "for i in np_baseball_rw:\n",
    "    print(i)\n",
    "    \n",
    "for i in np.nditer(np_baseball_rw):\n",
    "    print(i)"
   ]
  },
  {
   "cell_type": "code",
   "execution_count": 17,
   "metadata": {},
   "outputs": [
    {
     "name": "stdout",
     "output_type": "stream",
     "text": [
      "[ 1.73 65.4 ]\n",
      "[ 1.68 59.2 ]\n",
      "[ 1.71 63.6 ]\n",
      "[ 1.89 88.4 ]\n",
      "[ 1.79 68.7 ]\n",
      "1.73\n",
      "65.4\n",
      "1.68\n",
      "59.2\n",
      "1.71\n",
      "63.6\n",
      "1.89\n",
      "88.4\n",
      "1.79\n",
      "68.7\n"
     ]
    }
   ],
   "source": [
    "for i in np_baseball_cw:\n",
    "    print(i)\n",
    "    \n",
    "for i in np.nditer(np_baseball_cw):\n",
    "    print(i)"
   ]
  },
  {
   "cell_type": "markdown",
   "metadata": {},
   "source": [
    "#### Iterating over a pandas dataframe"
   ]
  },
  {
   "cell_type": "code",
   "execution_count": 24,
   "metadata": {
    "collapsed": true,
    "jupyter": {
     "outputs_hidden": true
    }
   },
   "outputs": [
    {
     "name": "stdout",
     "output_type": "stream",
     "text": [
      "     cars_per_cap        country  drives_right\n",
      "US            809  United States          True\n",
      "AUS           731      Australia         False\n",
      "JAP           588          Japan         False\n",
      "IN             18          India         False\n",
      "RU            200         Russia          True\n",
      "MOR            70        Morocco          True\n",
      "EG             45          Egypt          True \n",
      "\n",
      "US\n",
      "cars_per_cap              809\n",
      "country         United States\n",
      "drives_right             True\n",
      "Name: US, dtype: object\n",
      "AUS\n",
      "cars_per_cap          731\n",
      "country         Australia\n",
      "drives_right        False\n",
      "Name: AUS, dtype: object\n",
      "JAP\n",
      "cars_per_cap      588\n",
      "country         Japan\n",
      "drives_right    False\n",
      "Name: JAP, dtype: object\n",
      "IN\n",
      "cars_per_cap       18\n",
      "country         India\n",
      "drives_right    False\n",
      "Name: IN, dtype: object\n",
      "RU\n",
      "cars_per_cap       200\n",
      "country         Russia\n",
      "drives_right      True\n",
      "Name: RU, dtype: object\n",
      "MOR\n",
      "cars_per_cap         70\n",
      "country         Morocco\n",
      "drives_right       True\n",
      "Name: MOR, dtype: object\n",
      "EG\n",
      "cars_per_cap       45\n",
      "country         Egypt\n",
      "drives_right     True\n",
      "Name: EG, dtype: object\n"
     ]
    }
   ],
   "source": [
    "import pandas as pd\n",
    "cars = pd.read_csv(\"./data/cars.csv\", index_col = 0)\n",
    "\n",
    "print(cars, \"\\n\")\n",
    "\n",
    "for row_label, row in cars.iterrows():\n",
    "    print(row_label)          # this is a string object\n",
    "    print(row)          # this is a pandas series"
   ]
  },
  {
   "cell_type": "code",
   "execution_count": 29,
   "metadata": {},
   "outputs": [
    {
     "name": "stdout",
     "output_type": "stream",
     "text": [
      "US: 809\n",
      "AUS: 731\n",
      "JAP: 588\n",
      "IN: 18\n",
      "RU: 200\n",
      "MOR: 70\n",
      "EG: 45\n",
      "\n",
      "\n",
      "US: 809\n",
      "AUS: 731\n",
      "JAP: 588\n",
      "IN: 18\n",
      "RU: 200\n",
      "MOR: 70\n",
      "EG: 45\n"
     ]
    }
   ],
   "source": [
    "import pandas as pd\n",
    "cars = pd.read_csv(\"./data/cars.csv\", index_col = 0)\n",
    "\n",
    "for row_label, row in cars.iterrows() :\n",
    "    print(row_label, \": \", str(row[\"cars_per_cap\"]), sep=\"\")\n",
    "\n",
    "print(\"\\n\")\n",
    "    \n",
    "for row_label, row in cars.iterrows() :\n",
    "    print(row_label, \": \", str(row[0]), sep=\"\")"
   ]
  },
  {
   "cell_type": "code",
   "execution_count": 40,
   "metadata": {
    "collapsed": true,
    "jupyter": {
     "outputs_hidden": true
    }
   },
   "outputs": [
    {
     "name": "stdout",
     "output_type": "stream",
     "text": [
      "     cars_per_cap        country  drives_right country_all_caps\n",
      "US            809  United States          True    UNITED STATES\n",
      "AUS           731      Australia         False        AUSTRALIA\n",
      "JAP           588          Japan         False            JAPAN\n",
      "IN             18          India         False            INDIA\n",
      "RU            200         Russia          True           RUSSIA\n",
      "MOR            70        Morocco          True          MOROCCO\n",
      "EG             45          Egypt          True            EGYPT \n",
      "\n",
      "     cars_per_cap        country  drives_right country_all_caps\n",
      "US            809  United States          True    UNITED STATES\n",
      "AUS           731      Australia         False        AUSTRALIA\n",
      "JAP           588          Japan         False            JAPAN\n",
      "IN             18          India         False            INDIA\n",
      "RU            200         Russia          True           RUSSIA\n",
      "MOR            70        Morocco          True          MOROCCO\n",
      "EG             45          Egypt          True            EGYPT\n"
     ]
    }
   ],
   "source": [
    "import pandas as pd\n",
    "cars = pd.read_csv(\"./data/cars.csv\", index_col = 0)\n",
    "cars2 = pd.read_csv(\"./data/cars.csv\", index_col = 0)\n",
    "\n",
    "for row_label, row in cars.iterrows():\n",
    "    cars.loc[row_label, \"country_all_caps\"] = row[\"country\"].upper()\n",
    "\n",
    "print(cars, \"\\n\")\n",
    "\n",
    "# a more effcient way of adding a column to a pandas dataframe\n",
    "cars2[\"country_all_caps\"] = cars2[\"country\"].apply(str.upper)\n",
    "print(cars2)"
   ]
  },
  {
   "cell_type": "markdown",
   "metadata": {},
   "source": [
    "#### Hacker Statistics"
   ]
  },
  {
   "cell_type": "code",
   "execution_count": 42,
   "metadata": {},
   "outputs": [
    {
     "name": "stdout",
     "output_type": "stream",
     "text": [
      "0.6964691855978616\n"
     ]
    }
   ],
   "source": [
    "import numpy as np\n",
    "np.random.seed(123)                    # set the seed - this ensure reproducibility\n",
    "random_number = np.random.rand()       # denerate and print random float\n",
    "print(random_number)"
   ]
  },
  {
   "cell_type": "code",
   "execution_count": 43,
   "metadata": {},
   "outputs": [
    {
     "name": "stdout",
     "output_type": "stream",
     "text": [
      "6\n",
      "3\n"
     ]
    }
   ],
   "source": [
    "# Roll the Bones\n",
    "import numpy as np\n",
    "np.random.seed(123)\n",
    "\n",
    "dice_roll1 = np.random.randint(1, 7)      # this is inclusive of 1 but not inclusive of 7\n",
    "print(dice_roll1)\n",
    "\n",
    "dice_roll2 = np.random.randint(1, 7)\n",
    "print(dice_roll2)"
   ]
  },
  {
   "cell_type": "code",
   "execution_count": 44,
   "metadata": {},
   "outputs": [
    {
     "name": "stdout",
     "output_type": "stream",
     "text": [
      "You rolled:  6  and are now on floor  53\n"
     ]
    }
   ],
   "source": [
    "import numpy as np\n",
    "np.random.seed(123)  \n",
    "\n",
    "floor = 50                     # currently on floor 50 of the Empire State Building\n",
    "\n",
    "dice = np.random.randint(1, 7)\n",
    "\n",
    "if dice <= 2:\n",
    "    floor -= 1\n",
    "elif dice >=3 and dice <=5:\n",
    "    floor += 1\n",
    "else:\n",
    "    floor += np.random.randint(1,7)\n",
    "\n",
    "print(\"You rolled: \", str(dice), \" and are now on floor \", str(floor))"
   ]
  },
  {
   "cell_type": "code",
   "execution_count": 50,
   "metadata": {},
   "outputs": [
    {
     "name": "stdout",
     "output_type": "stream",
     "text": [
      "[0, 3, 4, 5, 4, 5, 6, 7, 6, 5, 4, 3, 2, 1, 0, 0, 1, 6, 5, 4, 5, 4, 5, 6, 7, 8, 9, 8, 9, 8, 9, 10, 11, 12, 11, 15, 16, 15, 16, 15, 16, 17, 18, 19, 20, 21, 22, 25, 26, 27, 28, 33, 34, 38, 39, 38, 39, 40, 39, 40, 41, 43, 44, 45, 44, 43, 44, 45, 44, 43, 44, 45, 47, 46, 45, 46, 45, 46, 47, 48, 50, 49, 50, 51, 52, 53, 54, 53, 52, 53, 52, 53, 54, 53, 56, 57, 58, 59, 58, 59, 60]\n"
     ]
    },
    {
     "data": {
      "image/png": "[encoded data removed]",
      "text/plain": [
       "<Figure size 432x288 with 1 Axes>"
      ]
     },
     "metadata": {
      "needs_background": "light"
     },
     "output_type": "display_data"
    }
   ],
   "source": [
    "import numpy as np\n",
    "import matplotlib.pyplot as plt\n",
    "%matplotlib inline\n",
    "\n",
    "np.random.seed(123)\n",
    "\n",
    "random_walk = [0]\n",
    "\n",
    "for x in range(100) :\n",
    "    step = random_walk[-1]\n",
    "\n",
    "    dice = np.random.randint(1,7)\n",
    "\n",
    "    if dice <= 2:\n",
    "        step = max(0, step - 1)\n",
    "    elif dice <= 5:\n",
    "        step += 1\n",
    "    else:\n",
    "        step += np.random.randint(1,7)\n",
    "\n",
    "    random_walk.append(step)\n",
    "\n",
    "print(random_walk)\n",
    "\n",
    "plt.plot(random_walk)\n",
    "plt.show()"
   ]
  },
  {
   "cell_type": "code",
   "execution_count": 56,
   "metadata": {},
   "outputs": [
    {
     "data": {
      "image/png": "[encoded data removed]",
      "text/plain": [
       "<Figure size 432x288 with 1 Axes>"
      ]
     },
     "metadata": {
      "needs_background": "light"
     },
     "output_type": "display_data"
    }
   ],
   "source": [
    "import numpy as np\n",
    "import matplotlib.pyplot as plt\n",
    "%matplotlib inline\n",
    "\n",
    "np.random.seed(123)\n",
    "\n",
    "all_walks = []\n",
    "\n",
    "for i in range(250):\n",
    "    random_walk = [0]\n",
    "    for x in range(100) :\n",
    "        step = random_walk[-1]\n",
    "        dice = np.random.randint(1,7)\n",
    "\n",
    "        if dice <= 2:\n",
    "            step = max(0, step - 1)\n",
    "        elif dice <= 5:\n",
    "            step = step + 1\n",
    "        else:\n",
    "            step = step + np.random.randint(1,7)\n",
    "\n",
    "        if np.random.rand() <= 0.001:\n",
    "            step = 0\n",
    "            \n",
    "        random_walk.append(step)\n",
    "\n",
    "    all_walks.append(random_walk)\n",
    "\n",
    "np_all_walks = np.array(all_walks)\n",
    "np_all_walks_transpose = np.transpose(np_all_walks)\n",
    "\n",
    "plt.plot(np_all_walks_transpose)\n",
    "plt.show()"
   ]
  },
  {
   "cell_type": "code",
   "execution_count": 64,
   "metadata": {},
   "outputs": [
    {
     "data": {
      "image/png": "[encoded data removed]",
      "text/plain": [
       "<Figure size 432x288 with 1 Axes>"
      ]
     },
     "metadata": {
      "needs_background": "light"
     },
     "output_type": "display_data"
    },
    {
     "name": "stdout",
     "output_type": "stream",
     "text": [
      "0.784\n"
     ]
    }
   ],
   "source": [
    "import numpy as np\n",
    "import matplotlib.pyplot as plt\n",
    "%matplotlib inline\n",
    "\n",
    "np.random.seed(123)\n",
    "\n",
    "all_walks = []\n",
    "\n",
    "for i in range(500):\n",
    "    random_walk = [0]\n",
    "    for x in range(100) :\n",
    "        step = random_walk[-1]\n",
    "        dice = np.random.randint(1,7)\n",
    "\n",
    "        if dice <= 2:\n",
    "            step = max(0, step - 1)\n",
    "        elif dice <= 5:\n",
    "            step = step + 1\n",
    "        else:\n",
    "            step = step + np.random.randint(1,7)\n",
    "\n",
    "        if np.random.rand() <= 0.001:\n",
    "            step = 0\n",
    "            \n",
    "        random_walk.append(step)\n",
    "\n",
    "    all_walks.append(random_walk)\n",
    "\n",
    "np_all_walks = np.array(all_walks)\n",
    "np_all_walks_transpose = np.transpose(np_all_walks)\n",
    "\n",
    "endpoints = np_all_walks_transpose[-1, :]\n",
    "\n",
    "plt.hist(endpoints)\n",
    "plt.show()\n",
    "\n",
    "probability_60 = sum(endpoints >= 60) / 500\n",
    "print(probability_60)"
   ]
  }
 ],
 "metadata": {
  "kernelspec": {
   "display_name": "Python 3",
   "language": "python",
   "name": "python3"
  },
  "language_info": {
   "codemirror_mode": {
    "name": "ipython",
    "version": 3
   },
   "file_extension": ".py",
   "mimetype": "text/x-python",
   "name": "python",
   "nbconvert_exporter": "python",
   "pygments_lexer": "ipython3",
   "version": "3.7.4"
  }
 },
 "nbformat": 4,
 "nbformat_minor": 4
}
