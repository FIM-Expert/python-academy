{
 "cells": [
  {
   "cell_type": "markdown",
   "metadata": {},
   "source": [
    "##### Import libraries and implement magic functions"
   ]
  },
  {
   "cell_type": "code",
   "execution_count": null,
   "metadata": {
    "jupyter": {
     "source_hidden": true
    }
   },
   "outputs": [],
   "source": [
    "import numpy as np\n",
    "import pandas as pd\n",
    "%matplotlib inline"
   ]
  },
  {
   "cell_type": "markdown",
   "metadata": {},
   "source": [
    "##### Instantiate a list object --> list_o = [element_1, element_2, ..., element_n]"
   ]
  },
  {
   "cell_type": "code",
   "execution_count": null,
   "metadata": {
    "jupyter": {
     "source_hidden": true
    }
   },
   "outputs": [],
   "source": [
    "prices_a = [8.70, 8.91, 8.71]\n",
    "print(\"prices_a: \", prices_a)"
   ]
  },
  {
   "cell_type": "markdown",
   "metadata": {},
   "source": [
    "##### Diplay the type of the object --> type()"
   ]
  },
  {
   "cell_type": "code",
   "execution_count": null,
   "metadata": {
    "jupyter": {
     "source_hidden": true
    }
   },
   "outputs": [],
   "source": [
    "print(\"prices_a is of type: \", type(prices_a))"
   ]
  },
  {
   "cell_type": "markdown",
   "metadata": {},
   "source": [
    "##### Use square brackets [ ] on lists in order to slice the list"
   ]
  },
  {
   "cell_type": "code",
   "execution_count": null,
   "metadata": {
    "jupyter": {
     "source_hidden": true
    }
   },
   "outputs": [],
   "source": [
    "print(\"slice: prices_a[1:] --> \", prices_a[1:])\n",
    "print(\"slice: prices_a[:-1] --> \", prices_a[:-1])"
   ]
  },
  {
   "cell_type": "markdown",
   "metadata": {},
   "source": [
    "##### Code does not work in Python because you cannot perform element-wise math operations on lists"
   ]
  },
  {
   "cell_type": "code",
   "execution_count": null,
   "metadata": {
    "jupyter": {
     "source_hidden": true
    }
   },
   "outputs": [],
   "source": [
    "prices_a[1:] / prices_a[:-1] - 1"
   ]
  },
  {
   "cell_type": "markdown",
   "metadata": {},
   "source": [
    "##### Generate a numpy array (arrays are vectors) from a list"
   ]
  },
  {
   "cell_type": "code",
   "execution_count": null,
   "metadata": {
    "jupyter": {
     "source_hidden": true
    }
   },
   "outputs": [],
   "source": [
    "prices_a = np.array([8.70, 8.91, 8.71])\n",
    "print(\"prices_a: \", prices_a)\n",
    "print(\"prices_a is of type: \", type(prices_a))\n",
    "prices_a     # notice the difference in output between print(prices_a) and simply displaying prices_a"
   ]
  },
  {
   "cell_type": "markdown",
   "metadata": {},
   "source": [
    "##### Code below works because you can perform element-wise math operations on numpy arrays"
   ]
  },
  {
   "cell_type": "code",
   "execution_count": null,
   "metadata": {
    "jupyter": {
     "source_hidden": true
    }
   },
   "outputs": [],
   "source": [
    "returns = prices_a[1:] / prices_a[:-1] - 1\n",
    "print(returns)\n",
    "print(type(returns))"
   ]
  },
  {
   "cell_type": "markdown",
   "metadata": {},
   "source": [
    "##### Instantiate a dictionary object (object utilizes key-value pairs)"
   ]
  },
  {
   "cell_type": "code",
   "execution_count": null,
   "metadata": {
    "jupyter": {
     "source_hidden": true
    }
   },
   "outputs": [],
   "source": [
    "prices_dict = {\"BLUE\": [8.70, 8.91, 8.71, 8.43, 8.73],             \n",
    "               \"ORANGE\": [10.66, 11.08, 10.71, 11.59, 12.11]}\n",
    "\n",
    "print(\"prices_dict: \", prices_dict)\n",
    "print(\"prices_dict is of type: \", type(prices_dict))"
   ]
  },
  {
   "cell_type": "markdown",
   "metadata": {},
   "source": [
    "##### Generate a pandas dataframe from a dictionary - notice an integer index is created automatically when the dataframe is created"
   ]
  },
  {
   "cell_type": "code",
   "execution_count": null,
   "metadata": {
    "jupyter": {
     "source_hidden": true
    }
   },
   "outputs": [],
   "source": [
    "prices = pd.DataFrame(prices_dict)\n",
    "print(prices)\n",
    "print(\"prices is of type: \", type(prices))"
   ]
  },
  {
   "cell_type": "markdown",
   "metadata": {},
   "source": [
    "##### Slicing a dataframe using iloc (index location) - this gets all the columns for the sliced rows"
   ]
  },
  {
   "cell_type": "code",
   "execution_count": null,
   "metadata": {
    "jupyter": {
     "source_hidden": true
    }
   },
   "outputs": [],
   "source": [
    "print(prices.iloc[1:], \"\\n\")                                        \n",
    "print(prices.iloc[:-1])"
   ]
  },
  {
   "cell_type": "markdown",
   "metadata": {},
   "source": [
    "##### The code below yields incorrect results because dataframe index alignment results in misaligned numerators / denominators"
   ]
  },
  {
   "cell_type": "code",
   "execution_count": null,
   "metadata": {
    "jupyter": {
     "source_hidden": true
    }
   },
   "outputs": [],
   "source": [
    "prices.iloc[1:] / prices.iloc[:-1]"
   ]
  },
  {
   "cell_type": "markdown",
   "metadata": {},
   "source": [
    "##### Convert a dataframe into a numpy array - this obliterates the dataframe index"
   ]
  },
  {
   "cell_type": "code",
   "execution_count": null,
   "metadata": {
    "jupyter": {
     "source_hidden": true
    }
   },
   "outputs": [],
   "source": [
    "nd_prices = prices.values\n",
    "print(nd_prices)\n",
    "print(type(nd_prices))"
   ]
  },
  {
   "cell_type": "markdown",
   "metadata": {},
   "source": [
    "##### Code below works because index alignment has been eliminated after recasting of the dataframe into a numpy array"
   ]
  },
  {
   "cell_type": "code",
   "execution_count": null,
   "metadata": {
    "jupyter": {
     "source_hidden": true
    }
   },
   "outputs": [],
   "source": [
    "price_growth = prices.iloc[1:].values / prices.iloc[:-1]\n",
    "print(price_growth)\n",
    "print(type(price_growth))"
   ]
  },
  {
   "cell_type": "markdown",
   "metadata": {},
   "source": [
    "##### Substracting 1 is *broadcasted* element-wise across the entire dataframe and results in daily returns"
   ]
  },
  {
   "cell_type": "code",
   "execution_count": null,
   "metadata": {
    "jupyter": {
     "source_hidden": true
    }
   },
   "outputs": [],
   "source": [
    "price_return = price_growth - 1\n",
    "print(price_return)"
   ]
  },
  {
   "cell_type": "markdown",
   "metadata": {},
   "source": [
    "##### Another approach to calculating daily returns using the .shift() method"
   ]
  },
  {
   "cell_type": "code",
   "execution_count": null,
   "metadata": {
    "jupyter": {
     "source_hidden": true
    }
   },
   "outputs": [],
   "source": [
    "price_return = prices / prices.shift(1) - 1\n",
    "print(price_return)"
   ]
  },
  {
   "cell_type": "markdown",
   "metadata": {},
   "source": [
    "##### Another approach to calculating daily returns using the .pct_change() method"
   ]
  },
  {
   "cell_type": "code",
   "execution_count": null,
   "metadata": {
    "jupyter": {
     "source_hidden": true
    }
   },
   "outputs": [],
   "source": [
    "price_return = prices.pct_change()\n",
    "print(price_return)"
   ]
  },
  {
   "cell_type": "markdown",
   "metadata": {},
   "source": [
    "##### Read a csv file into a dataframe using pandas.read_csv()"
   ]
  },
  {
   "cell_type": "code",
   "execution_count": null,
   "metadata": {
    "jupyter": {
     "source_hidden": true
    }
   },
   "outputs": [],
   "source": [
    "prices = pd.read_csv(\"./data/sample_prices.csv\")\n",
    "returns = prices.pct_change()\n",
    "\n",
    "print(prices, \"\\n\")\n",
    "print(returns)"
   ]
  },
  {
   "cell_type": "markdown",
   "metadata": {},
   "source": [
    "##### Generate returns with chained functions and methods"
   ]
  },
  {
   "cell_type": "code",
   "execution_count": null,
   "metadata": {
    "jupyter": {
     "source_hidden": true
    }
   },
   "outputs": [],
   "source": [
    "returns = pd.read_csv(\"./data/sample_prices.csv\").pct_change().dropna()\n",
    "print(returns)"
   ]
  },
  {
   "cell_type": "markdown",
   "metadata": {},
   "source": [
    "##### Under the hood pandas leverages matplotlib by inheriting its methods  "
   ]
  },
  {
   "cell_type": "code",
   "execution_count": null,
   "metadata": {
    "jupyter": {
     "source_hidden": true
    }
   },
   "outputs": [],
   "source": [
    "prices.plot()\n",
    "returns.plot.bar()"
   ]
  },
  {
   "cell_type": "markdown",
   "metadata": {},
   "source": [
    "##### Calculating std() and mean() on a column-wise basis (generates a pandas series)"
   ]
  },
  {
   "cell_type": "code",
   "execution_count": null,
   "metadata": {
    "jupyter": {
     "source_hidden": true
    }
   },
   "outputs": [],
   "source": [
    "print(\"column-wise standard deviation: \\n\", returns.std(), \"\\n\")\n",
    "print(\"column-wise mean: \\n\",returns.mean(), \"\\n\")"
   ]
  },
  {
   "cell_type": "markdown",
   "metadata": {},
   "source": [
    "##### Calculating cumulative returns over entire horizon"
   ]
  },
  {
   "cell_type": "code",
   "execution_count": null,
   "metadata": {
    "jupyter": {
     "source_hidden": true
    }
   },
   "outputs": [],
   "source": [
    "returns_p1 = 1 + returns"
   ]
  },
  {
   "cell_type": "markdown",
   "metadata": {},
   "source": [
    "##### Approach 1 --> numpy function prod() on a column-wise basis (generates a pandas series)"
   ]
  },
  {
   "cell_type": "code",
   "execution_count": null,
   "metadata": {
    "jupyter": {
     "source_hidden": true
    }
   },
   "outputs": [],
   "source": [
    "cum_return = np.prod(returns_p1) - 1\n",
    "print(cum_return)"
   ]
  },
  {
   "cell_type": "markdown",
   "metadata": {},
   "source": [
    "##### Approach 2 --> dataframe method .prod() on a column-wise basis (generates a pandas series)"
   ]
  },
  {
   "cell_type": "code",
   "execution_count": null,
   "metadata": {
    "jupyter": {
     "source_hidden": true
    }
   },
   "outputs": [],
   "source": [
    "cum_return = returns_p1.prod() - 1\n",
    "print(cum_return)"
   ]
  },
  {
   "cell_type": "markdown",
   "metadata": {},
   "source": [
    "##### Formatting using .round() method"
   ]
  },
  {
   "cell_type": "code",
   "execution_count": null,
   "metadata": {
    "jupyter": {
     "source_hidden": true
    }
   },
   "outputs": [],
   "source": [
    "cum_return_formatted = (((1 + returns).prod() - 1) * 100).round(2)\n",
    "print(cum_return_formatted)"
   ]
  },
  {
   "cell_type": "markdown",
   "metadata": {},
   "source": [
    "##### Long-Form calculation of standard deviation"
   ]
  },
  {
   "cell_type": "code",
   "execution_count": null,
   "metadata": {
    "jupyter": {
     "source_hidden": true
    }
   },
   "outputs": [],
   "source": [
    "returns = pd.read_csv(\"./data/sample_prices.csv\").pct_change().dropna()\n",
    "\n",
    "print(\"returns dataframe: \\n\", returns, \"\\n\")\n",
    "print(\"column-wise mean returns series: \\n\", returns.mean(), \"\\n\")\n",
    "print(\"column-wise returns standard deviaton series: \\n\", returns.std())"
   ]
  },
  {
   "cell_type": "code",
   "execution_count": null,
   "metadata": {
    "jupyter": {
     "source_hidden": true
    }
   },
   "outputs": [],
   "source": [
    "deviations = returns - returns.mean()\n",
    "print(\"column-wise deviations: returns - returns.mean() --> \\n\", deviations)"
   ]
  },
  {
   "cell_type": "code",
   "execution_count": null,
   "metadata": {
    "jupyter": {
     "source_hidden": true
    }
   },
   "outputs": [],
   "source": [
    "# broadcasting squaring operation element-wise across entire dataframe\n",
    "squared_deviations = deviations ** 2\n",
    "print(\"squared deviations: deviations ** 2 --> \\n\", squared_deviations)"
   ]
  },
  {
   "cell_type": "code",
   "execution_count": null,
   "metadata": {
    "jupyter": {
     "source_hidden": true
    }
   },
   "outputs": [],
   "source": [
    "variance = squared_deviations.mean()\n",
    "print(\"column-wise returns variance series: \\n\", variance)"
   ]
  },
  {
   "cell_type": "code",
   "execution_count": null,
   "metadata": {
    "jupyter": {
     "source_hidden": true
    }
   },
   "outputs": [],
   "source": [
    "volatility = variance ** 0.5\n",
    "print(\"returns standard deviation (a.k.a. volatility) series: \\n\", volatility, \"\\n\")\n",
    "print(\"variance ** 0.5  <==o==> numpy.sqrt(variance)\")\n",
    "print(\"note that this long-form derived standard deviations does not match the .std() method results\")"
   ]
  },
  {
   "cell_type": "code",
   "execution_count": null,
   "metadata": {
    "jupyter": {
     "source_hidden": true
    }
   },
   "outputs": [],
   "source": [
    "print(\"the .shape attribute of the returns dataframe returns a tuple: \", returns.shape, \"\\n\")"
   ]
  },
  {
   "cell_type": "code",
   "execution_count": null,
   "metadata": {
    "jupyter": {
     "source_hidden": true
    }
   },
   "outputs": [],
   "source": [
    "number_of_obs = returns.shape[0]\n",
    "print(\"grab the first element from the tuple using the [ ] operator: returns.shape[0] --> \", number_of_obs)"
   ]
  },
  {
   "cell_type": "code",
   "execution_count": null,
   "metadata": {
    "jupyter": {
     "source_hidden": true
    }
   },
   "outputs": [],
   "source": [
    "variance = squared_deviations.sum() / (number_of_obs - 1)\n",
    "volatility = np.sqrt(variance)\n",
    "print(\"volatility series using number of observatons minus 1 in the denominator: \\n\", volatility, \"\\n\")\n",
    "print(\"now the long-form derived standard deviations matches the .std() method results\", \"\\n\")\n",
    "print(\"annualized volatility: volatility * numpy.sqrt(12) --> \\n\", volatility * np.sqrt(12))"
   ]
  },
  {
   "cell_type": "code",
   "execution_count": null,
   "metadata": {
    "jupyter": {
     "source_hidden": true
    }
   },
   "outputs": [],
   "source": []
  },
  {
   "cell_type": "markdown",
   "metadata": {},
   "source": [
    "##### Using pandas.read_csv() with more parameters"
   ]
  },
  {
   "cell_type": "code",
   "execution_count": null,
   "metadata": {
    "jupyter": {
     "source_hidden": true
    }
   },
   "outputs": [],
   "source": [
    "returns = pd.read_csv(\"./data/Portfolios_Formed_on_ME_monthly_EW.csv\",\n",
    "                      header=0,\n",
    "                      index_col=0,\n",
    "                      parse_dates=True,\n",
    "                      na_values=-99.99)\n",
    "\n",
    "returns.head()"
   ]
  },
  {
   "cell_type": "markdown",
   "metadata": {},
   "source": [
    "##### Filter out columns that we don't care about"
   ]
  },
  {
   "cell_type": "code",
   "execution_count": null,
   "metadata": {
    "jupyter": {
     "source_hidden": true
    }
   },
   "outputs": [],
   "source": [
    "cols = [\"Lo 10\", \"Hi 10\"]\n",
    "returns = returns[cols]\n",
    "print(\"returns = returns[cols] <-- cols is a list \\n\")\n",
    "returns.head()"
   ]
  },
  {
   "cell_type": "code",
   "execution_count": null,
   "metadata": {
    "jupyter": {
     "source_hidden": true
    }
   },
   "outputs": [],
   "source": [
    "returns = returns / 100\n",
    "returns.head()"
   ]
  },
  {
   "cell_type": "markdown",
   "metadata": {},
   "source": [
    "##### Rename dataframe columns by reassigning values to the dataframe .columns attribute"
   ]
  },
  {
   "cell_type": "code",
   "execution_count": null,
   "metadata": {
    "jupyter": {
     "source_hidden": true
    }
   },
   "outputs": [],
   "source": [
    "returns.columns = [\"SmallCap\", \"LargeCap\"]\n",
    "returns.head()"
   ]
  },
  {
   "cell_type": "code",
   "execution_count": null,
   "metadata": {
    "jupyter": {
     "source_hidden": true
    }
   },
   "outputs": [],
   "source": [
    "returns.plot()"
   ]
  },
  {
   "cell_type": "code",
   "execution_count": null,
   "metadata": {
    "jupyter": {
     "source_hidden": true
    }
   },
   "outputs": [],
   "source": [
    "print(\"Volatility of monthly returns: \\n\", returns.std())"
   ]
  },
  {
   "cell_type": "code",
   "execution_count": null,
   "metadata": {
    "jupyter": {
     "source_hidden": true
    }
   },
   "outputs": [],
   "source": [
    "annualized_volatility = returns.std() * np.sqrt(12)\n",
    "print(\"Annualized volatility of monthly returns: \\n\", returns.std() * np.sqrt(12))"
   ]
  },
  {
   "cell_type": "code",
   "execution_count": null,
   "metadata": {
    "jupyter": {
     "source_hidden": true
    }
   },
   "outputs": [],
   "source": [
    "n_months = returns.shape[0]\n",
    "return_per_month = (1 + returns).prod() ** (1 / n_months) - 1\n",
    "print(\"Return per month -->\")\n",
    "return_per_month"
   ]
  },
  {
   "cell_type": "code",
   "execution_count": null,
   "metadata": {
    "jupyter": {
     "source_hidden": true
    }
   },
   "outputs": [],
   "source": [
    "annualized_return = (1 + return_per_month) ** 12 - 1\n",
    "print(\"Annualized return -->\")\n",
    "annualized_return"
   ]
  },
  {
   "cell_type": "markdown",
   "metadata": {},
   "source": [
    "##### Calculating annualized returns using more compact mathematics"
   ]
  },
  {
   "cell_type": "code",
   "execution_count": null,
   "metadata": {
    "jupyter": {
     "source_hidden": true
    }
   },
   "outputs": [],
   "source": [
    "annualized_returns = (1 + returns).prod() ** (12 / n_months) - 1\n",
    "print(\"Annualized return by using compact mathematics -->\")\n",
    "annualized_return"
   ]
  },
  {
   "cell_type": "markdown",
   "metadata": {},
   "source": [
    "##### Calculate the Sharpe-Ratio"
   ]
  },
  {
   "cell_type": "code",
   "execution_count": null,
   "metadata": {
    "jupyter": {
     "source_hidden": true
    }
   },
   "outputs": [],
   "source": [
    "sharpe_ratio = annualized_return / annualized_volatility\n",
    "print(\"Sharpe-Ratio: annualized_return / annualized_volatility\")\n",
    "print(sharpe_ratio)"
   ]
  },
  {
   "cell_type": "markdown",
   "metadata": {},
   "source": [
    "##### Incorporating the risk-free rate into the Sharpe-Ratio"
   ]
  },
  {
   "cell_type": "code",
   "execution_count": null,
   "metadata": {
    "jupyter": {
     "source_hidden": true
    }
   },
   "outputs": [],
   "source": [
    "riskfree_rate = 0.03\n",
    "excess_return = annualized_return - riskfree_rate\n",
    "sharpe_ratio = excess_return / annualized_volatility\n",
    "print(\"Sharpe-Ratio adjusted for risk-free rate: \")\n",
    "sharpe_ratio"
   ]
  },
  {
   "cell_type": "code",
   "execution_count": null,
   "metadata": {
    "jupyter": {
     "source_hidden": true
    }
   },
   "outputs": [],
   "source": []
  }
 ],
 "metadata": {
  "kernelspec": {
   "display_name": "Python 3",
   "language": "python",
   "name": "python3"
  },
  "language_info": {
   "codemirror_mode": {
    "name": "ipython",
    "version": 3
   },
   "file_extension": ".py",
   "mimetype": "text/x-python",
   "name": "python",
   "nbconvert_exporter": "python",
   "pygments_lexer": "ipython3",
   "version": "3.7.4"
  }
 },
 "nbformat": 4,
 "nbformat_minor": 4
}
