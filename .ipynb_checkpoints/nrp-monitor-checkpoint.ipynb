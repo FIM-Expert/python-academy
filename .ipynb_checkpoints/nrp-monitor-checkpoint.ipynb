{
 "cells": [
  {
   "cell_type": "markdown",
   "metadata": {},
   "source": [
    "# <span style=\"color:maroon\">**NRP Monitor Software**</span>"
   ]
  },
  {
   "cell_type": "markdown",
   "metadata": {},
   "source": [
    "###### <span style=\"color:green\">**Import modules and define utility functions**</span>"
   ]
  },
  {
   "cell_type": "code",
   "execution_count": 1,
   "metadata": {},
   "outputs": [],
   "source": [
    "import pandas as pd\n",
    "import glob"
   ]
  },
  {
   "cell_type": "code",
   "execution_count": 2,
   "metadata": {},
   "outputs": [],
   "source": [
    "# Utility Functions\n",
    "def combine_dataframes(pattern, names, index_col, na_values, header=1, parse_dates=True, ignore_index=True):\n",
    "    # creates a list of file pointers matching the pattern\n",
    "    files = glob.glob(pattern)                        \n",
    "    frames = []\n",
    "   \n",
    "    # iterate through each file pointer\n",
    "    for f in files:\n",
    "    \n",
    "        # loads file into dataframe variable: df\n",
    "        df = pd.read_csv(f, names=names, index_col=index_col, na_values=na_values,\n",
    "                         header=header, parse_dates=parse_dates)                           \n",
    "        \n",
    "        # adds dataframe from df into list: frames\n",
    "        frames.append(df)  \n",
    "    \n",
    "    # concatenate all dataframes in frames into a single dataframe\n",
    "    return pd.concat(frames, ignore_index=ignore_index)    \n",
    "\n",
    "def df_eda(df):\n",
    "    print(df.head(), \"\\n\")\n",
    "    print(df.tail(), \"\\n\")\n",
    "    print(df.shape, \"\\n\")\n",
    "    print(df.columns, \"\\n\")\n",
    "    print(df.info(), \"\\n\")\n",
    "    print(df.dtypes, \"\\n\")\n",
    "    print(df.describe())"
   ]
  },
  {
   "cell_type": "code",
   "execution_count": 3,
   "metadata": {},
   "outputs": [],
   "source": [
    "# load daily manager data into a dataframe: mgr_data\n",
    "col_names = [\"date\", \"manager\", \"profit\", \"flow\", \"equity_sod\", \"roe\"]\n",
    "mgr_data = combine_dataframes(\"./data/manager_data.csv\", names=col_names, index_col=\"date\", na_values=\" #N/A N/A \", ignore_index=False)\n",
    "\n",
    "# pivot mgr_data into a tidy dataframes for all data columns\n",
    "profits = pd.pivot_table(mgr_data, values=\"profit\", index=\"date\", columns=\"manager\")\n",
    "flows = pd.pivot_table(mgr_data, values=\"flow\", index=\"date\", columns=\"manager\")\n",
    "equity_sod = pd.pivot_table(mgr_data, values=\"equity_sod\", index=\"date\", columns=\"manager\")\n",
    "roes = pd.pivot_table(mgr_data, values=\"roe\", index=\"date\", columns=\"manager\")"
   ]
  },
  {
   "cell_type": "markdown",
   "metadata": {},
   "source": [
    "#### <span style=\"color:green\">**Exploratory Data Analysis**</span>"
   ]
  },
  {
   "cell_type": "code",
   "execution_count": 4,
   "metadata": {
    "collapsed": true,
    "jupyter": {
     "outputs_hidden": true
    }
   },
   "outputs": [
    {
     "name": "stdout",
     "output_type": "stream",
     "text": [
      "manager     Anthony  Anuj         Bart  Bill        Chip      Dave E  \\\n",
      "date                                                                   \n",
      "2013-01-01      NaN   NaN          NaN   NaN         NaN         NaN   \n",
      "2013-01-02      NaN   NaN      1628.51   NaN  4163333.65  3441953.74   \n",
      "2013-01-03      NaN   NaN -16929803.63   NaN   -75765.41 -2443353.06   \n",
      "2013-01-04      NaN   NaN   4053566.99   NaN  2109927.98  2744626.48   \n",
      "2013-01-07      NaN   NaN    513862.38   NaN -1550574.94 -1612212.07   \n",
      "\n",
      "manager             Ed  John  Kevin  Marc        Mike          PAR  \\\n",
      "date                                                                 \n",
      "2013-01-01         NaN   NaN    NaN   NaN         NaN         0.00   \n",
      "2013-01-02  2343918.45   NaN    NaN   NaN  2762256.96  29013715.61   \n",
      "2013-01-03  1158426.35   NaN    NaN   NaN    91146.84  -7308219.82   \n",
      "2013-01-04  8962800.87   NaN    NaN   NaN   766563.84  27189575.04   \n",
      "2013-01-07  1707778.43   NaN    NaN   NaN -1011591.09   2572684.81   \n",
      "\n",
      "manager            Paul  Paul O        Rick  Sean  Tyler  Will  \n",
      "date                                                            \n",
      "2013-01-01          NaN     NaN         NaN   NaN    NaN   NaN  \n",
      "2013-01-02  12342130.09     NaN  3958494.21   NaN    NaN   NaN  \n",
      "2013-01-03   8108240.36     NaN  2782888.73   NaN    NaN   NaN  \n",
      "2013-01-04   6558341.16     NaN  1993747.72   NaN    NaN   NaN  \n",
      "2013-01-07   2417951.19     NaN  2107470.91   NaN    NaN   NaN   \n",
      "\n",
      "manager        Anthony  Anuj        Bart  Bill  Chip  Dave E        Ed  \\\n",
      "date                                                                     \n",
      "2019-11-05  3930511.76   NaN  1564807.70   NaN   NaN     NaN  25383.91   \n",
      "2019-11-06   187796.10   NaN  8553529.42   NaN   NaN     NaN  -4833.27   \n",
      "2019-11-07  -147541.34   NaN -1628423.74   NaN   NaN     NaN  11710.82   \n",
      "2019-11-08  1953623.71   NaN   935530.78   NaN   NaN     NaN   9327.43   \n",
      "2019-11-11    84130.65   NaN  -353211.98   NaN   NaN     NaN  -8218.06   \n",
      "\n",
      "manager            John       Kevin       Marc        Mike           PAR  \\\n",
      "date                                                                       \n",
      "2019-11-05  -4305941.06   936335.55    18270.0   -82715.71  1.086075e+07   \n",
      "2019-11-06  -1697023.66  1492603.44  1599340.0 -4531566.87  3.119155e+07   \n",
      "2019-11-07 -32774133.35  -284049.84   215070.0   776358.51 -3.161993e+08   \n",
      "2019-11-08  15271901.88   178829.25  -161780.0    83107.85  5.162145e+07   \n",
      "2019-11-11  -2178835.13  -125701.24   176220.0   510672.09 -1.832994e+07   \n",
      "\n",
      "manager             Paul  Paul O  Rick  Sean       Tyler  Will  \n",
      "date                                                            \n",
      "2019-11-05  5.921646e+06     NaN   NaN   NaN   2852448.0   NaN  \n",
      "2019-11-06  1.613309e+06     NaN   NaN   NaN  23978391.0   NaN  \n",
      "2019-11-07 -2.784462e+08     NaN   NaN   NaN  -3922116.0   NaN  \n",
      "2019-11-08  3.138985e+07     NaN   NaN   NaN   1961058.0   NaN  \n",
      "2019-11-11 -1.518705e+07     NaN   NaN   NaN  -1247946.0   NaN   \n",
      "\n",
      "(1735, 18) \n",
      "\n",
      "Index(['Anthony', 'Anuj', 'Bart', 'Bill', 'Chip', 'Dave E', 'Ed', 'John',\n",
      "       'Kevin', 'Marc', 'Mike', 'PAR', 'Paul', 'Paul O', 'Rick', 'Sean',\n",
      "       'Tyler', 'Will'],\n",
      "      dtype='object', name='manager') \n",
      "\n",
      "<class 'pandas.core.frame.DataFrame'>\n",
      "DatetimeIndex: 1735 entries, 2013-01-01 to 2019-11-11\n",
      "Data columns (total 18 columns):\n",
      "Anthony    707 non-null float64\n",
      "Anuj       228 non-null float64\n",
      "Bart       1728 non-null float64\n",
      "Bill       753 non-null float64\n",
      "Chip       1537 non-null float64\n",
      "Dave E     498 non-null float64\n",
      "Ed         1731 non-null float64\n",
      "John       1719 non-null float64\n",
      "Kevin      1724 non-null float64\n",
      "Marc       1320 non-null float64\n",
      "Mike       1732 non-null float64\n",
      "PAR        1734 non-null float64\n",
      "Paul       1732 non-null float64\n",
      "Paul O     252 non-null float64\n",
      "Rick       1549 non-null float64\n",
      "Sean       226 non-null float64\n",
      "Tyler      719 non-null float64\n",
      "Will       792 non-null float64\n",
      "dtypes: float64(18)\n",
      "memory usage: 257.5 KB\n",
      "None \n",
      "\n",
      "manager\n",
      "Anthony    float64\n",
      "Anuj       float64\n",
      "Bart       float64\n",
      "Bill       float64\n",
      "Chip       float64\n",
      "Dave E     float64\n",
      "Ed         float64\n",
      "John       float64\n",
      "Kevin      float64\n",
      "Marc       float64\n",
      "Mike       float64\n",
      "PAR        float64\n",
      "Paul       float64\n",
      "Paul O     float64\n",
      "Rick       float64\n",
      "Sean       float64\n",
      "Tyler      float64\n",
      "Will       float64\n",
      "dtype: object \n",
      "\n",
      "manager       Anthony           Anuj          Bart          Bill  \\\n",
      "count    7.070000e+02     228.000000  1.728000e+03  7.530000e+02   \n",
      "mean     4.459156e+04   -3390.905175  1.606894e+05 -4.828180e+03   \n",
      "std      8.070256e+05   56617.712929  6.415502e+06  3.535745e+06   \n",
      "min     -4.471738e+06 -331212.800000 -6.013030e+07 -2.631254e+07   \n",
      "25%     -3.282941e+05  -22531.175000 -2.614589e+06 -1.021894e+06   \n",
      "50%      2.185334e+04    4313.750000  2.998573e+05 -3.883282e+04   \n",
      "75%      4.679913e+05   23944.740000  2.919288e+06  9.881083e+05   \n",
      "max      4.925517e+06  175633.400000  3.359352e+07  2.995314e+07   \n",
      "\n",
      "manager          Chip        Dave E            Ed          John         Kevin  \\\n",
      "count    1.537000e+03  4.980000e+02  1.731000e+03  1.719000e+03  1.724000e+03   \n",
      "mean     4.318672e+04  8.118545e+04 -1.741582e+04  1.996711e+04  8.236025e+04   \n",
      "std      6.284724e+06  2.666354e+06  1.027017e+07  2.586476e+06  1.608509e+06   \n",
      "min     -4.507984e+07 -1.142979e+07 -7.920451e+07 -3.277413e+07 -1.193192e+07   \n",
      "25%     -2.665074e+06 -1.239552e+06 -3.960463e+06 -5.989190e+05 -5.418171e+05   \n",
      "50%      2.999461e+05  1.578832e+05 -3.352370e+03  5.120900e+04  6.978268e+04   \n",
      "75%      3.490596e+06  1.626564e+06  4.335228e+06  7.929207e+05  7.375843e+05   \n",
      "max      3.655503e+07  9.377458e+06  5.196261e+07  1.550467e+07  1.186967e+07   \n",
      "\n",
      "manager          Marc          Mike           PAR          Paul  \\\n",
      "count    1.320000e+03  1.732000e+03  1.734000e+03  1.732000e+03   \n",
      "mean     9.732133e+04  1.993258e+05  1.873397e+06  1.125260e+06   \n",
      "std      1.370746e+06  3.339700e+06  3.689970e+07  1.914410e+07   \n",
      "min     -6.842800e+06 -2.038260e+07 -3.161993e+08 -2.784462e+08   \n",
      "25%     -5.102600e+05 -1.422100e+06 -1.636490e+07 -6.448785e+06   \n",
      "50%      1.086407e+05  2.874299e+05  3.223974e+06  1.683171e+06   \n",
      "75%      7.667945e+05  2.009599e+06  2.399353e+07  9.906526e+06   \n",
      "max      7.824114e+06  1.582130e+07  1.500956e+08  8.728881e+07   \n",
      "\n",
      "manager         Paul O          Rick           Sean         Tyler  \\\n",
      "count       252.000000  1.549000e+03     226.000000  7.190000e+02   \n",
      "mean      -6079.302778  1.468515e+05    3893.711106  5.277298e+04   \n",
      "std       91264.458336  5.479214e+06  119006.833382  1.854250e+06   \n",
      "min     -534817.900000 -5.917891e+07 -913220.280000 -8.795048e+06   \n",
      "25%      -50894.500000 -2.342746e+06  -45382.817500 -5.372424e+05   \n",
      "50%        -666.400000  4.649138e+04    6967.230000  3.474446e+04   \n",
      "75%       37288.217500  3.013305e+06   73006.632500  7.068596e+05   \n",
      "max      250432.660000  3.644963e+07  375257.420000  2.397839e+07   \n",
      "\n",
      "manager          Will  \n",
      "count    7.920000e+02  \n",
      "mean     4.286278e+03  \n",
      "std      7.671157e+05  \n",
      "min     -5.580602e+06  \n",
      "25%     -3.835345e+05  \n",
      "50%      1.690440e+04  \n",
      "75%      4.130691e+05  \n",
      "max      3.518663e+06  \n"
     ]
    }
   ],
   "source": [
    "eda_df = profits\n",
    "df_eda(eda_df)"
   ]
  },
  {
   "cell_type": "markdown",
   "metadata": {},
   "source": [
    "##### <span style=\"color:violet\">**Examining data in the daily stock data dataframe**</span>"
   ]
  },
  {
   "cell_type": "code",
   "execution_count": 5,
   "metadata": {
    "jupyter": {
     "source_hidden": true
    }
   },
   "outputs": [
    {
     "ename": "NameError",
     "evalue": "name 'basic_eda' is not defined",
     "output_type": "error",
     "traceback": [
      "\u001b[1;31m---------------------------------------------------------------------------\u001b[0m",
      "\u001b[1;31mNameError\u001b[0m                                 Traceback (most recent call last)",
      "\u001b[1;32m<ipython-input-5-1a662ad83bb3>\u001b[0m in \u001b[0;36m<module>\u001b[1;34m\u001b[0m\n\u001b[1;32m----> 1\u001b[1;33m \u001b[0mbasic_eda\u001b[0m\u001b[1;33m(\u001b[0m\u001b[0mstocks\u001b[0m\u001b[1;33m)\u001b[0m\u001b[1;33m\u001b[0m\u001b[1;33m\u001b[0m\u001b[0m\n\u001b[0m",
      "\u001b[1;31mNameError\u001b[0m: name 'basic_eda' is not defined"
     ]
    }
   ],
   "source": [
    "basic_eda(stocks)"
   ]
  },
  {
   "cell_type": "code",
   "execution_count": null,
   "metadata": {
    "jupyter": {
     "source_hidden": true
    }
   },
   "outputs": [],
   "source": [
    "print(df.ticker.value_counts(dropna=False), \"\\n\")\n",
    "print(df[\"ticker\"].value_counts(dropna=False), \"\\n\")     # same as previous lines\n",
    "print(df[df.volume > 1000000000], \"\\n\")                  # basic filtering - version 1\n",
    "print(df[df[\"volume\"] > 1000000000])                     # basic filtering - version 2"
   ]
  },
  {
   "cell_type": "markdown",
   "metadata": {},
   "source": [
    "##### <span style=\"color:violet\">**Visualizing data in the daily stock data dataframe**</span>"
   ]
  },
  {
   "cell_type": "code",
   "execution_count": null,
   "metadata": {
    "jupyter": {
     "source_hidden": true
    }
   },
   "outputs": [],
   "source": [
    "import matplotlib.pyplot as mpl\n",
    "%matplotlib inline\n",
    "\n",
    "# plot histogram of volume - note the use of logarithmic transforms of both the x and y axis\n",
    "df.volume.plot(kind=\"hist\", rot=70, logx=True, logy=True, figsize=(12, 6))"
   ]
  },
  {
   "cell_type": "code",
   "execution_count": null,
   "metadata": {
    "jupyter": {
     "source_hidden": true
    }
   },
   "outputs": [],
   "source": [
    "# Boxplots are great when you have a numeric column that you want to compare across different categories.\n",
    "df.boxplot(column=\"volume\", by=\"ticker\", rot=90, figsize=(12,6))"
   ]
  },
  {
   "cell_type": "code",
   "execution_count": null,
   "metadata": {
    "jupyter": {
     "source_hidden": true
    }
   },
   "outputs": [],
   "source": [
    "# When you want to visualize two numeric columns, scatter plots are ideal.\n",
    "# Notice the fan shapped pattern - why is that the case?\n",
    "df[df[\"ticker\"]==\"MU\"].plot(kind=\"scatter\", x=\"close\", y=\"cap\", rot=90, figsize=(12,6))"
   ]
  },
  {
   "cell_type": "markdown",
   "metadata": {},
   "source": [
    "#### <span style=\"color:green\">**Pivot daily stock data into three separate dataframes**</span>"
   ]
  },
  {
   "cell_type": "code",
   "execution_count": null,
   "metadata": {},
   "outputs": [],
   "source": [
    "prices = pd.pivot_table(df, values=\"close\", index=\"date\", columns=\"ticker\")\n",
    "caps = pd.pivot_table(df, values=\"cap\", index=\"date\", columns=\"ticker\")\n",
    "volumes = pd.pivot_table(df, values=\"volume\", index=\"date\", columns=\"ticker\")"
   ]
  },
  {
   "cell_type": "code",
   "execution_count": null,
   "metadata": {
    "jupyter": {
     "source_hidden": true
    }
   },
   "outputs": [],
   "source": [
    "basic_eda(prices)"
   ]
  },
  {
   "cell_type": "code",
   "execution_count": null,
   "metadata": {
    "jupyter": {
     "source_hidden": true
    }
   },
   "outputs": [],
   "source": [
    "basic_eda(caps)"
   ]
  },
  {
   "cell_type": "code",
   "execution_count": null,
   "metadata": {
    "jupyter": {
     "source_hidden": true
    }
   },
   "outputs": [],
   "source": [
    "basic_eda(volumes)"
   ]
  },
  {
   "cell_type": "code",
   "execution_count": null,
   "metadata": {
    "jupyter": {
     "source_hidden": true
    }
   },
   "outputs": [],
   "source": [
    "def fillgaps(data, mode=\"forwardfill\"):\n",
    "    s=[]\n",
    "    if mode == \"forwardfill\":\n",
    "        data.apply(lambda col: s.append(col.loc[col.first_valid_index():col.last_valid_index()].ffill()))\n",
    "    elif mode == \"fillzeros\":\n",
    "        data.apply(lambda col: s.append(col.loc[col.first_valid_index():col.last_valid_index()].fillna(0)))\n",
    "    return pd.DataFrame(s).transpose()"
   ]
  },
  {
   "cell_type": "code",
   "execution_count": null,
   "metadata": {
    "jupyter": {
     "source_hidden": true
    }
   },
   "outputs": [],
   "source": [
    "prices = fillgaps(prices)\n",
    "caps = fillgaps(caps)\n",
    "volumes = fillgaps(volumes, mode=\"fillzeros\")"
   ]
  },
  {
   "cell_type": "code",
   "execution_count": null,
   "metadata": {
    "jupyter": {
     "source_hidden": true
    }
   },
   "outputs": [],
   "source": [
    "basic_eda(prices)"
   ]
  },
  {
   "cell_type": "code",
   "execution_count": null,
   "metadata": {
    "jupyter": {
     "source_hidden": true
    }
   },
   "outputs": [],
   "source": [
    "basic_eda(caps)"
   ]
  },
  {
   "cell_type": "code",
   "execution_count": null,
   "metadata": {
    "jupyter": {
     "source_hidden": true
    }
   },
   "outputs": [],
   "source": [
    "basic_eda(volumes)"
   ]
  },
  {
   "cell_type": "markdown",
   "metadata": {},
   "source": [
    "#### <span style=\"color:green\">**Miscellaneous and Supplementary**</span>"
   ]
  },
  {
   "cell_type": "code",
   "execution_count": null,
   "metadata": {},
   "outputs": [],
   "source": [
    "# roes.profit = pd.to_numeric(roes.profit, errors=\"coerce\")\n",
    "# roes.flow = pd.to_numeric(roes.flow, errors=\"coerce\")\n",
    "# roes.equity_sod = pd.to_numeric(roes.equity_sod, errors=\"coerce\")\n",
    "# roes.roe = pd.to_numeric(roes.roe, errors=\"coerce\")"
   ]
  }
 ],
 "metadata": {
  "kernelspec": {
   "display_name": "Python 3",
   "language": "python",
   "name": "python3"
  },
  "language_info": {
   "codemirror_mode": {
    "name": "ipython",
    "version": 3
   },
   "file_extension": ".py",
   "mimetype": "text/x-python",
   "name": "python",
   "nbconvert_exporter": "python",
   "pygments_lexer": "ipython3",
   "version": "3.7.4"
  }
 },
 "nbformat": 4,
 "nbformat_minor": 4
}
