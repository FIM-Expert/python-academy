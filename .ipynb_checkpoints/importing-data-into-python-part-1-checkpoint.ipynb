{
 "cells": [
  {
   "cell_type": "markdown",
   "metadata": {},
   "source": [
    "# <span style=\"color:maroon\">**Importing Data into Python - Part 1**</span>"
   ]
  },
  {
   "cell_type": "markdown",
   "metadata": {},
   "source": [
    "## <span style=\"color:blue\">**Introduction to Flat Files**</span>"
   ]
  },
  {
   "cell_type": "code",
   "execution_count": null,
   "metadata": {
    "jupyter": {
     "source_hidden": true
    }
   },
   "outputs": [],
   "source": [
    "# Basic process for opening and closing a file\n",
    "file = open(\"./data/stock_data_demo.csv\", mode=\"r\")     # mode=\"r\" opens the file in read mode\n",
    "print(type(file))                                       # observe the class of the file object\n",
    "print(file.read())                                      # displays the row level detail of the file object\n",
    "print(file.closed)                                      # checks to see if the file is closed\n",
    "file.close()                                            # close the file\n",
    "print(file.closed)                                      # confirms that the file connection is closed\n",
    "print(type(file))                                       # closing the file connection does not remove the file object that was created\n",
    "print(file.read())                                      # eventhough the file object persists, closing the file no longer\n",
    "                                                        # allows you to iterate over its content"
   ]
  },
  {
   "cell_type": "code",
   "execution_count": null,
   "metadata": {
    "jupyter": {
     "source_hidden": true
    }
   },
   "outputs": [],
   "source": [
    "# Using a context manager construct\n",
    "with open(\"./data/stock_data.csv\", mode=\"r\") as file:\n",
    "    print(file.readline())\n",
    "    print(file.readline())\n",
    "    print(file.readline())\n",
    "\n",
    "print(file.closed)     # when you exit out of the context manager, note that the open connection to the file is automatically closed"
   ]
  },
  {
   "cell_type": "markdown",
   "metadata": {
    "jupyter": {
     "outputs_hidden": true
    }
   },
   "source": [
    "#### Flat Files\n",
    "- Text files containing records in a tabular form (.csv, .txt)\n",
    "- Record: row of values associated with fields / attributes\n",
    "- Column: fields / features / attributes\n",
    "- Can have a header\n",
    "- Delimiters such as commas, spaces, tabs"
   ]
  },
  {
   "cell_type": "markdown",
   "metadata": {
    "jupyter": {
     "outputs_hidden": true
    }
   },
   "source": [
    "#### Importing numerical data using numpy\n",
    "numpy arrays are:\n",
    "- the standard for storing numerical data\n",
    "- efficient, fast, and clean\n",
    "- essential data structure for other packages such as scikit-learn"
   ]
  },
  {
   "cell_type": "code",
   "execution_count": null,
   "metadata": {
    "jupyter": {
     "source_hidden": true
    }
   },
   "outputs": [],
   "source": [
    "import numpy as np\n",
    "file = \"./data/stock_data_demo.csv\"\n",
    "data = np.loadtxt(file, delimiter=\",\", skiprows=1, usecols=[2, 3, 4])     # other delimiters include \" \", \"\\t\"\n",
    "                                                                          # dtype=str can be used to coerce the array elements\n",
    "print(data, \"\\n\")\n",
    "print(type(data))"
   ]
  },
  {
   "cell_type": "code",
   "execution_count": null,
   "metadata": {
    "jupyter": {
     "source_hidden": true
    }
   },
   "outputs": [],
   "source": [
    "import numpy as np\n",
    "file = \"./data/stock_data_demo.csv\"\n",
    "data = np.genfromtxt(file, delimiter=\",\", names=True, dtype=None)\n",
    "\n",
    "# data is a structured array, each element in the list is a tuple\n",
    "print(data, \"\\n\")   \n",
    "print(type(data))"
   ]
  },
  {
   "cell_type": "code",
   "execution_count": null,
   "metadata": {
    "jupyter": {
     "source_hidden": true
    }
   },
   "outputs": [],
   "source": [
    "# accessing data in a structured array\n",
    "print(data[0], \"\\n\")     # retrieve the row with index = 0\n",
    "print(data[0:3], \"\\n\")   # retrieve three rows with index 0, 1, 2\n",
    "print(data[0][2], \"\\n\")  # retrieve the row index 0 and column index 2"
   ]
  },
  {
   "cell_type": "code",
   "execution_count": null,
   "metadata": {
    "jupyter": {
     "source_hidden": true
    }
   },
   "outputs": [],
   "source": [
    "import numpy as np\n",
    "file = \"./data/stock_data_demo.csv\"\n",
    "d = np.recfromcsv(file)     # delimiter=\",\", names=True, dtype=None are the default values\n",
    "\n",
    "# accessing data in a structured array (note that this is identical to the genfromtxt() function)\n",
    "print(d[0], \"\\n\")     # retrieve the row with index = 0\n",
    "print(d[0:3], \"\\n\")   # retrieve three rows with index 0, 1, 2\n",
    "print(d[0][2], \"\\n\")  # retrieve the row index 0 and column index 2"
   ]
  },
  {
   "cell_type": "markdown",
   "metadata": {
    "jupyter": {
     "outputs_hidden": true
    }
   },
   "source": [
    "#### Importing data into a pandas dataframe"
   ]
  },
  {
   "cell_type": "code",
   "execution_count": null,
   "metadata": {
    "jupyter": {
     "source_hidden": true
    }
   },
   "outputs": [],
   "source": [
    "import pandas as pd\n",
    "help(pd.read_csv)     # note how extensive degree to which pd.read_csv can be customized\n",
    "\n",
    "# this is an example from DataCamp --> data = pd.read_csv(file, sep=\"\\t\", comment=\"#\", na_values=\"Nothing\")"
   ]
  },
  {
   "cell_type": "code",
   "execution_count": null,
   "metadata": {
    "jupyter": {
     "source_hidden": true
    }
   },
   "outputs": [],
   "source": [
    "import pandas as pd\n",
    "file = \"./data/stock_data_demo.csv\"\n",
    "df = pd.read_csv(file)\n",
    "print(df.head())\n",
    "# note that if the dataframe is all numerical, you can convert it into a numpy array --> data_numpy_array = np.array(df)"
   ]
  },
  {
   "cell_type": "markdown",
   "metadata": {},
   "source": [
    "## <span style=\"color:blue\">**Importing Data from Other File Types**</span>"
   ]
  },
  {
   "cell_type": "markdown",
   "metadata": {},
   "source": [
    "## <span style=\"color:blue\">**Working with Relational Databases in Python**</span>"
   ]
  },
  {
   "cell_type": "markdown",
   "metadata": {},
   "source": [
    "## <span style=\"color:blue\">**Miscellaneous**</span>"
   ]
  },
  {
   "cell_type": "markdown",
   "metadata": {
    "jupyter": {
     "outputs_hidden": true
    }
   },
   "source": [
    "**Zen of Python**"
   ]
  },
  {
   "cell_type": "code",
   "execution_count": null,
   "metadata": {
    "jupyter": {
     "source_hidden": true
    }
   },
   "outputs": [],
   "source": [
    "import this\n",
    "%run \"C:\\ProgramData\\Anaconda3\\lib\\this.py\""
   ]
  },
  {
   "cell_type": "markdown",
   "metadata": {},
   "source": [
    "**iPython has a whole bunch of magic commands; documentation can be found at --> https://ipython.readthedocs.io/en/stable/overview.html**"
   ]
  },
  {
   "cell_type": "code",
   "execution_count": null,
   "metadata": {
    "jupyter": {
     "source_hidden": true
    }
   },
   "outputs": [],
   "source": [
    "# magic command - prefixed by % - displays content of working directory\n",
    "%ls"
   ]
  }
 ],
 "metadata": {
  "kernelspec": {
   "display_name": "Python 3",
   "language": "python",
   "name": "python3"
  },
  "language_info": {
   "codemirror_mode": {
    "name": "ipython",
    "version": 3
   },
   "file_extension": ".py",
   "mimetype": "text/x-python",
   "name": "python",
   "nbconvert_exporter": "python",
   "pygments_lexer": "ipython3",
   "version": "3.7.4"
  }
 },
 "nbformat": 4,
 "nbformat_minor": 4
}
