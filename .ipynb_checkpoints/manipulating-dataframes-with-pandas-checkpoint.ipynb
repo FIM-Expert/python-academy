{
 "cells": [
  {
   "cell_type": "markdown",
   "metadata": {},
   "source": [
    "# <span style=\"color:maroon\">**Manipulating DataFrames with Pandas**</span>"
   ]
  },
  {
   "cell_type": "markdown",
   "metadata": {},
   "source": [
    "## <span style=\"color:blue\">**Functions and Methods**</span>"
   ]
  },
  {
   "cell_type": "markdown",
   "metadata": {},
   "source": [
    "#### DataFrame slicing\n",
    "`df[\"column_label\"][\"row_label\"]`  \n",
    "`df.loc[\"row_label\", \"column_label\"]`  \n",
    "`df.iloc[row_index, column_index]`\n",
    "  \n",
    "`df[\"column_label\"]` **--> pandas Series**  \n",
    "`df[[\"column_label\"]` **--> pandas DataFrame**  \n",
    "`df[[\"column_label_1\", \"column_label_2\", et...]]` **--> pandas DataFrame with only the column labels provided**  \n",
    "\n",
    "`df[\"row_start\":\"row_end\"]` **--> pandas DataFrame for rows between start and end inclusive**  \n",
    "`df[\"row_end\":\"row_start\":-1]` **--> pandas DataFrame for rows between start and end in reverse order inclusive**  \n",
    "`df.loc[:, :\"column_rightmost\"]` **--> pandas DataFrame for all rows all columns from the left to rightmost inclusive**  \n",
    "`df.loc[:, \"column_start:\"column_end\"]` **--> pandas DataFrame for all rows all columns between start and end inclusive**  \n",
    "`df.loc[row_list, column_list]` **--> pandas DataFrame for labels in row_list and column_list (this is a highly configured slice)**  \n",
    "\n",
    "#### When a boolean series is used to slice a dataframe, it is called a filter\n",
    "`boolean_series = df[\"column_label\"] > value`  \n",
    "`df_filtered = df[boolean_series]`  \n",
    "`df[\"column_label_1\"][boolean_series] = assign_new_value` **--> assign a new value to a column using a row-based boolean filter**  \n",
    "\n",
    "#### Dropping data\n",
    "`df.dropna(how=\"any\")` **--> drops rows in df where any column values is NaN**  \n",
    "`df.dropna(how=\"all\")` **--> drops rows in df where all column values are NaN**  \n",
    "`df.dropna(thres=threshold_value, axis=\"columns\")` **--> drop columns with less than threshold_value non-missing values**  \n",
    "\n",
    "#### Tranforming data\n",
    "`df.apply(func)` **--> applies func to every element in df**  \n",
    "\n",
    "##### <span style=\"color:red\">**Example of using .map()**</span>\n",
    "`red_vs_blue = {\"Obama\": \"blue\", \"Romney\": \"red\"}` **--> dictionary with keys corresponding to the categorical values that you want to map**  \n",
    "`election[\"color\"] = election[\"winner\"].map(red_vs_blue)` **--> # use the dictionary to map the \"winner\" column to the new column \"color\"  \n",
    "\n",
    "##### <span style=\"color:red\">**Vectorizing over looping**</span>\n",
    "`df.floordiv(12)` **--> this is a pandas method that utilizes vectorization**  \n",
    "\n",
    "`numpy.floordiv(df, 12)` **--> this is a numpy ufunc (universal function) that also utilizes vectorization**  \n",
    "\n",
    ">`def dozens(n):  \n",
    "      return n // 12`\n",
    ">\n",
    ">`df.apply(dozens)`  \n",
    "\n",
    "`df.apply(lambda n: n // 12)`\n",
    "\n",
    "##### Vectorized methods work on pandas Series as well\n",
    "`df.index = df.index.str.upper()`  \n",
    "\n",
    "`df.index = df.index.map(str.upper)`  **--> for a DataFrame index, .map applies a function to the elements in an index**  \n",
    "\n",
    "##### Example of using a function in a vectorized manner\n",
    ">`from scipy.stats import zscore  \n",
    " turnout_zscore = zscore(election[\"turnout\"])  \n",
    " election[\"turnout_zscore\"] = turnout_zscore`  "
   ]
  },
  {
   "cell_type": "markdown",
   "metadata": {},
   "source": [
    "## <span style=\"color:blue\">**Advanced Indexing**</span>"
   ]
  },
  {
   "cell_type": "markdown",
   "metadata": {},
   "source": [
    "#### Key building blocks of pandas data structures\n",
    "1. indexes: sequences of labels, immutable (if you want to modify the index then you hneed to change the whole index)\n",
    "2. Series: 1D array with an associated index\n",
    "3. DataFrames: 2D array with Series as columns\n",
    "\n",
    "##### <span style=\"color:red\">**You should try to create data structures where indexes are unique (although this is not a requirement)**</span>"
   ]
  },
  {
   "cell_type": "markdown",
   "metadata": {},
   "source": [
    "##### <span style=\"color:red\">**Modifying an entire index**</span>\n",
    ">`new_idx = [x.upper() for x in df.index]`  \n",
    "`df.index = new_idx`  \n",
    "`df.index.name = \"index_name_label\"`  \n",
    "`df.columns.name = \"columns_name_label\"`  \n",
    "\n",
    "##### <span style=\"color:red\">**Creating a index from scratch**</span>\n",
    "`index_list` **--> list that you want to use to generate an index**  \n",
    "`df.index = index_list`  \n",
    "\n",
    "##### <span style=\"color:red\">**Hierarchical index (multi-index)**</span>\n",
    "`df.loc[[\"outer_index_label\", \"inner_index_label\"]]` **--> retrieves the relevant rows of df**  \n",
    "`df[\"outer_index_row_label_start\":\"outer_index_row_label_end\"]` **--> retrieves relevant rows between start and end inclusive**  \n",
    "`df = df.set_index([\"outer_index_label\", \"inner_index_label\"])` **--> sets the multi-index for df**  \n",
    "`df = df.sort_index()`\n",
    "\n",
    "##### Accessing the outermost index works like single index slicing\n",
    "##### Accessing inner indices requires --> slice <-- This is going to require some practice!!!\n",
    "`df.loc[(\"outer_index_label\", \"inner_index_label\")]` **--> observe that a tuple is being passed to the indexer**  \n",
    "`df.loc[([\"outer_index_labels\"], \"inner_index_label\"), :]` **--> the tuple is defining the rows within the multi-index**  \n",
    "`df.loc[(slice(None), 2), :]` **--> slice(None) is removing filtering on the outer index**  \n"
   ]
  },
  {
   "cell_type": "markdown",
   "metadata": {},
   "source": [
    "## <span style=\"color:blue\">**Rearranging and Reshaping Data**</span>"
   ]
  },
  {
   "cell_type": "markdown",
   "metadata": {},
   "source": [
    "##### <span style=\"color:red\">**Pivot a dataframe**</span>\n",
    "`df_pivoted = pandas.pivot(data=df, index, columns, values)`  \n",
    "`df_pivoted = pandas.pivot(data=df, index, values)` **--> pivots on all remain columns in df not specified in the index and values parameters**  \n"
   ]
  },
  {
   "cell_type": "markdown",
   "metadata": {},
   "source": [
    "## <span style=\"color:blue\">**Grouping Data**</span>"
   ]
  },
  {
   "cell_type": "markdown",
   "metadata": {},
   "source": [
    "## <span style=\"color:blue\">**Bringing It All Together**</span>"
   ]
  }
 ],
 "metadata": {
  "kernelspec": {
   "display_name": "Python 3",
   "language": "python",
   "name": "python3"
  },
  "language_info": {
   "codemirror_mode": {
    "name": "ipython",
    "version": 3
   },
   "file_extension": ".py",
   "mimetype": "text/x-python",
   "name": "python",
   "nbconvert_exporter": "python",
   "pygments_lexer": "ipython3",
   "version": "3.7.4"
  }
 },
 "nbformat": 4,
 "nbformat_minor": 4
}
