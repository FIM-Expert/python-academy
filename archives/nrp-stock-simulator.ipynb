{
 "cells": [
  {
   "cell_type": "markdown",
   "metadata": {},
   "source": [
    "# <span style=\"color:maroon\">**NRP Stock Simulation Software**</span>"
   ]
  },
  {
   "cell_type": "markdown",
   "metadata": {},
   "source": [
    "###### <span style=\"color:green\">**Import modules and define utility functions**</span>"
   ]
  },
  {
   "cell_type": "code",
   "execution_count": 41,
   "metadata": {
    "jupyter": {
     "source_hidden": true
    }
   },
   "outputs": [],
   "source": [
    "import pandas as pd\n",
    "import numpy as np\n",
    "import math\n",
    "import glob\n",
    "from matplotlib import pyplot as plt\n",
    "%matplotlib inline"
   ]
  },
  {
   "cell_type": "code",
   "execution_count": 42,
   "metadata": {
    "jupyter": {
     "source_hidden": true
    }
   },
   "outputs": [],
   "source": [
    "# Utility Functions\n",
    "def combine_dataframes(pattern, names, index_col, na_values, header=1, parse_dates=True, ignore_index=True):\n",
    "    # creates a list of file pointers matching the pattern\n",
    "    files = glob.glob(pattern)                        \n",
    "    frames = []\n",
    "   \n",
    "    # iterate through each file pointer\n",
    "    for f in files:\n",
    "    \n",
    "        # loads file into dataframe variable: df\n",
    "        df = pd.read_csv(f, names=names, index_col=index_col, na_values=na_values,\n",
    "                         header=header, parse_dates=parse_dates)                           \n",
    "        \n",
    "        # adds dataframe from df into list: frames\n",
    "        frames.append(df)  \n",
    "    \n",
    "    # concatenate all dataframes in frames into a single dataframe\n",
    "    return pd.concat(frames, ignore_index=ignore_index)    \n",
    "\n",
    "def fillgaps(df, mode=\"fill_zero\"):\n",
    "    s = []\n",
    "    if mode==\"fill_zero\":\n",
    "        df.apply(lambda col: s.append(col.loc[col.first_valid_index():col.last_valid_index()].fillna(0)))\n",
    "    elif mode==\"fill_forward\":\n",
    "        df.apply(lambda col: s.append(col.loc[col.first_valid_index():col.last_valid_index()].ffill()))\n",
    "    return pd.DataFrame(s).transpose()\n",
    "\n",
    "def df_eda(df):\n",
    "    print(df.head(), \"\\n\")\n",
    "    print(df.tail(), \"\\n\")\n",
    "    print(df.shape, \"\\n\")\n",
    "    print(df.columns, \"\\n\")\n",
    "    print(df.info(), \"\\n\")\n",
    "    print(df.dtypes, \"\\n\")\n",
    "    print(df.describe())"
   ]
  },
  {
   "cell_type": "markdown",
   "metadata": {},
   "source": [
    "###### <span style=\"color:green\">**Load raw stock data files**</span>"
   ]
  },
  {
   "cell_type": "code",
   "execution_count": 3,
   "metadata": {
    "jupyter": {
     "source_hidden": true
    }
   },
   "outputs": [],
   "source": [
    "# load stock data into a dataframe: stocks\n",
    "cols = [\"ticker\", \"date\", \"close\", \"cap\", \"volume\"]\n",
    "stocks = combine_dataframes(\"./data/stock_data_*.csv\", names=cols, index_col=\"date\", na_values=\" #N/A N/A \", ignore_index=False)"
   ]
  },
  {
   "cell_type": "markdown",
   "metadata": {},
   "source": [
    "###### <span style=\"color:green\">**Pivot stock data columns into tidy dataframes**</span>"
   ]
  },
  {
   "cell_type": "code",
   "execution_count": 40,
   "metadata": {
    "jupyter": {
     "source_hidden": true
    }
   },
   "outputs": [],
   "source": [
    "close = pd.pivot(stocks, columns=\"ticker\", values=\"close\")\n",
    "close = fillgaps(close, \"fill_forward\")\n",
    "\n",
    "cap = pd.pivot_table(stocks, columns=\"ticker\", values=\"cap\")\n",
    "cap = fillgaps(cap, \"fill_forward\")\n",
    "\n",
    "volume = pd.pivot_table(stocks, columns=\"ticker\", values=\"volume\")\n",
    "volume = fillgaps(volume, \"fill_zero\")"
   ]
  },
  {
   "cell_type": "markdown",
   "metadata": {},
   "source": [
    "###### <span style=\"color:violet\">**Examining data in the daily stock data dataframe**</span>"
   ]
  },
  {
   "cell_type": "code",
   "execution_count": null,
   "metadata": {
    "jupyter": {
     "source_hidden": true
    }
   },
   "outputs": [],
   "source": [
    "df_eda(prices)"
   ]
  },
  {
   "cell_type": "code",
   "execution_count": null,
   "metadata": {
    "jupyter": {
     "source_hidden": true
    }
   },
   "outputs": [],
   "source": [
    "print(close.shape, cap.shape, volume.shape, \"\\n\")\n",
    "print(close.tail(), \"\\n\")\n",
    "print(cap.tail(), \"\\n\")\n",
    "print(volume.tail())"
   ]
  },
  {
   "cell_type": "code",
   "execution_count": null,
   "metadata": {
    "jupyter": {
     "source_hidden": true
    }
   },
   "outputs": [],
   "source": [
    "# plot histogram of volume - note the use of logarithmic transforms of both the x and y axis\n",
    "df.volume.plot(kind=\"hist\", rot=70, logx=True, logy=True, figsize=(12, 6))"
   ]
  },
  {
   "cell_type": "code",
   "execution_count": null,
   "metadata": {
    "jupyter": {
     "source_hidden": true
    }
   },
   "outputs": [],
   "source": [
    "# Boxplots are great when you have a numeric column that you want to compare across different categories.\n",
    "df.boxplot(column=\"volume\", by=\"ticker\", rot=90, figsize=(12,6))"
   ]
  },
  {
   "cell_type": "code",
   "execution_count": null,
   "metadata": {
    "jupyter": {
     "source_hidden": true
    }
   },
   "outputs": [],
   "source": [
    "# When you want to visualize two numeric columns, scatter plots are ideal.\n",
    "# Notice the fan shapped pattern - why is that the case?\n",
    "df[df[\"ticker\"]==\"MU\"].plot(kind=\"scatter\", x=\"close\", y=\"cap\", rot=90, figsize=(12,6))"
   ]
  },
  {
   "cell_type": "markdown",
   "metadata": {},
   "source": [
    "#### <span style=\"color:orange\">**Learning Exercises**</span>"
   ]
  },
  {
   "cell_type": "code",
   "execution_count": 49,
   "metadata": {},
   "outputs": [],
   "source": [
    "cols = [\"ticker\", \"date\", \"close\", \"cap\", \"volume\"]\n",
    "df = combine_dataframes(\"./data/stock_data_*.csv\", names=cols, index_col=\"date\", na_values=\" #N/A N/A \", ignore_index=False)"
   ]
  },
  {
   "cell_type": "code",
   "execution_count": 28,
   "metadata": {},
   "outputs": [
    {
     "data": {
      "text/html": [
       "<div>\n",
       "<style scoped>\n",
       "    .dataframe tbody tr th:only-of-type {\n",
       "        vertical-align: middle;\n",
       "    }\n",
       "\n",
       "    .dataframe tbody tr th {\n",
       "        vertical-align: top;\n",
       "    }\n",
       "\n",
       "    .dataframe thead th {\n",
       "        text-align: right;\n",
       "    }\n",
       "</style>\n",
       "<table border=\"1\" class=\"dataframe\">\n",
       "  <thead>\n",
       "    <tr style=\"text-align: right;\">\n",
       "      <th></th>\n",
       "      <th>ticker</th>\n",
       "      <th>close</th>\n",
       "      <th>cap</th>\n",
       "      <th>volume</th>\n",
       "    </tr>\n",
       "    <tr>\n",
       "      <th>date</th>\n",
       "      <th></th>\n",
       "      <th></th>\n",
       "      <th></th>\n",
       "      <th></th>\n",
       "    </tr>\n",
       "  </thead>\n",
       "  <tbody>\n",
       "    <tr>\n",
       "      <td>1985-01-02</td>\n",
       "      <td>IBM</td>\n",
       "      <td>13.3649</td>\n",
       "      <td>74134.9</td>\n",
       "      <td>3490000.0</td>\n",
       "    </tr>\n",
       "    <tr>\n",
       "      <td>1985-01-03</td>\n",
       "      <td>IBM</td>\n",
       "      <td>13.2545</td>\n",
       "      <td>73522.3</td>\n",
       "      <td>5552400.0</td>\n",
       "    </tr>\n",
       "    <tr>\n",
       "      <td>1985-01-04</td>\n",
       "      <td>IBM</td>\n",
       "      <td>13.2269</td>\n",
       "      <td>73369.1</td>\n",
       "      <td>4028000.0</td>\n",
       "    </tr>\n",
       "    <tr>\n",
       "      <td>1985-01-07</td>\n",
       "      <td>IBM</td>\n",
       "      <td>13.2959</td>\n",
       "      <td>73752.0</td>\n",
       "      <td>4671200.0</td>\n",
       "    </tr>\n",
       "    <tr>\n",
       "      <td>1985-01-08</td>\n",
       "      <td>IBM</td>\n",
       "      <td>13.2269</td>\n",
       "      <td>73369.1</td>\n",
       "      <td>4492400.0</td>\n",
       "    </tr>\n",
       "  </tbody>\n",
       "</table>\n",
       "</div>"
      ],
      "text/plain": [
       "           ticker    close      cap     volume\n",
       "date                                          \n",
       "1985-01-02    IBM  13.3649  74134.9  3490000.0\n",
       "1985-01-03    IBM  13.2545  73522.3  5552400.0\n",
       "1985-01-04    IBM  13.2269  73369.1  4028000.0\n",
       "1985-01-07    IBM  13.2959  73752.0  4671200.0\n",
       "1985-01-08    IBM  13.2269  73369.1  4492400.0"
      ]
     },
     "execution_count": 28,
     "metadata": {},
     "output_type": "execute_result"
    }
   ],
   "source": [
    "# \"date\" is the index\n",
    "# \"ticker\", \"close\", \"cap\", and \"volume\" are the columns\n",
    "df.head()"
   ]
  },
  {
   "cell_type": "code",
   "execution_count": 50,
   "metadata": {},
   "outputs": [],
   "source": [
    "# the df_pivot_1 throws an error because you're trying to set an index based on a pre-existing index\n",
    "# ERROR --> df_pivot_1 = pd.pivot(data=df, index=\"date\", columns=\"ticker\", values=\"close\")\n",
    "\n",
    "# in the code below, since \"date\" is an index in df, you do not have to set the index parameter in the call\n",
    "df_pivot_1 = pd.pivot(data=df, columns=\"ticker\", values=\"close\")"
   ]
  },
  {
   "cell_type": "code",
   "execution_count": 51,
   "metadata": {},
   "outputs": [
    {
     "data": {
      "text/html": [
       "<div>\n",
       "<style scoped>\n",
       "    .dataframe tbody tr th:only-of-type {\n",
       "        vertical-align: middle;\n",
       "    }\n",
       "\n",
       "    .dataframe tbody tr th {\n",
       "        vertical-align: top;\n",
       "    }\n",
       "\n",
       "    .dataframe thead th {\n",
       "        text-align: right;\n",
       "    }\n",
       "</style>\n",
       "<table border=\"1\" class=\"dataframe\">\n",
       "  <thead>\n",
       "    <tr style=\"text-align: right;\">\n",
       "      <th>ticker</th>\n",
       "      <th>AAPL</th>\n",
       "      <th>AMAT</th>\n",
       "      <th>AMD</th>\n",
       "      <th>CSCO</th>\n",
       "      <th>IBM</th>\n",
       "      <th>INTC</th>\n",
       "      <th>MSFT</th>\n",
       "      <th>MU</th>\n",
       "      <th>NVDA</th>\n",
       "      <th>ORCL</th>\n",
       "      <th>WDC</th>\n",
       "    </tr>\n",
       "    <tr>\n",
       "      <th>date</th>\n",
       "      <th></th>\n",
       "      <th></th>\n",
       "      <th></th>\n",
       "      <th></th>\n",
       "      <th></th>\n",
       "      <th></th>\n",
       "      <th></th>\n",
       "      <th></th>\n",
       "      <th></th>\n",
       "      <th></th>\n",
       "      <th></th>\n",
       "    </tr>\n",
       "  </thead>\n",
       "  <tbody>\n",
       "    <tr>\n",
       "      <td>1984-12-31</td>\n",
       "      <td>0.413</td>\n",
       "      <td>0.1617</td>\n",
       "      <td>NaN</td>\n",
       "      <td>NaN</td>\n",
       "      <td>NaN</td>\n",
       "      <td>0.3688</td>\n",
       "      <td>NaN</td>\n",
       "      <td>2.6757</td>\n",
       "      <td>NaN</td>\n",
       "      <td>NaN</td>\n",
       "      <td>3.5353</td>\n",
       "    </tr>\n",
       "    <tr>\n",
       "      <td>1985-01-02</td>\n",
       "      <td>0.395</td>\n",
       "      <td>0.1572</td>\n",
       "      <td>14.4960</td>\n",
       "      <td>NaN</td>\n",
       "      <td>13.3649</td>\n",
       "      <td>0.3622</td>\n",
       "      <td>NaN</td>\n",
       "      <td>2.6634</td>\n",
       "      <td>NaN</td>\n",
       "      <td>NaN</td>\n",
       "      <td>3.4328</td>\n",
       "    </tr>\n",
       "    <tr>\n",
       "      <td>1985-01-03</td>\n",
       "      <td>0.402</td>\n",
       "      <td>0.1572</td>\n",
       "      <td>14.4335</td>\n",
       "      <td>NaN</td>\n",
       "      <td>13.2545</td>\n",
       "      <td>0.3688</td>\n",
       "      <td>NaN</td>\n",
       "      <td>2.6021</td>\n",
       "      <td>NaN</td>\n",
       "      <td>NaN</td>\n",
       "      <td>3.5865</td>\n",
       "    </tr>\n",
       "    <tr>\n",
       "      <td>1985-01-04</td>\n",
       "      <td>0.402</td>\n",
       "      <td>0.1557</td>\n",
       "      <td>14.4960</td>\n",
       "      <td>NaN</td>\n",
       "      <td>13.2269</td>\n",
       "      <td>0.3754</td>\n",
       "      <td>NaN</td>\n",
       "      <td>2.5039</td>\n",
       "      <td>NaN</td>\n",
       "      <td>NaN</td>\n",
       "      <td>3.6890</td>\n",
       "    </tr>\n",
       "    <tr>\n",
       "      <td>1985-01-07</td>\n",
       "      <td>0.401</td>\n",
       "      <td>0.1527</td>\n",
       "      <td>14.3086</td>\n",
       "      <td>NaN</td>\n",
       "      <td>13.2959</td>\n",
       "      <td>0.3853</td>\n",
       "      <td>NaN</td>\n",
       "      <td>2.4057</td>\n",
       "      <td>NaN</td>\n",
       "      <td>NaN</td>\n",
       "      <td>3.8939</td>\n",
       "    </tr>\n",
       "  </tbody>\n",
       "</table>\n",
       "</div>"
      ],
      "text/plain": [
       "ticker       AAPL    AMAT      AMD  CSCO      IBM    INTC  MSFT      MU  NVDA  \\\n",
       "date                                                                            \n",
       "1984-12-31  0.413  0.1617      NaN   NaN      NaN  0.3688   NaN  2.6757   NaN   \n",
       "1985-01-02  0.395  0.1572  14.4960   NaN  13.3649  0.3622   NaN  2.6634   NaN   \n",
       "1985-01-03  0.402  0.1572  14.4335   NaN  13.2545  0.3688   NaN  2.6021   NaN   \n",
       "1985-01-04  0.402  0.1557  14.4960   NaN  13.2269  0.3754   NaN  2.5039   NaN   \n",
       "1985-01-07  0.401  0.1527  14.3086   NaN  13.2959  0.3853   NaN  2.4057   NaN   \n",
       "\n",
       "ticker      ORCL     WDC  \n",
       "date                      \n",
       "1984-12-31   NaN  3.5353  \n",
       "1985-01-02   NaN  3.4328  \n",
       "1985-01-03   NaN  3.5865  \n",
       "1985-01-04   NaN  3.6890  \n",
       "1985-01-07   NaN  3.8939  "
      ]
     },
     "execution_count": 51,
     "metadata": {},
     "output_type": "execute_result"
    }
   ],
   "source": [
    "df_pivot_1.head()"
   ]
  },
  {
   "cell_type": "code",
   "execution_count": 53,
   "metadata": {},
   "outputs": [],
   "source": [
    "# stratify the pivot table\n",
    "df_pivot_2 = pd.pivot(data=df, columns=\"ticker\")"
   ]
  },
  {
   "cell_type": "code",
   "execution_count": 57,
   "metadata": {},
   "outputs": [
    {
     "data": {
      "text/html": [
       "<div>\n",
       "<style scoped>\n",
       "    .dataframe tbody tr th:only-of-type {\n",
       "        vertical-align: middle;\n",
       "    }\n",
       "\n",
       "    .dataframe tbody tr th {\n",
       "        vertical-align: top;\n",
       "    }\n",
       "\n",
       "    .dataframe thead tr th {\n",
       "        text-align: left;\n",
       "    }\n",
       "\n",
       "    .dataframe thead tr:last-of-type th {\n",
       "        text-align: right;\n",
       "    }\n",
       "</style>\n",
       "<table border=\"1\" class=\"dataframe\">\n",
       "  <thead>\n",
       "    <tr>\n",
       "      <th></th>\n",
       "      <th colspan=\"10\" halign=\"left\">close</th>\n",
       "      <th>...</th>\n",
       "      <th colspan=\"10\" halign=\"left\">volume</th>\n",
       "    </tr>\n",
       "    <tr>\n",
       "      <th>ticker</th>\n",
       "      <th>AAPL</th>\n",
       "      <th>AMAT</th>\n",
       "      <th>AMD</th>\n",
       "      <th>CSCO</th>\n",
       "      <th>IBM</th>\n",
       "      <th>INTC</th>\n",
       "      <th>MSFT</th>\n",
       "      <th>MU</th>\n",
       "      <th>NVDA</th>\n",
       "      <th>ORCL</th>\n",
       "      <th>...</th>\n",
       "      <th>AMAT</th>\n",
       "      <th>AMD</th>\n",
       "      <th>CSCO</th>\n",
       "      <th>IBM</th>\n",
       "      <th>INTC</th>\n",
       "      <th>MSFT</th>\n",
       "      <th>MU</th>\n",
       "      <th>NVDA</th>\n",
       "      <th>ORCL</th>\n",
       "      <th>WDC</th>\n",
       "    </tr>\n",
       "    <tr>\n",
       "      <th>date</th>\n",
       "      <th></th>\n",
       "      <th></th>\n",
       "      <th></th>\n",
       "      <th></th>\n",
       "      <th></th>\n",
       "      <th></th>\n",
       "      <th></th>\n",
       "      <th></th>\n",
       "      <th></th>\n",
       "      <th></th>\n",
       "      <th></th>\n",
       "      <th></th>\n",
       "      <th></th>\n",
       "      <th></th>\n",
       "      <th></th>\n",
       "      <th></th>\n",
       "      <th></th>\n",
       "      <th></th>\n",
       "      <th></th>\n",
       "      <th></th>\n",
       "      <th></th>\n",
       "    </tr>\n",
       "  </thead>\n",
       "  <tbody>\n",
       "    <tr>\n",
       "      <td>1984-12-31</td>\n",
       "      <td>0.413</td>\n",
       "      <td>0.1617</td>\n",
       "      <td>NaN</td>\n",
       "      <td>NaN</td>\n",
       "      <td>NaN</td>\n",
       "      <td>0.3688</td>\n",
       "      <td>NaN</td>\n",
       "      <td>2.6757</td>\n",
       "      <td>NaN</td>\n",
       "      <td>NaN</td>\n",
       "      <td>...</td>\n",
       "      <td>2291200.0</td>\n",
       "      <td>NaN</td>\n",
       "      <td>NaN</td>\n",
       "      <td>NaN</td>\n",
       "      <td>27748800.0</td>\n",
       "      <td>NaN</td>\n",
       "      <td>807000.0</td>\n",
       "      <td>NaN</td>\n",
       "      <td>NaN</td>\n",
       "      <td>130600.0</td>\n",
       "    </tr>\n",
       "    <tr>\n",
       "      <td>1985-01-02</td>\n",
       "      <td>0.395</td>\n",
       "      <td>0.1572</td>\n",
       "      <td>14.4960</td>\n",
       "      <td>NaN</td>\n",
       "      <td>13.3649</td>\n",
       "      <td>0.3622</td>\n",
       "      <td>NaN</td>\n",
       "      <td>2.6634</td>\n",
       "      <td>NaN</td>\n",
       "      <td>NaN</td>\n",
       "      <td>...</td>\n",
       "      <td>7052800.0</td>\n",
       "      <td>435800.0</td>\n",
       "      <td>NaN</td>\n",
       "      <td>3490000.0</td>\n",
       "      <td>27259200.0</td>\n",
       "      <td>NaN</td>\n",
       "      <td>1174000.0</td>\n",
       "      <td>NaN</td>\n",
       "      <td>NaN</td>\n",
       "      <td>12800.0</td>\n",
       "    </tr>\n",
       "    <tr>\n",
       "      <td>1985-01-03</td>\n",
       "      <td>0.402</td>\n",
       "      <td>0.1572</td>\n",
       "      <td>14.4335</td>\n",
       "      <td>NaN</td>\n",
       "      <td>13.2545</td>\n",
       "      <td>0.3688</td>\n",
       "      <td>NaN</td>\n",
       "      <td>2.6021</td>\n",
       "      <td>NaN</td>\n",
       "      <td>NaN</td>\n",
       "      <td>...</td>\n",
       "      <td>512000.0</td>\n",
       "      <td>821200.0</td>\n",
       "      <td>NaN</td>\n",
       "      <td>5552400.0</td>\n",
       "      <td>31075200.0</td>\n",
       "      <td>NaN</td>\n",
       "      <td>632000.0</td>\n",
       "      <td>NaN</td>\n",
       "      <td>NaN</td>\n",
       "      <td>99600.0</td>\n",
       "    </tr>\n",
       "    <tr>\n",
       "      <td>1985-01-04</td>\n",
       "      <td>0.402</td>\n",
       "      <td>0.1557</td>\n",
       "      <td>14.4960</td>\n",
       "      <td>NaN</td>\n",
       "      <td>13.2269</td>\n",
       "      <td>0.3754</td>\n",
       "      <td>NaN</td>\n",
       "      <td>2.5039</td>\n",
       "      <td>NaN</td>\n",
       "      <td>NaN</td>\n",
       "      <td>...</td>\n",
       "      <td>422400.0</td>\n",
       "      <td>710000.0</td>\n",
       "      <td>NaN</td>\n",
       "      <td>4028000.0</td>\n",
       "      <td>11688000.0</td>\n",
       "      <td>NaN</td>\n",
       "      <td>632000.0</td>\n",
       "      <td>NaN</td>\n",
       "      <td>NaN</td>\n",
       "      <td>256600.0</td>\n",
       "    </tr>\n",
       "    <tr>\n",
       "      <td>1985-01-07</td>\n",
       "      <td>0.401</td>\n",
       "      <td>0.1527</td>\n",
       "      <td>14.3086</td>\n",
       "      <td>NaN</td>\n",
       "      <td>13.2959</td>\n",
       "      <td>0.3853</td>\n",
       "      <td>NaN</td>\n",
       "      <td>2.4057</td>\n",
       "      <td>NaN</td>\n",
       "      <td>NaN</td>\n",
       "      <td>...</td>\n",
       "      <td>4403200.0</td>\n",
       "      <td>579800.0</td>\n",
       "      <td>NaN</td>\n",
       "      <td>4671200.0</td>\n",
       "      <td>12465600.0</td>\n",
       "      <td>NaN</td>\n",
       "      <td>2348000.0</td>\n",
       "      <td>NaN</td>\n",
       "      <td>NaN</td>\n",
       "      <td>186600.0</td>\n",
       "    </tr>\n",
       "  </tbody>\n",
       "</table>\n",
       "<p>5 rows × 33 columns</p>\n",
       "</div>"
      ],
      "text/plain": [
       "            close                                                           \\\n",
       "ticker       AAPL    AMAT      AMD CSCO      IBM    INTC MSFT      MU NVDA   \n",
       "date                                                                         \n",
       "1984-12-31  0.413  0.1617      NaN  NaN      NaN  0.3688  NaN  2.6757  NaN   \n",
       "1985-01-02  0.395  0.1572  14.4960  NaN  13.3649  0.3622  NaN  2.6634  NaN   \n",
       "1985-01-03  0.402  0.1572  14.4335  NaN  13.2545  0.3688  NaN  2.6021  NaN   \n",
       "1985-01-04  0.402  0.1557  14.4960  NaN  13.2269  0.3754  NaN  2.5039  NaN   \n",
       "1985-01-07  0.401  0.1527  14.3086  NaN  13.2959  0.3853  NaN  2.4057  NaN   \n",
       "\n",
       "                 ...     volume                                             \\\n",
       "ticker     ORCL  ...       AMAT       AMD CSCO        IBM        INTC MSFT   \n",
       "date             ...                                                         \n",
       "1984-12-31  NaN  ...  2291200.0       NaN  NaN        NaN  27748800.0  NaN   \n",
       "1985-01-02  NaN  ...  7052800.0  435800.0  NaN  3490000.0  27259200.0  NaN   \n",
       "1985-01-03  NaN  ...   512000.0  821200.0  NaN  5552400.0  31075200.0  NaN   \n",
       "1985-01-04  NaN  ...   422400.0  710000.0  NaN  4028000.0  11688000.0  NaN   \n",
       "1985-01-07  NaN  ...  4403200.0  579800.0  NaN  4671200.0  12465600.0  NaN   \n",
       "\n",
       "                                           \n",
       "ticker             MU NVDA ORCL       WDC  \n",
       "date                                       \n",
       "1984-12-31   807000.0  NaN  NaN  130600.0  \n",
       "1985-01-02  1174000.0  NaN  NaN   12800.0  \n",
       "1985-01-03   632000.0  NaN  NaN   99600.0  \n",
       "1985-01-04   632000.0  NaN  NaN  256600.0  \n",
       "1985-01-07  2348000.0  NaN  NaN  186600.0  \n",
       "\n",
       "[5 rows x 33 columns]"
      ]
     },
     "execution_count": 57,
     "metadata": {},
     "output_type": "execute_result"
    }
   ],
   "source": [
    "df_pivot_2.head()"
   ]
  },
  {
   "cell_type": "code",
   "execution_count": 47,
   "metadata": {},
   "outputs": [
    {
     "data": {
      "text/plain": [
       "        date      \n",
       "ticker  1985-01-02    IBM\n",
       "        1985-01-03    IBM\n",
       "        1985-01-04    IBM\n",
       "        1985-01-07    IBM\n",
       "        1985-01-08    IBM\n",
       "dtype: object"
      ]
     },
     "execution_count": 47,
     "metadata": {},
     "output_type": "execute_result"
    }
   ],
   "source": [
    "df.head()"
   ]
  },
  {
   "cell_type": "code",
   "execution_count": null,
   "metadata": {},
   "outputs": [],
   "source": []
  }
 ],
 "metadata": {
  "kernelspec": {
   "display_name": "Python 3",
   "language": "python",
   "name": "python3"
  },
  "language_info": {
   "codemirror_mode": {
    "name": "ipython",
    "version": 3
   },
   "file_extension": ".py",
   "mimetype": "text/x-python",
   "name": "python",
   "nbconvert_exporter": "python",
   "pygments_lexer": "ipython3",
   "version": "3.7.4"
  }
 },
 "nbformat": 4,
 "nbformat_minor": 4
}
