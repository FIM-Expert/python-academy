{
 "cells": [
  {
   "cell_type": "markdown",
   "metadata": {},
   "source": [
    "# Python Data Science Toolbox - Part 2"
   ]
  },
  {
   "cell_type": "markdown",
   "metadata": {},
   "source": [
    "## Iterators"
   ]
  },
  {
   "cell_type": "markdown",
   "metadata": {},
   "source": [
    "An iterable is an object that can return an iterator, while an iterator is an object that keeps state and produces the next value when you call next() on it."
   ]
  },
  {
   "cell_type": "code",
   "execution_count": null,
   "metadata": {
    "jupyter": {
     "source_hidden": true
    }
   },
   "outputs": [],
   "source": [
    "flash = ['jay garrick', 'barry allen', 'wally west', 'bart allen']      # a list is an iterable object\n",
    "\n",
    "for element in flash:\n",
    "    print(element)\n",
    "\n",
    "superhero = iter(flash)      # create an iterator object for flash: superhero\n",
    "\n",
    "# invoke next() on the superhero iterator to print each iterator value\n",
    "print(next(superhero))\n",
    "print(next(superhero))\n",
    "print(next(superhero))\n",
    "print(next(superhero))"
   ]
  },
  {
   "cell_type": "code",
   "execution_count": null,
   "metadata": {
    "jupyter": {
     "source_hidden": true
    }
   },
   "outputs": [],
   "source": [
    "# Create an iterator for range(3): small_value\n",
    "small_value = iter(range(3))\n",
    "print(type(small_value))\n",
    "\n",
    "small_value_range = range(3)\n",
    "print(type(small_value_range))     # range is an iterable object of type range\n",
    "\n",
    "# Print the values in small_value\n",
    "print(next(small_value))\n",
    "print(next(small_value))\n",
    "print(next(small_value))\n",
    "\n",
    "# Loop over range(3) and print the values\n",
    "for i in range(3):\n",
    "    print(i)\n",
    "\n",
    "# Create an iterator for range(10 ** 100): googol\n",
    "googol = iter(range(10**100))\n",
    "\n",
    "# Print the first 5 values from googol\n",
    "print(next(googol))\n",
    "print(next(googol))\n",
    "print(next(googol))\n",
    "print(next(googol))\n",
    "print(next(googol))"
   ]
  },
  {
   "cell_type": "code",
   "execution_count": null,
   "metadata": {
    "jupyter": {
     "source_hidden": true
    }
   },
   "outputs": [],
   "source": [
    "values = range(10, 21)      # values is a range object\n",
    "print(type(values))\n",
    "print(values)\n",
    "\n",
    "values_list = list(values)  # convert a range object to a list object\n",
    "print(type(values_list))\n",
    "print(values_list)\n",
    "\n",
    "values_sum = sum(values)               # you can invoke sum on a range object or a list object\n",
    "values_list_sum = sum(values_list)\n",
    "\n",
    "print(values_sum)\n",
    "print(values_list_sum)"
   ]
  },
  {
   "cell_type": "code",
   "execution_count": null,
   "metadata": {},
   "outputs": [],
   "source": [
    "# enumerate() returns an enumerate object that produces a sequence of tuples, and each of the tuples is an index-value pair\n",
    "mutants = ['charles xavier', 'bobby drake', 'kurt wagner', 'max eisenhardt', 'kitty pryde']\n",
    "\n",
    "mutant_list = list(enumerate(mutants))\n",
    "\n",
    "print(mutant_list, \"\\n\")\n",
    "\n",
    "for index1, value1 in enumerate(mutants):\n",
    "    print(index1, value1)\n",
    "\n",
    "print(\"\\n\")    \n",
    "\n",
    "for index2, value2 in enumerate(mutants, start=1):\n",
    "    print(index2, value2)"
   ]
  },
  {
   "cell_type": "code",
   "execution_count": null,
   "metadata": {},
   "outputs": [],
   "source": [
    "mutants = ['charles xavier', 'bobby drake', 'kurt wagner', 'max eisenhardt', 'kitty pryde']\n",
    "aliases = [\"prof x\", \"iceman\", \"nightcrawler\", \"magneto\", \"shadowcat\"]\n",
    "powers = [\"telepathy\", \"thermokinesis\", \"teleportation\", \"magnetokinesis\", \"intangibility\"]\n",
    "\n",
    "# create a zip object\n",
    "mutants_zip = zip(mutants, aliases, powers)\n",
    "print(mutants_zip, \"\\n\")\n",
    "print(type(mutants_zip), \"\\n\")\n",
    "\n",
    "# convert a zip object into a list of tuples\n",
    "mutants_zip_list = list(mutants_zip)\n",
    "print(mutants_zip_list, \"\\n\")\n",
    "\n",
    "# unpack the zip object and print the tuple values\n",
    "for value1, value2, value3 in mutants_zip:\n",
    "    print(value1, value2, value3)               # notice that you are iterating over a zip object"
   ]
  },
  {
   "cell_type": "code",
   "execution_count": null,
   "metadata": {},
   "outputs": [],
   "source": [
    "mutants = (\"charles xavier\", \"bobby drake\", \"kurt wagner\", \"max eisenhardt\", \"kitty pryde\")\n",
    "powers = (\"telepathy\", \"thermokinesis\", \"teleportation\", \"magnetokinesis\", \"intangibility\")\n",
    "\n",
    "z1 = zip(mutants, powers)\n",
    "\n",
    "# print the tuples in z1 by unpacking with *\n",
    "# this exhausts the content of the zip object (this is a tricky concept)\n",
    "print(*z1)\n",
    "print(\"\\n\")\n",
    "\n",
    "# when you apply * to a zip object, you exhaust the content of the object when it is unpacked\n",
    "# to use the zip object with its original content you thus have to re-create the zip object\n",
    "z1 = zip(mutants, powers)\n",
    "\n",
    "# \"Unzip\" the tuples in z1 by unpacking with * and zip()\n",
    "print(list(z1), \"\\n\")         # list of tuples is printed\n",
    "print(list(z1), \"\\n\")         # observe carefully the contents of the zip object as a result of the previous line\n",
    "\n",
    "z1 = zip(mutants, powers)\n",
    "\n",
    "result1, result2 = zip(*z1)\n",
    "print(result1, \"\\n\")\n",
    "print(type(result1), \"\\n\")\n",
    "print(result2, \"\\n\")\n",
    "print(type(result2), \"\\n\")\n",
    "\n",
    "print(list(z1))              # observe carefully the contents of the zip object\n",
    "\n",
    "# Check if unpacked tuples are equivalent to original tuples\n",
    "print(result1 == mutants)\n",
    "print(result2 == powers)"
   ]
  },
  {
   "cell_type": "code",
   "execution_count": null,
   "metadata": {},
   "outputs": [],
   "source": [
    "import pandas as pd\n",
    "counts_dict = {}\n",
    "\n",
    "for chunk in pd.read_csv(\"./data/tweets.csv\", chunksize=10):\n",
    "    for entry in chunk[\"lang\"]:                 # chunk is a pandas dataframe\n",
    "        if entry in counts_dict.keys():\n",
    "            counts_dict[entry] += 1\n",
    "        else:\n",
    "            counts_dict[entry] = 1\n",
    "\n",
    "print(counts_dict)"
   ]
  },
  {
   "cell_type": "code",
   "execution_count": null,
   "metadata": {},
   "outputs": [],
   "source": [
    "def count_entries(csv_file, c_size, colname):\n",
    "    \"\"\"Return a dictionary with counts of occurrences as value for each key.\"\"\"\n",
    "    counts_dict = {}\n",
    "\n",
    "    for chunk in pd.read_csv(csv_file, chunksize=c_size):\n",
    "        for entry in chunk[colname]:\n",
    "            if entry in counts_dict.keys():\n",
    "                counts_dict[entry] += 1\n",
    "            else:\n",
    "                counts_dict[entry] = 1\n",
    "\n",
    "    return counts_dict\n",
    "\n",
    "result_counts = count_entries(\"./data/tweets.csv\", 10, \"lang\")\n",
    "print(result_counts)"
   ]
  },
  {
   "cell_type": "markdown",
   "metadata": {},
   "source": [
    "### List Comprehensions"
   ]
  },
  {
   "cell_type": "markdown",
   "metadata": {},
   "source": [
    "List comprehensions collapse for loops for building lists  into a single line  \n",
    "Syntax for list comprehensions require: 1) iterable, 2) iterator variable, and 3) output expression  \n",
    "You can build a list comprehension over any iterable object - i.e. list comprehensions are NOT limited to lists"
   ]
  },
  {
   "cell_type": "code",
   "execution_count": 1,
   "metadata": {},
   "outputs": [
    {
     "name": "stdout",
     "output_type": "stream",
     "text": [
      "[0, 1, 4, 9, 16, 25, 36, 49, 64, 81]\n",
      "<class 'list'>\n"
     ]
    }
   ],
   "source": [
    "# range(10) is the iterable object\n",
    "# i is the iterator variable\n",
    "# i**2 is the output expression\n",
    "# the list comprehension gets outputed to the list object: squares\n",
    "squares = [i**2 for i in range(10)]\n",
    "print(squares)\n",
    "print(type(squares))"
   ]
  },
  {
   "cell_type": "code",
   "execution_count": 3,
   "metadata": {},
   "outputs": [
    {
     "name": "stdout",
     "output_type": "stream",
     "text": [
      "[[0, 1, 2, 3, 4], [0, 1, 2, 3, 4], [0, 1, 2, 3, 4], [0, 1, 2, 3, 4], [0, 1, 2, 3, 4]]\n",
      "[0, 1, 2, 3, 4]\n",
      "[0, 1, 2, 3, 4]\n",
      "[0, 1, 2, 3, 4]\n",
      "[0, 1, 2, 3, 4]\n",
      "[0, 1, 2, 3, 4]\n"
     ]
    }
   ],
   "source": [
    "# Create a 5 x 5 matrix using a list of lists: matrix\n",
    "matrix = [[col for col in range(5)] for row in range(5)]\n",
    "\n",
    "print(matrix)\n",
    "\n",
    "for row in matrix:\n",
    "    print(row)"
   ]
  },
  {
   "cell_type": "code",
   "execution_count": 6,
   "metadata": {},
   "outputs": [
    {
     "name": "stdout",
     "output_type": "stream",
     "text": [
      "['', 'samwise', '', 'aragorn', 'legolas', 'boromir', '']\n"
     ]
    }
   ],
   "source": [
    "fellowship = ['frodo', 'samwise', 'merry', 'aragorn', 'legolas', 'boromir', 'gimli']\n",
    "\n",
    "new_fellowship = [member if len(member) >= 7 else \"\" for member in fellowship]\n",
    "print(new_fellowship)"
   ]
  },
  {
   "cell_type": "code",
   "execution_count": 7,
   "metadata": {},
   "outputs": [
    {
     "name": "stdout",
     "output_type": "stream",
     "text": [
      "{'frodo': 5, 'samwise': 7, 'merry': 5, 'aragorn': 7, 'legolas': 7, 'boromir': 7, 'gimli': 5}\n"
     ]
    }
   ],
   "source": [
    "# let's use comprehension to create a dictionary (dict) comprehension\n",
    "fellowship = ['frodo', 'samwise', 'merry', 'aragorn', 'legolas', 'boromir', 'gimli']\n",
    "\n",
    "# dict comprehension\n",
    "new_fellowship = {member:len(member) for member in fellowship}\n",
    "\n",
    "print(new_fellowship)"
   ]
  },
  {
   "cell_type": "code",
   "execution_count": 8,
   "metadata": {},
   "outputs": [
    {
     "name": "stdout",
     "output_type": "stream",
     "text": [
      "0\n",
      "1\n",
      "2\n",
      "3\n",
      "4\n",
      "5\n",
      "6\n",
      "7\n",
      "8\n",
      "9\n",
      "10\n",
      "11\n",
      "12\n",
      "13\n",
      "14\n",
      "15\n",
      "16\n",
      "17\n",
      "18\n",
      "19\n",
      "20\n",
      "21\n",
      "22\n",
      "23\n",
      "24\n",
      "25\n",
      "26\n",
      "27\n",
      "28\n",
      "29\n",
      "30\n"
     ]
    }
   ],
   "source": [
    "# ceate generator object: result\n",
    "result = (num for num in range(31))\n",
    "\n",
    "# print the first 5 values in the generator object (also an iterator object)\n",
    "print(next(result))\n",
    "print(next(result))\n",
    "print(next(result))\n",
    "print(next(result))\n",
    "print(next(result))\n",
    "\n",
    "# iterate through the generator object\n",
    "for value in result:\n",
    "    print(value)"
   ]
  },
  {
   "cell_type": "code",
   "execution_count": 9,
   "metadata": {},
   "outputs": [
    {
     "name": "stdout",
     "output_type": "stream",
     "text": [
      "6\n",
      "5\n",
      "5\n",
      "6\n",
      "7\n"
     ]
    }
   ],
   "source": [
    "lannister = ['cersei', 'jaime', 'tywin', 'tyrion', 'joffrey']\n",
    "\n",
    "lengths = (len(x) for x in lannister)\n",
    "\n",
    "for value in lengths:\n",
    "    print(value)"
   ]
  },
  {
   "cell_type": "code",
   "execution_count": 12,
   "metadata": {},
   "outputs": [
    {
     "name": "stdout",
     "output_type": "stream",
     "text": [
      "<generator object get_lengths at 0x000001872E8A49C8>\n",
      "<class 'generator'>\n",
      "6\n",
      "5\n",
      "5\n",
      "6\n",
      "7\n"
     ]
    }
   ],
   "source": [
    "lannister = ['cersei', 'jaime', 'tywin', 'tyrion', 'joffrey']\n",
    "\n",
    "# define generator function get_lengths\n",
    "def get_lengths(input_list):\n",
    "    \"\"\"Generator function that yields the length of the strings in input_list.\"\"\"\n",
    "    for person in input_list:\n",
    "        yield len(person)\n",
    "\n",
    "y = get_lengths(lannister)\n",
    "print(y)                      # y is a generator object\n",
    "print(type(y))\n",
    "\n",
    "for value in get_lengths(lannister):       # iterate over the elements in a generator object\n",
    "    print(value)"
   ]
  },
  {
   "cell_type": "code",
   "execution_count": 13,
   "metadata": {},
   "outputs": [
    {
     "name": "stdout",
     "output_type": "stream",
     "text": [
      "['23:40:17', '23:40:17', '23:40:17', '23:40:17', '23:40:17', '23:40:17', '23:40:18', '23:40:17', '23:40:18', '23:40:18', '23:40:18', '23:40:17', '23:40:18', '23:40:18', '23:40:17', '23:40:18', '23:40:18', '23:40:17', '23:40:18', '23:40:17', '23:40:18', '23:40:18', '23:40:18', '23:40:18', '23:40:17', '23:40:18', '23:40:18', '23:40:17', '23:40:18', '23:40:18', '23:40:18', '23:40:18', '23:40:18', '23:40:18', '23:40:18', '23:40:18', '23:40:18', '23:40:18', '23:40:18', '23:40:18', '23:40:18', '23:40:18', '23:40:18', '23:40:18', '23:40:18', '23:40:18', '23:40:18', '23:40:18', '23:40:18', '23:40:18', '23:40:18', '23:40:18', '23:40:18', '23:40:18', '23:40:18', '23:40:18', '23:40:18', '23:40:18', '23:40:18', '23:40:18', '23:40:19', '23:40:18', '23:40:18', '23:40:18', '23:40:19', '23:40:19', '23:40:19', '23:40:18', '23:40:19', '23:40:19', '23:40:19', '23:40:18', '23:40:19', '23:40:19', '23:40:19', '23:40:18', '23:40:19', '23:40:19', '23:40:19', '23:40:19', '23:40:19', '23:40:19', '23:40:19', '23:40:19', '23:40:19', '23:40:19', '23:40:19', '23:40:19', '23:40:19', '23:40:19', '23:40:19', '23:40:19', '23:40:19', '23:40:19', '23:40:19', '23:40:19', '23:40:19', '23:40:19', '23:40:19', '23:40:19']\n"
     ]
    }
   ],
   "source": [
    "import pandas as pd\n",
    "df = pd.read_csv(\"./data/tweets.csv\")\n",
    "\n",
    "tweet_time = df[\"created_at\"]\n",
    "\n",
    "tweet_clock_time = [t[11:19] for t in tweet_time]\n",
    "\n",
    "print(tweet_clock_time)"
   ]
  },
  {
   "cell_type": "code",
   "execution_count": 14,
   "metadata": {},
   "outputs": [
    {
     "name": "stdout",
     "output_type": "stream",
     "text": [
      "['23:40:19', '23:40:19', '23:40:19', '23:40:19', '23:40:19', '23:40:19', '23:40:19', '23:40:19', '23:40:19', '23:40:19', '23:40:19', '23:40:19', '23:40:19', '23:40:19', '23:40:19', '23:40:19', '23:40:19', '23:40:19', '23:40:19', '23:40:19', '23:40:19', '23:40:19', '23:40:19', '23:40:19', '23:40:19', '23:40:19', '23:40:19', '23:40:19', '23:40:19', '23:40:19', '23:40:19', '23:40:19', '23:40:19', '23:40:19']\n"
     ]
    }
   ],
   "source": [
    "import pandas as pd\n",
    "df = pd.read_csv(\"./data/tweets.csv\")\n",
    "\n",
    "tweet_time = df[\"created_at\"]\n",
    "\n",
    "tweet_clock_time = [time[11:19] for time in tweet_time if time[17:19] == \"19\"]\n",
    "\n",
    "print(tweet_clock_time)"
   ]
  },
  {
   "cell_type": "code",
   "execution_count": null,
   "metadata": {},
   "outputs": [],
   "source": []
  }
 ],
 "metadata": {
  "kernelspec": {
   "display_name": "Python 3",
   "language": "python",
   "name": "python3"
  },
  "language_info": {
   "codemirror_mode": {
    "name": "ipython",
    "version": 3
   },
   "file_extension": ".py",
   "mimetype": "text/x-python",
   "name": "python",
   "nbconvert_exporter": "python",
   "pygments_lexer": "ipython3",
   "version": "3.7.4"
  }
 },
 "nbformat": 4,
 "nbformat_minor": 4
}
