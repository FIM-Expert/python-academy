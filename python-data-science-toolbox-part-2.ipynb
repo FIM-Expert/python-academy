{
 "cells": [
  {
   "cell_type": "markdown",
   "metadata": {},
   "source": [
    "# Python Data Science Toolbox - Part 2"
   ]
  },
  {
   "cell_type": "markdown",
   "metadata": {},
   "source": [
    "## Iterators"
   ]
  },
  {
   "cell_type": "markdown",
   "metadata": {},
   "source": [
    "An iterable is an object that can return an iterator, while an iterator is an object that keeps state and produces the next value when you call next() on it."
   ]
  },
  {
   "cell_type": "code",
   "execution_count": null,
   "metadata": {
    "jupyter": {
     "source_hidden": true
    }
   },
   "outputs": [],
   "source": [
    "flash = ['jay garrick', 'barry allen', 'wally west', 'bart allen']      # a list is an iterable object\n",
    "\n",
    "for element in flash:\n",
    "    print(element)\n",
    "\n",
    "superhero = iter(flash)      # create an iterator object for flash: superhero\n",
    "\n",
    "# invoke next() on the superhero iterator to print each iterator value\n",
    "print(next(superhero))\n",
    "print(next(superhero))\n",
    "print(next(superhero))\n",
    "print(next(superhero))"
   ]
  },
  {
   "cell_type": "code",
   "execution_count": null,
   "metadata": {
    "jupyter": {
     "source_hidden": true
    }
   },
   "outputs": [],
   "source": [
    "# Create an iterator for range(3): small_value\n",
    "small_value = iter(range(3))\n",
    "print(type(small_value))\n",
    "\n",
    "small_value_range = range(3)\n",
    "print(type(small_value_range))     # range is an iterable object of type range\n",
    "\n",
    "# Print the values in small_value\n",
    "print(next(small_value))\n",
    "print(next(small_value))\n",
    "print(next(small_value))\n",
    "\n",
    "# Loop over range(3) and print the values\n",
    "for i in range(3):\n",
    "    print(i)\n",
    "\n",
    "# Create an iterator for range(10 ** 100): googol\n",
    "googol = iter(range(10**100))\n",
    "\n",
    "# Print the first 5 values from googol\n",
    "print(next(googol))\n",
    "print(next(googol))\n",
    "print(next(googol))\n",
    "print(next(googol))\n",
    "print(next(googol))"
   ]
  },
  {
   "cell_type": "code",
   "execution_count": null,
   "metadata": {
    "jupyter": {
     "source_hidden": true
    }
   },
   "outputs": [],
   "source": [
    "values = range(10, 21)      # values is a range object\n",
    "print(type(values))\n",
    "print(values)\n",
    "\n",
    "values_list = list(values)  # convert a range object to a list object\n",
    "print(type(values_list))\n",
    "print(values_list)\n",
    "\n",
    "values_sum = sum(values)               # you can invoke sum on a range object or a list object\n",
    "values_list_sum = sum(values_list)\n",
    "\n",
    "print(values_sum)\n",
    "print(values_list_sum)"
   ]
  },
  {
   "cell_type": "code",
   "execution_count": 1,
   "metadata": {
    "collapsed": true,
    "jupyter": {
     "outputs_hidden": true
    }
   },
   "outputs": [
    {
     "name": "stdout",
     "output_type": "stream",
     "text": [
      "[(0, 'charles xavier'), (1, 'bobby drake'), (2, 'kurt wagner'), (3, 'max eisenhardt'), (4, 'kitty pryde')] \n",
      "\n",
      "0 charles xavier\n",
      "1 bobby drake\n",
      "2 kurt wagner\n",
      "3 max eisenhardt\n",
      "4 kitty pryde\n",
      "\n",
      "\n",
      "1 charles xavier\n",
      "2 bobby drake\n",
      "3 kurt wagner\n",
      "4 max eisenhardt\n",
      "5 kitty pryde\n"
     ]
    }
   ],
   "source": [
    "# enumerate() returns an enumerate object that produces a sequence of tuples, and each of the tuples is an index-value pair\n",
    "mutants = ['charles xavier', 'bobby drake', 'kurt wagner', 'max eisenhardt', 'kitty pryde']\n",
    "\n",
    "mutant_list = list(enumerate(mutants))\n",
    "\n",
    "print(mutant_list, \"\\n\")\n",
    "\n",
    "for index1, value1 in enumerate(mutants):\n",
    "    print(index1, value1)\n",
    "\n",
    "print(\"\\n\")    \n",
    "\n",
    "for index2, value2 in enumerate(mutants, start=1):\n",
    "    print(index2, value2)"
   ]
  },
  {
   "cell_type": "code",
   "execution_count": 4,
   "metadata": {},
   "outputs": [
    {
     "name": "stdout",
     "output_type": "stream",
     "text": [
      "<zip object at 0x000001DAB15CE448> \n",
      "\n",
      "<class 'zip'> \n",
      "\n",
      "[('charles xavier', 'prof x', 'telepathy'), ('bobby drake', 'iceman', 'thermokinesis'), ('kurt wagner', 'nightcrawler', 'teleportation'), ('max eisenhardt', 'magneto', 'magnetokinesis'), ('kitty pryde', 'shadowcat', 'intangibility')] \n",
      "\n"
     ]
    }
   ],
   "source": [
    "mutants = ['charles xavier', 'bobby drake', 'kurt wagner', 'max eisenhardt', 'kitty pryde']\n",
    "aliases = [\"prof x\", \"iceman\", \"nightcrawler\", \"magneto\", \"shadowcat\"]\n",
    "powers = [\"telepathy\", \"thermokinesis\", \"teleportation\", \"magnetokinesis\", \"intangibility\"]\n",
    "\n",
    "# create a zip object\n",
    "mutants_zip = zip(mutants, aliases, powers)\n",
    "print(mutants_zip, \"\\n\")\n",
    "print(type(mutants_zip), \"\\n\")\n",
    "\n",
    "# convert a zip object into a list of tuples\n",
    "mutants_zip_list = list(mutants_zip)\n",
    "print(mutants_zip_list, \"\\n\")\n",
    "\n",
    "# unpack the zip object and print the tuple values\n",
    "for value1, value2, value3 in mutants_zip:\n",
    "    print(value1, value2, value3)               # notice that you are iterating over a zip object"
   ]
  },
  {
   "cell_type": "code",
   "execution_count": 15,
   "metadata": {},
   "outputs": [
    {
     "name": "stdout",
     "output_type": "stream",
     "text": [
      "('charles xavier', 'telepathy') ('bobby drake', 'thermokinesis') ('kurt wagner', 'teleportation') ('max eisenhardt', 'magnetokinesis') ('kitty pryde', 'intangibility')\n",
      "\n",
      "\n",
      "[('charles xavier', 'telepathy'), ('bobby drake', 'thermokinesis'), ('kurt wagner', 'teleportation'), ('max eisenhardt', 'magnetokinesis'), ('kitty pryde', 'intangibility')] \n",
      "\n",
      "[] \n",
      "\n",
      "('charles xavier', 'bobby drake', 'kurt wagner', 'max eisenhardt', 'kitty pryde') \n",
      "\n",
      "<class 'tuple'> \n",
      "\n",
      "('telepathy', 'thermokinesis', 'teleportation', 'magnetokinesis', 'intangibility') \n",
      "\n",
      "<class 'tuple'> \n",
      "\n",
      "[]\n",
      "True\n",
      "True\n"
     ]
    }
   ],
   "source": [
    "mutants = (\"charles xavier\", \"bobby drake\", \"kurt wagner\", \"max eisenhardt\", \"kitty pryde\")\n",
    "powers = (\"telepathy\", \"thermokinesis\", \"teleportation\", \"magnetokinesis\", \"intangibility\")\n",
    "\n",
    "z1 = zip(mutants, powers)\n",
    "\n",
    "# print the tuples in z1 by unpacking with *\n",
    "# this exhausts the content of the zip object (this is a tricky concept)\n",
    "print(*z1)\n",
    "print(\"\\n\")\n",
    "\n",
    "# when you apply * to a zip object, you exhaust the content of the object when it is unpacked\n",
    "# to use the zip object with its original content you thus have to re-create the zip object\n",
    "z1 = zip(mutants, powers)\n",
    "\n",
    "# \"Unzip\" the tuples in z1 by unpacking with * and zip()\n",
    "print(list(z1), \"\\n\")         # list of tuples is printed\n",
    "print(list(z1), \"\\n\")         # observe carefully the contents of the zip object as a result of the previous line\n",
    "\n",
    "z1 = zip(mutants, powers)\n",
    "\n",
    "result1, result2 = zip(*z1)\n",
    "print(result1, \"\\n\")\n",
    "print(type(result1), \"\\n\")\n",
    "print(result2, \"\\n\")\n",
    "print(type(result2), \"\\n\")\n",
    "\n",
    "print(list(z1))              # observe carefully the contents of the zip object\n",
    "\n",
    "# Check if unpacked tuples are equivalent to original tuples\n",
    "print(result1 == mutants)\n",
    "print(result2 == powers)"
   ]
  },
  {
   "cell_type": "code",
   "execution_count": null,
   "metadata": {},
   "outputs": [],
   "source": []
  }
 ],
 "metadata": {
  "kernelspec": {
   "display_name": "Python 3",
   "language": "python",
   "name": "python3"
  },
  "language_info": {
   "codemirror_mode": {
    "name": "ipython",
    "version": 3
   },
   "file_extension": ".py",
   "mimetype": "text/x-python",
   "name": "python",
   "nbconvert_exporter": "python",
   "pygments_lexer": "ipython3",
   "version": "3.7.4"
  }
 },
 "nbformat": 4,
 "nbformat_minor": 4
}
