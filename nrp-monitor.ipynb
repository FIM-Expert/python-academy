{
 "cells": [
  {
   "cell_type": "markdown",
   "metadata": {},
   "source": [
    "# <span style=\"color:maroon\">**NRP Monitor Software**</span>"
   ]
  },
  {
   "cell_type": "markdown",
   "metadata": {},
   "source": [
    "###### <span style=\"color:green\">**Import modules and define utility functions**</span>"
   ]
  },
  {
   "cell_type": "code",
   "execution_count": 5,
   "metadata": {
    "jupyter": {
     "source_hidden": true
    }
   },
   "outputs": [],
   "source": [
    "import pandas as pd\n",
    "import glob\n",
    "from matplotlib import pyplot as plt"
   ]
  },
  {
   "cell_type": "code",
   "execution_count": 2,
   "metadata": {
    "jupyter": {
     "source_hidden": true
    }
   },
   "outputs": [],
   "source": [
    "# Utility Functions\n",
    "def combine_dataframes(pattern, names, index_col, na_values, header=1, parse_dates=True, ignore_index=True):\n",
    "    # creates a list of file pointers matching the pattern\n",
    "    files = glob.glob(pattern)                        \n",
    "    frames = []\n",
    "   \n",
    "    # iterate through each file pointer\n",
    "    for f in files:\n",
    "    \n",
    "        # loads file into dataframe variable: df\n",
    "        df = pd.read_csv(f, names=names, index_col=index_col, na_values=na_values,\n",
    "                         header=header, parse_dates=parse_dates)                           \n",
    "        \n",
    "        # adds dataframe from df into list: frames\n",
    "        frames.append(df)  \n",
    "    \n",
    "    # concatenate all dataframes in frames into a single dataframe\n",
    "    return pd.concat(frames, ignore_index=ignore_index)    \n",
    "\n",
    "def fillgaps(df,):\n",
    "    s = []\n",
    "    df.apply(lambda col: s.append(col.loc[col.first_valid_index():col.last_valid_index()].fillna(0)))\n",
    "    return pd.DataFrame(s).transpose()\n",
    "\n",
    "def df_eda(df):\n",
    "    print(df.head(), \"\\n\")\n",
    "    print(df.tail(), \"\\n\")\n",
    "    print(df.shape, \"\\n\")\n",
    "    print(df.columns, \"\\n\")\n",
    "    print(df.info(), \"\\n\")\n",
    "    print(df.dtypes, \"\\n\")\n",
    "    print(df.describe())"
   ]
  },
  {
   "cell_type": "markdown",
   "metadata": {},
   "source": [
    "###### <span style=\"color:green\">**Load, clean, and shape data**</span>"
   ]
  },
  {
   "cell_type": "code",
   "execution_count": 3,
   "metadata": {},
   "outputs": [],
   "source": [
    "# load daily manager data into a dataframe: mgr_data\n",
    "col_names = [\"date\", \"manager\", \"profit\", \"flow\", \"equity_sod\", \"roe\"]\n",
    "mgr_data = combine_dataframes(\"./data/manager_data.csv\", names=col_names, index_col=\"date\", na_values=\" #N/A N/A \", ignore_index=False)\n",
    "\n",
    "# pivot mgr_data into a tidy dataframes for all data columns\n",
    "profits = fillgaps(pd.pivot_table(mgr_data, values=\"profit\", index=\"date\", columns=\"manager\"))\n",
    "flows = fillgaps(pd.pivot_table(mgr_data, values=\"flow\", index=\"date\", columns=\"manager\"))\n",
    "equity_sod = fillgaps(pd.pivot_table(mgr_data, values=\"equity_sod\", index=\"date\", columns=\"manager\"))\n",
    "roes = fillgaps(pd.pivot_table(mgr_data, values=\"roe\", index=\"date\", columns=\"manager\"))"
   ]
  },
  {
   "cell_type": "markdown",
   "metadata": {},
   "source": [
    "###### <span style=\"color:green\">**Generate basic analytical dataframes**</span>"
   ]
  },
  {
   "cell_type": "code",
   "execution_count": 21,
   "metadata": {},
   "outputs": [
    {
     "data": {
      "image/png": "[encoded data removed]",
      "text/plain": [
       "<Figure size 1080x576 with 1 Axes>"
      ]
     },
     "metadata": {
      "needs_background": "light"
     },
     "output_type": "display_data"
    }
   ],
   "source": [
    "# cumulative profits\n",
    "profits_rc = profits.cumsum()\n",
    "profits_hwm = profits_rc.cummax()\n",
    "\n",
    "profits_hwm[[\"Tyler\"]].plot(figsize=(15,8))\n",
    "plt.show()"
   ]
  },
  {
   "cell_type": "markdown",
   "metadata": {},
   "source": [
    "###### <span style=\"color:green\">**Exploratory data analysis**</span>"
   ]
  },
  {
   "cell_type": "code",
   "execution_count": 22,
   "metadata": {},
   "outputs": [
    {
     "name": "stdout",
     "output_type": "stream",
     "text": [
      "            Anthony  Anuj         Bart  Bill        Chip      Dave E  \\\n",
      "date                                                                   \n",
      "2013-01-01      NaN   NaN          NaN   NaN         NaN         NaN   \n",
      "2013-01-02      NaN   NaN      1628.51   NaN  4163333.65  3441953.74   \n",
      "2013-01-03      NaN   NaN -16929803.63   NaN   -75765.41 -2443353.06   \n",
      "2013-01-04      NaN   NaN   4053566.99   NaN  2109927.98  2744626.48   \n",
      "2013-01-07      NaN   NaN    513862.38   NaN -1550574.94 -1612212.07   \n",
      "\n",
      "                    Ed  John  Kevin  Marc        Mike          PAR  \\\n",
      "date                                                                 \n",
      "2013-01-01         NaN   NaN    NaN   NaN         NaN         0.00   \n",
      "2013-01-02  2343918.45   NaN    NaN   NaN  2762256.96  29013715.61   \n",
      "2013-01-03  1158426.35   NaN    NaN   NaN    91146.84  -7308219.82   \n",
      "2013-01-04  8962800.87   NaN    NaN   NaN   766563.84  27189575.04   \n",
      "2013-01-07  1707778.43   NaN    NaN   NaN -1011591.09   2572684.81   \n",
      "\n",
      "                   Paul  Paul O        Rick  Sean  Tyler  Will  \n",
      "date                                                            \n",
      "2013-01-01          NaN     NaN         NaN   NaN    NaN   NaN  \n",
      "2013-01-02  12342130.09     NaN  3958494.21   NaN    NaN   NaN  \n",
      "2013-01-03   8108240.36     NaN  2782888.73   NaN    NaN   NaN  \n",
      "2013-01-04   6558341.16     NaN  1993747.72   NaN    NaN   NaN  \n",
      "2013-01-07   2417951.19     NaN  2107470.91   NaN    NaN   NaN   \n",
      "\n",
      "               Anthony  Anuj        Bart  Bill  Chip  Dave E        Ed  \\\n",
      "date                                                                     \n",
      "2019-11-05  3930511.76   NaN  1564807.70   NaN   NaN     NaN  25383.91   \n",
      "2019-11-06   187796.10   NaN  8553529.42   NaN   NaN     NaN  -4833.27   \n",
      "2019-11-07  -147541.34   NaN -1628423.74   NaN   NaN     NaN  11710.82   \n",
      "2019-11-08  1953623.71   NaN   935530.78   NaN   NaN     NaN   9327.43   \n",
      "2019-11-11    84130.65   NaN  -353211.98   NaN   NaN     NaN  -8218.06   \n",
      "\n",
      "                   John       Kevin       Marc        Mike           PAR  \\\n",
      "date                                                                       \n",
      "2019-11-05  -4305941.06   936335.55    18270.0   -82715.71  1.086075e+07   \n",
      "2019-11-06  -1697023.66  1492603.44  1599340.0 -4531566.87  3.119155e+07   \n",
      "2019-11-07 -32774133.35  -284049.84   215070.0   776358.51 -3.161993e+08   \n",
      "2019-11-08  15271901.88   178829.25  -161780.0    83107.85  5.162145e+07   \n",
      "2019-11-11  -2178835.13  -125701.24   176220.0   510672.09 -1.832994e+07   \n",
      "\n",
      "                    Paul  Paul O  Rick  Sean       Tyler  Will  \n",
      "date                                                            \n",
      "2019-11-05  5.921646e+06     NaN   NaN   NaN   2852448.0   NaN  \n",
      "2019-11-06  1.613309e+06     NaN   NaN   NaN  23978391.0   NaN  \n",
      "2019-11-07 -2.784462e+08     NaN   NaN   NaN  -3922116.0   NaN  \n",
      "2019-11-08  3.138985e+07     NaN   NaN   NaN   1961058.0   NaN  \n",
      "2019-11-11 -1.518705e+07     NaN   NaN   NaN  -1247946.0   NaN   \n",
      "\n",
      "(1735, 18) \n",
      "\n",
      "Index(['Anthony', 'Anuj', 'Bart', 'Bill', 'Chip', 'Dave E', 'Ed', 'John',\n",
      "       'Kevin', 'Marc', 'Mike', 'PAR', 'Paul', 'Paul O', 'Rick', 'Sean',\n",
      "       'Tyler', 'Will'],\n",
      "      dtype='object') \n",
      "\n",
      "<class 'pandas.core.frame.DataFrame'>\n",
      "DatetimeIndex: 1735 entries, 2013-01-01 to 2019-11-11\n",
      "Data columns (total 18 columns):\n",
      "Anthony    710 non-null float64\n",
      "Anuj       229 non-null float64\n",
      "Bart       1734 non-null float64\n",
      "Bill       756 non-null float64\n",
      "Chip       1542 non-null float64\n",
      "Dave E     501 non-null float64\n",
      "Ed         1734 non-null float64\n",
      "John       1723 non-null float64\n",
      "Kevin      1727 non-null float64\n",
      "Marc       1323 non-null float64\n",
      "Mike       1734 non-null float64\n",
      "PAR        1735 non-null float64\n",
      "Paul       1734 non-null float64\n",
      "Paul O     252 non-null float64\n",
      "Rick       1551 non-null float64\n",
      "Sean       227 non-null float64\n",
      "Tyler      722 non-null float64\n",
      "Will       792 non-null float64\n",
      "dtypes: float64(18)\n",
      "memory usage: 337.5 KB\n",
      "None \n",
      "\n",
      "Anthony    float64\n",
      "Anuj       float64\n",
      "Bart       float64\n",
      "Bill       float64\n",
      "Chip       float64\n",
      "Dave E     float64\n",
      "Ed         float64\n",
      "John       float64\n",
      "Kevin      float64\n",
      "Marc       float64\n",
      "Mike       float64\n",
      "PAR        float64\n",
      "Paul       float64\n",
      "Paul O     float64\n",
      "Rick       float64\n",
      "Sean       float64\n",
      "Tyler      float64\n",
      "Will       float64\n",
      "dtype: object \n",
      "\n",
      "            Anthony           Anuj          Bart          Bill          Chip  \\\n",
      "count  7.100000e+02     229.000000  1.734000e+03  7.560000e+02  1.542000e+03   \n",
      "mean   4.440315e+04   -3376.097729  1.601334e+05 -4.809020e+03  4.304669e+04   \n",
      "std    8.053216e+05   56493.859229  6.404394e+06  3.528714e+06  6.274520e+06   \n",
      "min   -4.471738e+06 -331212.800000 -6.013030e+07 -2.631254e+07 -4.507984e+07   \n",
      "25%   -3.261222e+05  -21958.500000 -2.594644e+06 -1.015734e+06 -2.660983e+06   \n",
      "50%    2.097121e+04    4051.000000  2.759931e+05 -3.571276e+04  2.858276e+05   \n",
      "75%    4.667121e+05   23866.820000  2.907787e+06  9.852414e+05  3.454046e+06   \n",
      "max    4.925517e+06  175633.400000  3.359352e+07  2.995314e+07  3.655503e+07   \n",
      "\n",
      "             Dave E            Ed          John         Kevin          Marc  \\\n",
      "count  5.010000e+02  1.734000e+03  1.723000e+03  1.727000e+03  1.323000e+03   \n",
      "mean   8.069931e+04 -1.738569e+04  1.992076e+04  8.221718e+04  9.710064e+04   \n",
      "std    2.658350e+06  1.026128e+07  2.583471e+06  1.607114e+06  1.369198e+06   \n",
      "min   -1.142979e+07 -7.920451e+07 -3.277413e+07 -1.193192e+07 -6.842800e+06   \n",
      "25%   -1.231965e+06 -3.945882e+06 -5.947277e+05 -5.391495e+05 -5.080774e+05   \n",
      "50%    1.515936e+05 -2.591140e+03  5.058783e+04  6.914311e+04  1.059830e+05   \n",
      "75%    1.625255e+06  4.332956e+06  7.900032e+05  7.374302e+05  7.635443e+05   \n",
      "max    9.377458e+06  5.196261e+07  1.550467e+07  1.186967e+07  7.824114e+06   \n",
      "\n",
      "               Mike           PAR          Paul         Paul O          Rick  \\\n",
      "count  1.734000e+03  1.735000e+03  1.734000e+03     252.000000  1.551000e+03   \n",
      "mean   1.990959e+05  1.872317e+06  1.123962e+06   -6079.302778  1.466621e+05   \n",
      "std    3.337779e+06  3.688908e+07  1.913309e+07   91264.458336  5.475681e+06   \n",
      "min   -2.038260e+07 -3.161993e+08 -2.784462e+08 -534817.900000 -5.917891e+07   \n",
      "25%   -1.420907e+06 -1.636429e+07 -6.443406e+06  -50894.500000 -2.338366e+06   \n",
      "50%    2.841149e+05  3.192210e+06  1.663196e+06    -666.400000  4.600098e+04   \n",
      "75%    2.006790e+06  2.396716e+07  9.899523e+06   37288.217500  3.009812e+06   \n",
      "max    1.582130e+07  1.500956e+08  8.728881e+07  250432.660000  3.644963e+07   \n",
      "\n",
      "                Sean         Tyler          Will  \n",
      "count     227.000000  7.220000e+02  7.920000e+02  \n",
      "mean     3876.558194  5.255370e+04  4.286278e+03  \n",
      "std    118743.533263  1.850392e+06  7.671157e+05  \n",
      "min   -913220.280000 -8.795048e+06 -5.580602e+06  \n",
      "25%    -45045.035000 -5.361266e+05 -3.835345e+05  \n",
      "50%      6562.640000  3.170298e+04  1.690440e+04  \n",
      "75%     72712.175000  7.042392e+05  4.130691e+05  \n",
      "max    375257.420000  2.397839e+07  3.518663e+06  \n"
     ]
    }
   ],
   "source": [
    "selected_df = profits\n",
    "df_eda(selected_df)\n",
    "selected_df.to_csv(\"deletesoon.csv\")"
   ]
  },
  {
   "cell_type": "code",
   "execution_count": null,
   "metadata": {
    "jupyter": {
     "source_hidden": true
    }
   },
   "outputs": [],
   "source": [
    "print(df.ticker.value_counts(dropna=False), \"\\n\")\n",
    "print(df[\"ticker\"].value_counts(dropna=False), \"\\n\")     # same as previous lines\n",
    "print(df[df.volume > 1000000000], \"\\n\")                  # basic filtering - version 1\n",
    "print(df[df[\"volume\"] > 1000000000])                     # basic filtering - version 2"
   ]
  },
  {
   "cell_type": "code",
   "execution_count": null,
   "metadata": {
    "jupyter": {
     "source_hidden": true
    }
   },
   "outputs": [],
   "source": [
    "import matplotlib.pyplot as mpl\n",
    "%matplotlib inline\n",
    "\n",
    "# plot histogram of volume - note the use of logarithmic transforms of both the x and y axis\n",
    "df.volume.plot(kind=\"hist\", rot=70, logx=True, logy=True, figsize=(12, 6))"
   ]
  },
  {
   "cell_type": "code",
   "execution_count": null,
   "metadata": {
    "jupyter": {
     "source_hidden": true
    }
   },
   "outputs": [],
   "source": [
    "# Boxplots are great when you have a numeric column that you want to compare across different categories.\n",
    "df.boxplot(column=\"volume\", by=\"ticker\", rot=90, figsize=(12,6))"
   ]
  },
  {
   "cell_type": "code",
   "execution_count": null,
   "metadata": {
    "jupyter": {
     "source_hidden": true
    }
   },
   "outputs": [],
   "source": [
    "# When you want to visualize two numeric columns, scatter plots are ideal.\n",
    "# Notice the fan shapped pattern - why is that the case?\n",
    "df[df[\"ticker\"]==\"MU\"].plot(kind=\"scatter\", x=\"close\", y=\"cap\", rot=90, figsize=(12,6))"
   ]
  },
  {
   "cell_type": "markdown",
   "metadata": {},
   "source": [
    "###### <span style=\"color:green\">**Miscellaneous and Supplementary**</span>"
   ]
  },
  {
   "cell_type": "code",
   "execution_count": null,
   "metadata": {
    "jupyter": {
     "source_hidden": true
    }
   },
   "outputs": [],
   "source": [
    "# roes.profit = pd.to_numeric(roes.profit, errors=\"coerce\")\n",
    "# roes.flow = pd.to_numeric(roes.flow, errors=\"coerce\")\n",
    "# roes.equity_sod = pd.to_numeric(roes.equity_sod, errors=\"coerce\")\n",
    "# roes.roe = pd.to_numeric(roes.roe, errors=\"coerce\")"
   ]
  }
 ],
 "metadata": {
  "kernelspec": {
   "display_name": "Python 3",
   "language": "python",
   "name": "python3"
  },
  "language_info": {
   "codemirror_mode": {
    "name": "ipython",
    "version": 3
   },
   "file_extension": ".py",
   "mimetype": "text/x-python",
   "name": "python",
   "nbconvert_exporter": "python",
   "pygments_lexer": "ipython3",
   "version": "3.7.4"
  }
 },
 "nbformat": 4,
 "nbformat_minor": 4
}
