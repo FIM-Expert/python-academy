{
 "cells": [
  {
   "cell_type": "markdown",
   "metadata": {},
   "source": [
    "# <span style=\"color:maroon\">**NRP Monitor Software**</span>"
   ]
  },
  {
   "cell_type": "markdown",
   "metadata": {},
   "source": [
    "###### <span style=\"color:green\">**Import modules and define utility functions**</span>"
   ]
  },
  {
   "cell_type": "code",
   "execution_count": 1,
   "metadata": {
    "jupyter": {
     "source_hidden": true
    }
   },
   "outputs": [],
   "source": [
    "import pandas as pd\n",
    "import numpy as np\n",
    "import math\n",
    "import glob\n",
    "from matplotlib import pyplot as plt"
   ]
  },
  {
   "cell_type": "code",
   "execution_count": 1,
   "metadata": {
    "jupyter": {
     "source_hidden": true
    }
   },
   "outputs": [],
   "source": [
    "# Utility Functions\n",
    "def combine_dataframes(pattern, names, index_col, na_values, header=1, parse_dates=True, ignore_index=True):\n",
    "    # creates a list of file pointers matching the pattern\n",
    "    files = glob.glob(pattern)                        \n",
    "    frames = []\n",
    "   \n",
    "    # iterate through each file pointer\n",
    "    for f in files:\n",
    "    \n",
    "        # loads file into dataframe variable: df\n",
    "        df = pd.read_csv(f, names=names, index_col=index_col, na_values=na_values,\n",
    "                         header=header, parse_dates=parse_dates)                           \n",
    "        \n",
    "        # adds dataframe from df into list: frames\n",
    "        frames.append(df)  \n",
    "    \n",
    "    # concatenate all dataframes in frames into a single dataframe\n",
    "    return pd.concat(frames, ignore_index=ignore_index)    \n",
    "\n",
    "def fillgaps(df):\n",
    "    s = []\n",
    "    df.apply(lambda col: s.append(col.loc[col.first_valid_index():col.last_valid_index()].fillna(0)))\n",
    "    return pd.DataFrame(s).transpose()\n",
    "\n",
    "def df_eda(df):\n",
    "    print(df.head(), \"\\n\")\n",
    "    print(df.tail(), \"\\n\")\n",
    "    print(df.shape, \"\\n\")\n",
    "    print(df.columns, \"\\n\")\n",
    "    print(df.info(), \"\\n\")\n",
    "    print(df.dtypes, \"\\n\")\n",
    "    print(df.describe())"
   ]
  },
  {
   "cell_type": "markdown",
   "metadata": {},
   "source": [
    "###### <span style=\"color:green\">**Load, clean, and shape data**</span>"
   ]
  },
  {
   "cell_type": "code",
   "execution_count": 21,
   "metadata": {
    "jupyter": {
     "source_hidden": true
    }
   },
   "outputs": [],
   "source": [
    "# load daily manager data into a dataframe: mgr_data\n",
    "col_names = [\"date\", \"manager\", \"profit\", \"flow\", \"equity_sod\", \"roe\"]\n",
    "mgr_data = combine_dataframes(\"./data/manager_data.csv\", names=col_names, index_col=\"date\", na_values=\" #N/A N/A \", ignore_index=False)\n",
    "\n",
    "# pivot mgr_data into a tidy dataframes for all data columns\n",
    "profits = fillgaps(pd.pivot_table(mgr_data, values=\"profit\", index=\"date\", columns=\"manager\"))\n",
    "flows = fillgaps(pd.pivot_table(mgr_data, values=\"flow\", index=\"date\", columns=\"manager\"))\n",
    "equity_sod = fillgaps(pd.pivot_table(mgr_data, values=\"equity_sod\", index=\"date\", columns=\"manager\"))\n",
    "roes = fillgaps(pd.pivot_table(mgr_data, values=\"roe\", index=\"date\", columns=\"manager\"))"
   ]
  },
  {
   "cell_type": "markdown",
   "metadata": {},
   "source": [
    "###### <span style=\"color:green\">**Generate basic analytical dataframes**</span>"
   ]
  },
  {
   "cell_type": "code",
   "execution_count": null,
   "metadata": {
    "jupyter": {
     "source_hidden": true
    }
   },
   "outputs": [],
   "source": [
    "# roe analytics dataframes\n",
    "days_rc = roes.applymap(lambda x: 0 if math.isnan(x) else 1).cumsum()\n",
    "roes_af = days_rc.applymap(lambda x: 252/x if x >= 252 else 1)\n",
    "roes_rc = (1+roes).cumprod() - 1\n",
    "roes_ac = (1+roes_rc)**roes_af - 1\n",
    "\n",
    "roes_ac.plot(figsize=(15,8))\n",
    "plt.show()"
   ]
  },
  {
   "cell_type": "markdown",
   "metadata": {},
   "source": [
    "###### <span style=\"color:green\">**Exploratory data analysis**</span>"
   ]
  },
  {
   "cell_type": "code",
   "execution_count": 5,
   "metadata": {
    "collapsed": true,
    "jupyter": {
     "outputs_hidden": true,
     "source_hidden": true
    }
   },
   "outputs": [
    {
     "ename": "NameError",
     "evalue": "name 'profits_test' is not defined",
     "output_type": "error",
     "traceback": [
      "\u001b[1;31m---------------------------------------------------------------------------\u001b[0m",
      "\u001b[1;31mNameError\u001b[0m                                 Traceback (most recent call last)",
      "\u001b[1;32m<ipython-input-5-cc18f3a65d10>\u001b[0m in \u001b[0;36m<module>\u001b[1;34m\u001b[0m\n\u001b[1;32m----> 1\u001b[1;33m \u001b[0mselected_df\u001b[0m \u001b[1;33m=\u001b[0m \u001b[0mprofits_test\u001b[0m\u001b[1;33m\u001b[0m\u001b[1;33m\u001b[0m\u001b[0m\n\u001b[0m\u001b[0;32m      2\u001b[0m \u001b[1;31m#df_eda(selected_df)\u001b[0m\u001b[1;33m\u001b[0m\u001b[1;33m\u001b[0m\u001b[1;33m\u001b[0m\u001b[0m\n\u001b[0;32m      3\u001b[0m \u001b[1;31m#selected_df.to_csv(\"deletesoon.csv\")\u001b[0m\u001b[1;33m\u001b[0m\u001b[1;33m\u001b[0m\u001b[1;33m\u001b[0m\u001b[0m\n",
      "\u001b[1;31mNameError\u001b[0m: name 'profits_test' is not defined"
     ]
    }
   ],
   "source": [
    "selected_df = profits_test\n",
    "#df_eda(selected_df)\n",
    "#selected_df.to_csv(\"deletesoon.csv\")"
   ]
  },
  {
   "cell_type": "code",
   "execution_count": null,
   "metadata": {
    "jupyter": {
     "source_hidden": true
    }
   },
   "outputs": [],
   "source": [
    "print(df.ticker.value_counts(dropna=False), \"\\n\")\n",
    "print(df[\"ticker\"].value_counts(dropna=False), \"\\n\")     # same as previous lines\n",
    "print(df[df.volume > 1000000000], \"\\n\")                  # basic filtering - version 1\n",
    "print(df[df[\"volume\"] > 1000000000])                     # basic filtering - version 2"
   ]
  },
  {
   "cell_type": "code",
   "execution_count": null,
   "metadata": {
    "jupyter": {
     "source_hidden": true
    }
   },
   "outputs": [],
   "source": [
    "import matplotlib.pyplot as mpl\n",
    "%matplotlib inline\n",
    "\n",
    "# plot histogram of volume - note the use of logarithmic transforms of both the x and y axis\n",
    "df.volume.plot(kind=\"hist\", rot=70, logx=True, logy=True, figsize=(12, 6))"
   ]
  },
  {
   "cell_type": "code",
   "execution_count": null,
   "metadata": {
    "jupyter": {
     "source_hidden": true
    }
   },
   "outputs": [],
   "source": [
    "# Boxplots are great when you have a numeric column that you want to compare across different categories.\n",
    "df.boxplot(column=\"volume\", by=\"ticker\", rot=90, figsize=(12,6))"
   ]
  },
  {
   "cell_type": "code",
   "execution_count": null,
   "metadata": {
    "jupyter": {
     "source_hidden": true
    }
   },
   "outputs": [],
   "source": [
    "# When you want to visualize two numeric columns, scatter plots are ideal.\n",
    "# Notice the fan shapped pattern - why is that the case?\n",
    "df[df[\"ticker\"]==\"MU\"].plot(kind=\"scatter\", x=\"close\", y=\"cap\", rot=90, figsize=(12,6))"
   ]
  },
  {
   "cell_type": "markdown",
   "metadata": {},
   "source": [
    "###### <span style=\"color:green\">**Miscellaneous and Supplementary**</span>"
   ]
  },
  {
   "cell_type": "code",
   "execution_count": null,
   "metadata": {
    "jupyter": {
     "source_hidden": true
    }
   },
   "outputs": [],
   "source": [
    "# roes.profit = pd.to_numeric(roes.profit, errors=\"coerce\")\n",
    "# roes.flow = pd.to_numeric(roes.flow, errors=\"coerce\")\n",
    "# roes.equity_sod = pd.to_numeric(roes.equity_sod, errors=\"coerce\")\n",
    "# roes.roe = pd.to_numeric(roes.roe, errors=\"coerce\")\n",
    "\n",
    "# profits[\"Total\"] = profits.apply(np.nansum, axis=1) - profits[\"PAR\"]\n"
   ]
  }
 ],
 "metadata": {
  "kernelspec": {
   "display_name": "Python 3",
   "language": "python",
   "name": "python3"
  },
  "language_info": {
   "codemirror_mode": {
    "name": "ipython",
    "version": 3
   },
   "file_extension": ".py",
   "mimetype": "text/x-python",
   "name": "python",
   "nbconvert_exporter": "python",
   "pygments_lexer": "ipython3",
   "version": "3.7.4"
  }
 },
 "nbformat": 4,
 "nbformat_minor": 4
}
