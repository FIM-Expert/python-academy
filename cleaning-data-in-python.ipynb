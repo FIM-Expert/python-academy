{
 "cells": [
  {
   "cell_type": "markdown",
   "metadata": {},
   "source": [
    "# <span style=\"color:maroon\">**Cleaning Data in Python**</span>"
   ]
  },
  {
   "cell_type": "markdown",
   "metadata": {},
   "source": [
    "## <span style=\"color:blue\">**Exploring Your Data**</span>"
   ]
  },
  {
   "cell_type": "markdown",
   "metadata": {},
   "source": [
    "##### Common Data Problems\n",
    "- Inconsistent column names\n",
    "- Missing data\n",
    "- Outliers\n",
    "- Duplicate rows\n",
    "- Untidy data structure\n",
    "- Need to process columns\n",
    "- Column types can signal unexpected data values"
   ]
  },
  {
   "cell_type": "code",
   "execution_count": 1,
   "metadata": {},
   "outputs": [],
   "source": [
    "import pandas as pd\n",
    "\n",
    "file = \"./data/stock_data.csv\"\n",
    "column_names = [\"ticker\", \"date\", \"close\", \"cap\", \"volume\"]\n",
    "df = pd.read_csv(file, header=1, names=column_names, index_col=\"date\", parse_dates=True)"
   ]
  },
  {
   "cell_type": "code",
   "execution_count": 14,
   "metadata": {},
   "outputs": [
    {
     "name": "stdout",
     "output_type": "stream",
     "text": [
      "           ticker    close      cap   volume\n",
      "date                                        \n",
      "1985-01-02    IBM  13.3649  74134.9  3490000\n",
      "1985-01-03    IBM  13.2545  73522.3  5552400\n",
      "1985-01-04    IBM  13.2269  73369.1  4028000\n",
      "1985-01-07    IBM  13.2959    73752  4671200\n",
      "1985-01-08    IBM  13.2269  73369.1  4492400 \n",
      "\n",
      "           ticker   close         cap      volume\n",
      "date                                             \n",
      "2019-11-25     MU  47.520     52607.1    18828567\n",
      "2019-11-26     MU  46.715     51715.9    12919896\n",
      "2019-11-27     MU  48.160     53315.6    15441179\n",
      "2019-11-28     MU     NaN   #N/A N/A    #N/A N/A \n",
      "2019-11-29     MU  47.510       52596     7343564 \n",
      "\n",
      "(91830, 4) \n",
      "\n",
      "Index(['ticker', 'close', 'cap', 'volume'], dtype='object') \n",
      "\n",
      "<class 'pandas.core.frame.DataFrame'>\n",
      "DatetimeIndex: 91830 entries, 1985-01-02 to 2019-11-29\n",
      "Data columns (total 4 columns):\n",
      "ticker    91830 non-null object\n",
      "close     91352 non-null float64\n",
      "cap       91830 non-null object\n",
      "volume    91830 non-null object\n",
      "dtypes: float64(1), object(3)\n",
      "memory usage: 3.5+ MB\n",
      "None \n",
      "\n",
      "              close\n",
      "count  91352.000000\n",
      "mean      23.991181\n",
      "std       34.752111\n",
      "min        0.036400\n",
      "25%        3.955500\n",
      "50%       13.555900\n",
      "75%       25.471775\n",
      "max      287.946200 \n",
      "\n",
      "AMAT    8845\n",
      "MU      8844\n",
      "AAPL    8842\n",
      "AMD     8840\n",
      "INTC    8839\n",
      "WDC     8830\n",
      "IBM     8828\n",
      "MSFT    8537\n",
      "ORCL    8533\n",
      "CSCO    7607\n",
      "NVDA    5285\n",
      "Name: ticker, dtype: int64 \n",
      "\n",
      "AMAT    8845\n",
      "MU      8844\n",
      "AAPL    8842\n",
      "AMD     8840\n",
      "INTC    8839\n",
      "WDC     8830\n",
      "IBM     8828\n",
      "MSFT    8537\n",
      "ORCL    8533\n",
      "CSCO    7607\n",
      "NVDA    5285\n",
      "Name: ticker, dtype: int64 \n",
      "\n"
     ]
    }
   ],
   "source": [
    "print(df.head(), \"\\n\")\n",
    "print(df.tail(), \"\\n\")\n",
    "print(df.shape, \"\\n\")\n",
    "print(df.columns, \"\\n\")\n",
    "print(df.info(), \"\\n\")\n",
    "print(df.describe(), \"\\n\")\n",
    "print(df.ticker.value_counts(dropna=False), \"\\n\")\n",
    "print(df[\"ticker\"].value_counts(dropna=False), \"\\n\")     # same as previous lines\n"
   ]
  },
  {
   "cell_type": "markdown",
   "metadata": {},
   "source": [
    "## <span style=\"color:blue\">**Tidying Data for Analysis**</span>"
   ]
  },
  {
   "cell_type": "markdown",
   "metadata": {},
   "source": [
    "## <span style=\"color:blue\">**Combining Data for Analysis**</span>"
   ]
  },
  {
   "cell_type": "markdown",
   "metadata": {},
   "source": [
    "## <span style=\"color:blue\">**Cleaning Data for Analysis**</span>"
   ]
  },
  {
   "cell_type": "markdown",
   "metadata": {},
   "source": [
    "## <span style=\"color:blue\">**Case Study**</span>"
   ]
  },
  {
   "cell_type": "markdown",
   "metadata": {},
   "source": [
    "## <span style=\"color:blue\">**Miscellaneous**</span>"
   ]
  }
 ],
 "metadata": {
  "kernelspec": {
   "display_name": "Python 3",
   "language": "python",
   "name": "python3"
  },
  "language_info": {
   "codemirror_mode": {
    "name": "ipython",
    "version": 3
   },
   "file_extension": ".py",
   "mimetype": "text/x-python",
   "name": "python",
   "nbconvert_exporter": "python",
   "pygments_lexer": "ipython3",
   "version": "3.7.4"
  }
 },
 "nbformat": 4,
 "nbformat_minor": 4
}
