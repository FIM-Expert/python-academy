{
 "cells": [
  {
   "cell_type": "markdown",
   "metadata": {},
   "source": [
    "# Introduction to Python"
   ]
  },
  {
   "cell_type": "markdown",
   "metadata": {},
   "source": [
    "#### Advantages of Python\n",
    "General purpose: build anything  \n",
    "Open source  \n",
    "Easy to develop packages  \n",
    "Packages spanning many applications and fields (including data science) are available   "
   ]
  },
  {
   "cell_type": "markdown",
   "metadata": {},
   "source": [
    "#### Operators\n",
    "** is exponentiation  \n",
    "% is modulo\n",
    "; is used to execute multiple commands in a single line"
   ]
  },
  {
   "cell_type": "markdown",
   "metadata": {},
   "source": [
    "#### Variables and Types\n",
    "Types include: float, int, str, bool"
   ]
  },
  {
   "cell_type": "code",
   "execution_count": 171,
   "metadata": {},
   "outputs": [
    {
     "data": {
      "text/plain": [
       "21.44127836209856"
      ]
     },
     "execution_count": 171,
     "metadata": {},
     "output_type": "execute_result"
    }
   ],
   "source": [
    "height = 1.79\n",
    "weight = 68.7\n",
    "bmi = weight / height ** 2\n",
    "bmi"
   ]
  },
  {
   "cell_type": "code",
   "execution_count": 172,
   "metadata": {},
   "outputs": [
    {
     "name": "stdout",
     "output_type": "stream",
     "text": [
      "<class 'float'> <class 'float'> <class 'float'>\n"
     ]
    }
   ],
   "source": [
    "print(type(height), type(weight), type(bmi))"
   ]
  },
  {
   "cell_type": "code",
   "execution_count": 173,
   "metadata": {},
   "outputs": [
    {
     "data": {
      "text/plain": [
       "float"
      ]
     },
     "execution_count": 173,
     "metadata": {},
     "output_type": "execute_result"
    }
   ],
   "source": [
    "type(height)"
   ]
  },
  {
   "cell_type": "code",
   "execution_count": 174,
   "metadata": {},
   "outputs": [
    {
     "data": {
      "text/plain": [
       "'abcd'"
      ]
     },
     "execution_count": 174,
     "metadata": {},
     "output_type": "execute_result"
    }
   ],
   "source": [
    "str1 = \"ab\"\n",
    "str2 = \"cd\"\n",
    "str1 + str2"
   ]
  },
  {
   "cell_type": "code",
   "execution_count": 175,
   "metadata": {},
   "outputs": [
    {
     "data": {
      "text/plain": [
       "'xy1'"
      ]
     },
     "execution_count": 175,
     "metadata": {},
     "output_type": "execute_result"
    }
   ],
   "source": [
    "str3 = \"xy\"\n",
    "int1 = 1\n",
    "# str3 + int1   you cannot add a string and integer together\n",
    "str4 = str(int1)   # this converts int1 from an integer to a string\n",
    "str3 + str4   # now this works"
   ]
  },
  {
   "cell_type": "markdown",
   "metadata": {},
   "source": [
    "##### Another type conversion"
   ]
  },
  {
   "cell_type": "code",
   "execution_count": 176,
   "metadata": {},
   "outputs": [],
   "source": [
    "pi_string = \"3.1415926\"\n",
    "pi_float = float(pi_string)"
   ]
  },
  {
   "cell_type": "markdown",
   "metadata": {},
   "source": [
    "##### String manipulation"
   ]
  },
  {
   "cell_type": "code",
   "execution_count": 177,
   "metadata": {},
   "outputs": [
    {
     "data": {
      "text/plain": [
       "'HeyHey'"
      ]
     },
     "execution_count": 177,
     "metadata": {},
     "output_type": "execute_result"
    }
   ],
   "source": [
    "h = \"Hey\"\n",
    "h2 = h + h\n",
    "h2"
   ]
  },
  {
   "cell_type": "code",
   "execution_count": 178,
   "metadata": {},
   "outputs": [
    {
     "data": {
      "text/plain": [
       "'HeyHeyHey'"
      ]
     },
     "execution_count": 178,
     "metadata": {},
     "output_type": "execute_result"
    }
   ],
   "source": [
    "h3 = h * 3\n",
    "h3"
   ]
  },
  {
   "cell_type": "markdown",
   "metadata": {},
   "source": [
    "#### Python Lists"
   ]
  },
  {
   "cell_type": "code",
   "execution_count": 179,
   "metadata": {},
   "outputs": [],
   "source": [
    "list1 = [1.73, 1.67, 1.71, 1.89]    # use [] to create a list\n",
    "# list can contain heterogenous elements\n",
    "# you can create a list within a list"
   ]
  },
  {
   "cell_type": "code",
   "execution_count": 180,
   "metadata": {},
   "outputs": [
    {
     "name": "stdout",
     "output_type": "stream",
     "text": [
      "<class 'list'> [1.73, 1.67, 1.71, 1.89]\n"
     ]
    }
   ],
   "source": [
    "print(type(list1), list1)"
   ]
  },
  {
   "cell_type": "code",
   "execution_count": 181,
   "metadata": {},
   "outputs": [
    {
     "name": "stdout",
     "output_type": "stream",
     "text": [
      "1.71  of type  <class 'float'> \n",
      " 1.89  of type  <class 'float'> \n",
      " [1.67, 1.71]  of type  <class 'list'>\n"
     ]
    }
   ],
   "source": [
    "# select an element within a list using an index value\n",
    "third_element_of_list1 = list1[2]\n",
    "\n",
    "# you can work backwards by using negative index values\n",
    "last_element_of_list1 = list1[-1]\n",
    "\n",
    "# lists can be sliced\n",
    "second_and_third_elements_of_list1 = list1[1:3]\n",
    "\n",
    "print(third_element_of_list1, \" of type \", type(third_element_of_list1), \"\\n\", \n",
    "      last_element_of_list1, \" of type \", type(last_element_of_list1), \"\\n\", \n",
    "      second_and_third_elements_of_list1, \" of type \", type(second_and_third_elements_of_list1))"
   ]
  },
  {
   "cell_type": "code",
   "execution_count": 182,
   "metadata": {},
   "outputs": [
    {
     "data": {
      "text/plain": [
       "[1.67, 1.71, 1.89]"
      ]
     },
     "execution_count": 182,
     "metadata": {},
     "output_type": "execute_result"
    }
   ],
   "source": [
    "# more list slicing\n",
    "everything_after_and_including_second_element = list1[1:]\n",
    "everything_after_and_including_second_element"
   ]
  },
  {
   "cell_type": "code",
   "execution_count": 183,
   "metadata": {},
   "outputs": [
    {
     "data": {
      "text/plain": [
       "[1.73, 1.67]"
      ]
     },
     "execution_count": 183,
     "metadata": {},
     "output_type": "execute_result"
    }
   ],
   "source": [
    "everthing_before_but_not_including_third_element = list1[:2]\n",
    "everthing_before_but_not_including_third_element"
   ]
  },
  {
   "cell_type": "code",
   "execution_count": 184,
   "metadata": {},
   "outputs": [
    {
     "data": {
      "text/plain": [
       "4"
      ]
     },
     "execution_count": 184,
     "metadata": {},
     "output_type": "execute_result"
    }
   ],
   "source": [
    "# slicing lists within lists\n",
    "list2 = [[1, 2], [3, 4], [5, 6]]\n",
    "list2_element = list2[1][1]\n",
    "list2_element"
   ]
  },
  {
   "cell_type": "code",
   "execution_count": 185,
   "metadata": {},
   "outputs": [
    {
     "name": "stdout",
     "output_type": "stream",
     "text": [
      "['lisa', 1.74, 'emma', 1.68, 'mom', 1.71, 'dad', 1.86] \n",
      "\n"
     ]
    }
   ],
   "source": [
    "# manipulating lists\n",
    "fam = [\"liz\", 1.73, \"emma\", 1.68, \"mom\", 1.71, \"dad\", 1.89]\n",
    "\n",
    "# changing a single element\n",
    "fam[7] = 1.86\n",
    "\n",
    "# changing a slice\n",
    "fam[0:2] = [\"lisa\", 1.74]\n",
    "\n",
    "# adding elements to a list\n",
    "fam = fam + [\"nick\", 1.60]\n",
    "\n",
    "# deleting elements from a list\n",
    "del(fam[8:10])\n",
    "\n",
    "print(fam, \"\\n\")"
   ]
  },
  {
   "cell_type": "code",
   "execution_count": 186,
   "metadata": {},
   "outputs": [
    {
     "name": "stdout",
     "output_type": "stream",
     "text": [
      "x:  ['a', 'z', 'c'] \n",
      " y:  ['a', 'z', 'c']\n"
     ]
    }
   ],
   "source": [
    "# nuances of copying lists\n",
    "x = [\"a\", \"b\", \"c\"]\n",
    "y = x\n",
    "x[1] = \"z\"\n",
    "print(\"x: \", x, \"\\n\", \"y: \", y)   # y = x --> y is a reference to x, y is not a separate copy of the elements of x"
   ]
  },
  {
   "cell_type": "code",
   "execution_count": 187,
   "metadata": {},
   "outputs": [
    {
     "name": "stdout",
     "output_type": "stream",
     "text": [
      "x:  ['a', 'p', 'c'] \n",
      " y:  ['a', 'b', 3] \n",
      " z:  ['a', 'b', 'c']\n"
     ]
    }
   ],
   "source": [
    "# nuances of copying lists (continued)\n",
    "x = [\"a\", \"b\", \"c\"]\n",
    "y = list(x)\n",
    "z = x[:]\n",
    "x[1] = \"p\"\n",
    "y[2] = 3\n",
    "print(\"x: \", x, \"\\n\", \"y: \", y, \"\\n\", \"z: \", z)   # y and z are now separate copies of the list x"
   ]
  },
  {
   "cell_type": "markdown",
   "metadata": {},
   "source": [
    "#### Python Functions"
   ]
  },
  {
   "cell_type": "markdown",
   "metadata": {},
   "source": [
    "help(function_name) --> used to view documentation --> e.g. help(round),  in iPython you can also run ?round  \n",
    "Out-of-the-Box --> print(),  type(),  float(),  int(),  str(),   bool(),  len()  \n",
    "len() --> returns number of elements in a list, number of characters in a string"
   ]
  },
  {
   "cell_type": "markdown",
   "metadata": {},
   "source": [
    "In Python everything is an object and every object has methods associated with it depending on the type\n",
    "Methods --> functions that belong to objects\n",
    "Some methods can change the object that the method is called upon (e.g. .append() method on a list object will change the list)"
   ]
  },
  {
   "cell_type": "code",
   "execution_count": 188,
   "metadata": {},
   "outputs": [
    {
     "name": "stdout",
     "output_type": "stream",
     "text": [
      "4 \n",
      " 1\n"
     ]
    }
   ],
   "source": [
    "index_of_mom = fam.index(\"mom\")\n",
    "fam_count = fam.count(\"mom\")\n",
    "print(index_of_mom, \"\\n\", fam_count)"
   ]
  },
  {
   "cell_type": "code",
   "execution_count": 189,
   "metadata": {},
   "outputs": [
    {
     "name": "stdout",
     "output_type": "stream",
     "text": [
      "Liz\n",
      "Lisa\n"
     ]
    }
   ],
   "source": [
    "sister = \"Liz\"\n",
    "sister_capitalized = sister.capitalize()\n",
    "print(sister_capitalized)\n",
    "sister_replaced = sister.replace(\"z\", \"sa\")\n",
    "print(sister_replaced)"
   ]
  },
  {
   "cell_type": "code",
   "execution_count": 190,
   "metadata": {},
   "outputs": [
    {
     "name": "stdout",
     "output_type": "stream",
     "text": [
      "['lisa', 1.74, 'emma', 1.68, 'mom', 1.71, 'dad', 1.86]\n",
      "['lisa', 1.74, 'emma', 1.68, 'mom', 1.71, 'dad', 1.86, 'me']\n",
      "['lisa', 1.74, 'emma', 1.68, 'mom', 1.71, 'dad', 1.86, 'me', 1.79]\n"
     ]
    }
   ],
   "source": [
    "print(fam)\n",
    "fam.append(\"me\")\n",
    "print(fam)\n",
    "fam.append(1.79)\n",
    "print(fam)"
   ]
  },
  {
   "cell_type": "code",
   "execution_count": 191,
   "metadata": {},
   "outputs": [
    {
     "name": "stdout",
     "output_type": "stream",
     "text": [
      "poolhouse\n",
      "POOLHOUSE\n",
      "3\n"
     ]
    }
   ],
   "source": [
    "place = \"poolhouse\"\n",
    "print(place)\n",
    "place_up = place.upper()\n",
    "print(place_up)\n",
    "print(place.count(\"o\"))"
   ]
  },
  {
   "cell_type": "code",
   "execution_count": 192,
   "metadata": {},
   "outputs": [
    {
     "name": "stdout",
     "output_type": "stream",
     "text": [
      "2\n",
      "2\n",
      "2\n",
      "2\n",
      "1\n"
     ]
    }
   ],
   "source": [
    "areas = [11.25, 18.0, 20.0, 10.75, 9.50]\n",
    "print(areas.index(20.00))\n",
    "print(areas.index(20.0))\n",
    "print(areas.index(int(20)))\n",
    "print(areas.index(20))\n",
    "print(areas.count(9.50))"
   ]
  },
  {
   "cell_type": "code",
   "execution_count": 193,
   "metadata": {
    "jupyter": {
     "source_hidden": true
    }
   },
   "outputs": [
    {
     "name": "stdout",
     "output_type": "stream",
     "text": [
      "[11.25, 18.0, 20.0, 10.75, 9.5]\n",
      "[11.25, 18.0, 20.0, 10.75, 9.5, 24.5, 15.45]\n",
      "[11.25, 18.0, 20.0, 10.75, 9.5, 24.5, 15.45, 100]\n",
      "None\n",
      "[100, 15.45, 24.5, 9.5, 10.75, 20.0, 18.0, 11.25]\n",
      "None\n"
     ]
    }
   ],
   "source": [
    "print(areas)\n",
    "areas.append(24.5)\n",
    "areas.append(15.45)\n",
    "print(areas)\n",
    "areas2 = areas.append(100)\n",
    "print(areas)\n",
    "print(areas2)   # its important to understand why areas2 is None\n",
    "areas.reverse()\n",
    "print(areas)\n",
    "areas3 = areas.reverse()\n",
    "print(areas3)   # its important to understand why areas2 is None"
   ]
  },
  {
   "cell_type": "markdown",
   "metadata": {},
   "source": [
    "#### Python Packages"
   ]
  },
  {
   "cell_type": "markdown",
   "metadata": {},
   "source": [
    "##### Install Packages  \n",
    "http://pip.readthedocs.org/en/stable/installing/  \n",
    "Download --> get-pip.py  \n",
    "Terminal --> python3 get-pip.py  \n",
    "             pip3 install numpy (this is an example)  "
   ]
  },
  {
   "cell_type": "markdown",
   "metadata": {},
   "source": [
    "import numpy as np  \n",
    "from numpy import array  \n",
    "from scipy.linalg import inv as my_inv"
   ]
  },
  {
   "cell_type": "code",
   "execution_count": 194,
   "metadata": {},
   "outputs": [
    {
     "name": "stdout",
     "output_type": "stream",
     "text": [
      "2.701769682087222\n",
      "0.5808804816487527\n"
     ]
    }
   ],
   "source": [
    "import math\n",
    "radius = 0.43\n",
    "circumference = 2 * math.pi * radius\n",
    "area = math.pi * radius**2\n",
    "print(circumference)\n",
    "print(area)"
   ]
  },
  {
   "cell_type": "code",
   "execution_count": 195,
   "metadata": {},
   "outputs": [
    {
     "name": "stdout",
     "output_type": "stream",
     "text": [
      "40317.10572106901\n"
     ]
    }
   ],
   "source": [
    "from math import radians\n",
    "radius = 192500\n",
    "degrees = 12\n",
    "distance = radius * radians(degrees)\n",
    "print(distance)"
   ]
  },
  {
   "cell_type": "markdown",
   "metadata": {},
   "source": [
    "#### numpy arrays\n",
    "Allow you to perform mathematical operations over collections  \n",
    "Operations on arrays are very fast  \n",
    "Alternative to Python lists  \n",
    "Homogenous (if you try to stuff heterogenous elements into a numpy array, Python will attempt to coerce the element type to be homogenous)"
   ]
  },
  {
   "cell_type": "code",
   "execution_count": 196,
   "metadata": {},
   "outputs": [
    {
     "name": "stdout",
     "output_type": "stream",
     "text": [
      "[1.73, 1.68, 1.71, 1.89, 1.79]\n",
      "<class 'list'>\n",
      "<class 'numpy.ndarray'>\n"
     ]
    }
   ],
   "source": [
    "import numpy as np\n",
    "height = [1.73, 1.68, 1.71, 1.89, 1.79]\n",
    "print(height)\n",
    "print(type(height))\n",
    "np_height = np.array(height)\n",
    "print(type(np_height))\n",
    "weight = [65.4, 59.2, 63.6, 88.4, 68.7]\n",
    "np_weight = np.array(weight)"
   ]
  },
  {
   "cell_type": "code",
   "execution_count": 197,
   "metadata": {},
   "outputs": [
    {
     "name": "stdout",
     "output_type": "stream",
     "text": [
      "[21.85171573 20.97505669 21.75028214 24.7473475  21.44127836]\n"
     ]
    }
   ],
   "source": [
    "bmi = np_weight / np_height**2   # you cannot do this on lists\n",
    "print(bmi)"
   ]
  },
  {
   "cell_type": "code",
   "execution_count": 198,
   "metadata": {},
   "outputs": [
    {
     "name": "stdout",
     "output_type": "stream",
     "text": [
      "[1, 2, 3, 1, 2, 3]\n",
      "[2 4 6]\n"
     ]
    }
   ],
   "source": [
    "# be care about object manipulation in Python\n",
    "python_list = [1, 2, 3]\n",
    "numpy_array = np.array([1, 2, 3])\n",
    "print(python_list + python_list)\n",
    "print(numpy_array + numpy_array)   # different object types, different behavior!!!"
   ]
  },
  {
   "cell_type": "markdown",
   "metadata": {},
   "source": [
    "##### Subsetting numpy arrays"
   ]
  },
  {
   "cell_type": "code",
   "execution_count": 199,
   "metadata": {},
   "outputs": [
    {
     "name": "stdout",
     "output_type": "stream",
     "text": [
      "21.750282138093777\n"
     ]
    }
   ],
   "source": [
    "# using an index\n",
    "second_element_in_bmi = bmi[2]\n",
    "print(second_element_in_bmi)"
   ]
  },
  {
   "cell_type": "code",
   "execution_count": 200,
   "metadata": {},
   "outputs": [
    {
     "name": "stdout",
     "output_type": "stream",
     "text": [
      "[False False False  True False]\n",
      "<class 'numpy.ndarray'>\n",
      "[24.7473475]\n",
      "[24.7473475]\n"
     ]
    }
   ],
   "source": [
    "# using boolean masking\n",
    "heavy = bmi > 23   # this is a boolean numpy array\n",
    "print(heavy)\n",
    "print(type(heavy))\n",
    "print(bmi[bmi > 23])   # same as bmi[heavy] from our example\n",
    "print(bmi[heavy])   # same as bmi[heavy] from our example"
   ]
  },
  {
   "cell_type": "code",
   "execution_count": 201,
   "metadata": {},
   "outputs": [
    {
     "name": "stdout",
     "output_type": "stream",
     "text": [
      "[180 215 210 210 188 176 209 200]\n",
      "<class 'numpy.ndarray'>\n"
     ]
    }
   ],
   "source": [
    "import numpy as np\n",
    "baseball = [180, 215, 210, 210, 188, 176, 209, 200]\n",
    "np_baseball = np.array(baseball)\n",
    "print(np_baseball)\n",
    "print(type(np_baseball))"
   ]
  },
  {
   "cell_type": "code",
   "execution_count": 202,
   "metadata": {},
   "outputs": [
    {
     "name": "stdout",
     "output_type": "stream",
     "text": [
      "[75 70 72 77 79 78]\n",
      "[1.905  1.778  1.8288 1.9558 2.0066 1.9812]\n"
     ]
    }
   ],
   "source": [
    "import numpy as np\n",
    "height_in = [75, 70, 72, 77, 79, 78]\n",
    "np_height_in = np.array(height_in)\n",
    "print(np_height_in)\n",
    "np_height_m = np_height_in * 0.0254\n",
    "print(np_height_m)"
   ]
  },
  {
   "cell_type": "markdown",
   "metadata": {},
   "source": [
    "##### Two-Dimensional numpy arrays"
   ]
  },
  {
   "cell_type": "code",
   "execution_count": 203,
   "metadata": {},
   "outputs": [
    {
     "name": "stdout",
     "output_type": "stream",
     "text": [
      "[[ 1.73  1.68  1.71  1.89  1.79]\n",
      " [65.4  59.2  63.6  88.4  68.7 ]]\n",
      "1.71\n",
      "1.71\n",
      "[[ 1.68  1.71]\n",
      " [59.2  63.6 ]]\n",
      "[65.4 59.2 63.6 88.4 68.7]\n"
     ]
    }
   ],
   "source": [
    "import numpy as np\n",
    "height = [1.73, 1.68, 1.71, 1.89, 1.79]\n",
    "np_height = np.array(height)\n",
    "weight = [65.4, 59.2, 63.6, 88.4, 68.7]\n",
    "np_weight = np.array(weight)\n",
    "\n",
    "np_2d = np.array([np_height, np_weight])   # notice that the argument to np.array() is a list or a tuple\n",
    "np_2d = np.array((np_height, np_weight))\n",
    "print(np_2d)\n",
    "\n",
    "# subsetting using indices\n",
    "print(np_2d[0][2])\n",
    "print(np_2d[0, 2])   # note that [0][2] and [0, 2] are equivalent subsetting syntax\n",
    "print(np_2d[:, 1:3])\n",
    "print(np_2d[1, :])"
   ]
  },
  {
   "cell_type": "code",
   "execution_count": 204,
   "metadata": {},
   "outputs": [
    {
     "name": "stdout",
     "output_type": "stream",
     "text": [
      "(2, 5)\n"
     ]
    }
   ],
   "source": [
    "# shape attribute on a numpy array\n",
    "print(np_2d.shape)"
   ]
  },
  {
   "cell_type": "code",
   "execution_count": 205,
   "metadata": {},
   "outputs": [
    {
     "name": "stdout",
     "output_type": "stream",
     "text": [
      "[[1 2]\n",
      " [3 4]\n",
      " [5 6]] \n",
      "\n",
      "[[ 2  4]\n",
      " [ 6  8]\n",
      " [10 12]] \n",
      "\n",
      "[[11 12]\n",
      " [13 14]\n",
      " [15 16]] \n",
      "\n",
      "[[ 2  4]\n",
      " [ 6  8]\n",
      " [10 12]] \n",
      "\n",
      "[[10.   0.2]\n",
      " [30.   0.4]\n",
      " [50.   0.6]]\n"
     ]
    }
   ],
   "source": [
    "# numpy array arithmetic\n",
    "import numpy as np\n",
    "np_mat = np.array([[1, 2], [3, 4], [5, 6]])\n",
    "print(np_mat, \"\\n\")\n",
    "print(np_mat * 2, \"\\n\")\n",
    "print(np_mat + np.array([10, 10]), \"\\n\")\n",
    "print(np_mat + np_mat, \"\\n\")\n",
    "print(np_mat * np.array([10, 0.1]))"
   ]
  },
  {
   "cell_type": "markdown",
   "metadata": {},
   "source": [
    "#### statistics with numpy arrays\n",
    "##### it's always a good idea to check both the median and the mean in order to get an idea about the overall distribution of the the entire dataset"
   ]
  },
  {
   "cell_type": "code",
   "execution_count": 206,
   "metadata": {},
   "outputs": [
    {
     "name": "stdout",
     "output_type": "stream",
     "text": [
      "[2.06 1.87 1.62 ... 1.44 1.6  1.65]\n",
      "[77.14 88.99 72.59 ... 65.14 39.2  65.89]\n",
      "[[ 2.06 77.14]\n",
      " [ 1.87 88.99]\n",
      " [ 1.62 72.59]\n",
      " ...\n",
      " [ 1.44 65.14]\n",
      " [ 1.6  39.2 ]\n",
      " [ 1.65 65.89]]\n"
     ]
    }
   ],
   "source": [
    "# generating random data\n",
    "height = np.round(np.random.normal(1.75, 0.20, 5000), 2)\n",
    "weight = np.round(np.random.normal(60.32, 15, 5000), 2)\n",
    "print(height)\n",
    "print(weight)\n",
    "np_city = np.column_stack([height, weight])   # column_stack can receive a list or a tuple\n",
    "print(np_city)"
   ]
  },
  {
   "cell_type": "code",
   "execution_count": 207,
   "metadata": {},
   "outputs": [
    {
     "name": "stdout",
     "output_type": "stream",
     "text": [
      "1.748368\n",
      "1.75\n",
      "[[1.         0.01327033]\n",
      " [0.01327033 1.        ]]\n",
      "0.2000356382647852\n"
     ]
    }
   ],
   "source": [
    "# run some stats of np_city\n",
    "mean_height = np.mean(np_city[:, 0])\n",
    "print(mean_height)\n",
    "median_height = np.median(np_city[:, 0])\n",
    "print(median_height)\n",
    "height_weight_corr = np.corrcoef(np_city[:, 0], np_city[:, 1])\n",
    "print(height_weight_corr)\n",
    "stdev_height = np.std(np_city[:, 0])\n",
    "print(stdev_height)"
   ]
  },
  {
   "cell_type": "code",
   "execution_count": 208,
   "metadata": {},
   "outputs": [
    {
     "name": "stdout",
     "output_type": "stream",
     "text": [
      "8741.84\n",
      "310843.02\n"
     ]
    }
   ],
   "source": [
    "print(np.sum(np_city[:,0]))   # sum of all rows in the first column (this is the column of heights)\n",
    "print(np.sum(np_city))   # sum of all values in the array"
   ]
  },
  {
   "cell_type": "code",
   "execution_count": 210,
   "metadata": {},
   "outputs": [
    {
     "name": "stdout",
     "output_type": "stream",
     "text": [
      "191.0\n",
      "184.0\n"
     ]
    }
   ],
   "source": [
    "positions = [\"GK\", \"M\", \"A\", \"D\"]\n",
    "heights = [191, 184, 185, 180]\n",
    "np_positions = np.array(positions)\n",
    "np_heights = np.array(heights)\n",
    "gk_heights = np_heights[np_positions == \"GK\"]\n",
    "other_heights = np_heights[np_positions != \"GK\"]\n",
    "median_gk_height = np.median(gk_heights)\n",
    "median_other_height = np.median(other_heights)\n",
    "print(median_gk_height)\n",
    "print(median_other_height)"
   ]
  }
 ],
 "metadata": {
  "kernelspec": {
   "display_name": "Python 3",
   "language": "python",
   "name": "python3"
  },
  "language_info": {
   "codemirror_mode": {
    "name": "ipython",
    "version": 3
   },
   "file_extension": ".py",
   "mimetype": "text/x-python",
   "name": "python",
   "nbconvert_exporter": "python",
   "pygments_lexer": "ipython3",
   "version": "3.7.4"
  }
 },
 "nbformat": 4,
 "nbformat_minor": 4
}
