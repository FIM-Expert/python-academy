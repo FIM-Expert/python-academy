{
 "cells": [
  {
   "cell_type": "markdown",
   "metadata": {},
   "source": [
    "# <span style=\"color:green\">Python Basics</span>"
   ]
  },
  {
   "cell_type": "markdown",
   "metadata": {},
   "source": [
    "Expression --> Value --> Type (integers, floats, strings)  \n",
    "Literal Expression --> the expression and its associated value is the same  \n",
    "During program execution, the Python interpreter creates an internal representation of literals (the value of the expression - this is also an object) specified in the program."
   ]
  },
  {
   "cell_type": "markdown",
   "metadata": {},
   "source": [
    "Operators --> special tokens that represent computations of operands (+, -, /, //, *, **, %)\n",
    "\n",
    "Trick --> x % 10 extracts the right-most digit from x\n",
    "          x % 100 extracts the right-most two digits from x"
   ]
  }
 ],
 "metadata": {
  "kernelspec": {
   "display_name": "Python 3",
   "language": "python",
   "name": "python3"
  },
  "language_info": {
   "codemirror_mode": {
    "name": "ipython",
    "version": 3
   },
   "file_extension": ".py",
   "mimetype": "text/x-python",
   "name": "python",
   "nbconvert_exporter": "python",
   "pygments_lexer": "ipython3",
   "version": "3.7.4"
  }
 },
 "nbformat": 4,
 "nbformat_minor": 4
}
