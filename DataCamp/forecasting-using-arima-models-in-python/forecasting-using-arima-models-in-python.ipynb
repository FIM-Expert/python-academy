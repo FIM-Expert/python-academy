{
 "cells": [
  {
   "cell_type": "markdown",
   "metadata": {},
   "source": [
    "# <span style=\"color:darkblue\">**Forecasting the S\\&P 500**</span>"
   ]
  },
  {
   "cell_type": "code",
   "execution_count": null,
   "metadata": {},
   "outputs": [],
   "source": [
    "import pandas as pd\n",
    "import numpy as np\n",
    "import warnings\n",
    "from matplotlib import pyplot as plt\n",
    "from statsmodels.tsa.stattools import adfuller\n",
    "from statsmodels.tsa.arima_model import ARMA\n",
    "from statsmodels.tsa.statespace.sarimax import SARIMAX\n",
    "warnings.filterwarnings('ignore')"
   ]
  },
  {
   "cell_type": "markdown",
   "metadata": {},
   "source": [
    "#### <span style=\"color:red\">**Load and Shape - Raw Data**</span>"
   ]
  },
  {
   "cell_type": "markdown",
   "metadata": {},
   "source": [
    "##### <span style=\"color:green\">Things to Do: Load and Shape - Raw Data</span>\n",
    "1. Convert index in the pandas Series into an appropriate datetime index **(make date slicing easy and intuitive)**\n",
    "2. Create a second pandas Series that samples at calendar month end dates **(test prediction quality using monthly frequency)**\n",
    "3. Create a third pandas Series that samples at calender quarter end dates **(test prediction quality using quarterly frequency)**"
   ]
  },
  {
   "cell_type": "code",
   "execution_count": null,
   "metadata": {},
   "outputs": [],
   "source": [
    "data = pd.read_csv(\"./sp500.csv\", index_col=0, parse_dates=True)"
   ]
  },
  {
   "cell_type": "code",
   "execution_count": null,
   "metadata": {},
   "outputs": [],
   "source": [
    "data = data.close.dropna()"
   ]
  },
  {
   "cell_type": "markdown",
   "metadata": {},
   "source": [
    "#### <span style=\"color:red\">**Exploratory Data Analysis - Raw Data**</span>"
   ]
  },
  {
   "cell_type": "markdown",
   "metadata": {},
   "source": [
    "##### <span style=\"color:green\">Things to Do: Exploratory Data Analysis - Raw Data</span>\n",
    "1. Add EDA features from Chapters 1 & 2 *Stastical Thinking in Python (Part 1)* **(expand practical application of python and data science skills)**\n",
    "2. Translate insights from full EDA into prediction methodology **(intelligently create a system to apply various forecasting tools)**"
   ]
  },
  {
   "cell_type": "code",
   "execution_count": null,
   "metadata": {},
   "outputs": [],
   "source": [
    "fig, ax = plt.subplots()\n",
    "data.plot(ax=ax, figsize=(12,8))\n",
    "plt.show()"
   ]
  },
  {
   "cell_type": "markdown",
   "metadata": {},
   "source": [
    "#### <span style=\"color:red\">**Test Stationarity - Raw Data**</span>"
   ]
  },
  {
   "cell_type": "code",
   "execution_count": null,
   "metadata": {},
   "outputs": [],
   "source": [
    "adf = adfuller(data)"
   ]
  },
  {
   "cell_type": "markdown",
   "metadata": {},
   "source": [
    "#### <span style=\"color:red\">**Transform Raw Data to Achieve Stationarity**</span>"
   ]
  },
  {
   "cell_type": "markdown",
   "metadata": {},
   "source": [
    "##### <span style=\"color:green\">Things to Do: Transform Raw Data to Achieve Stationarity</span>\n",
    "1. Understand how to inverse transform in order to generate predictions on the variable of interest **(required step in a prediction pipeline, allows you do apply the best inverse transformation process - i.e. best non-stationary properties)**"
   ]
  },
  {
   "cell_type": "code",
   "execution_count": null,
   "metadata": {},
   "outputs": [],
   "source": [
    "diff = data.diff(1).dropna()\n",
    "pct = (data.shift(1)/data).dropna()\n",
    "log = np.log(data/data.shift(1)).dropna()"
   ]
  },
  {
   "cell_type": "markdown",
   "metadata": {},
   "source": [
    "#### <span style=\"color:red\">**Exploratory Data Analysis - Transformed Data**</span>"
   ]
  },
  {
   "cell_type": "code",
   "execution_count": null,
   "metadata": {},
   "outputs": [],
   "source": [
    "fig, ax = plt.subplots()\n",
    "diff.plot(ax=ax, figsize=(12,8))\n",
    "plt.show()"
   ]
  },
  {
   "cell_type": "code",
   "execution_count": null,
   "metadata": {},
   "outputs": [],
   "source": [
    "fig, ax = plt.subplots()\n",
    "pct.plot(ax=ax, figsize=(12,8))\n",
    "plt.show()"
   ]
  },
  {
   "cell_type": "code",
   "execution_count": null,
   "metadata": {},
   "outputs": [],
   "source": [
    "fig, ax = plt.subplots()\n",
    "log.plot(ax=ax, figsize=(12,8))\n",
    "plt.show()"
   ]
  },
  {
   "cell_type": "code",
   "execution_count": null,
   "metadata": {},
   "outputs": [],
   "source": [
    "diff_adf = adfuller(diff)\n",
    "pct_adf = adfuller(pct)\n",
    "log_adf = adfuller(log)"
   ]
  },
  {
   "cell_type": "code",
   "execution_count": null,
   "metadata": {},
   "outputs": [],
   "source": [
    "diff_adf"
   ]
  },
  {
   "cell_type": "code",
   "execution_count": null,
   "metadata": {},
   "outputs": [],
   "source": [
    "pct_adf"
   ]
  },
  {
   "cell_type": "code",
   "execution_count": null,
   "metadata": {},
   "outputs": [],
   "source": [
    "log_adf"
   ]
  },
  {
   "cell_type": "markdown",
   "metadata": {},
   "source": [
    "## <span style=\"color:red\">**SARIMAX Model on a Perfect Sinusoidal Time Series**</span>"
   ]
  },
  {
   "cell_type": "code",
   "execution_count": null,
   "metadata": {},
   "outputs": [],
   "source": [
    "perfect = pd.read_csv(\"./perfect_cyclical_ts.csv\", index_col=0, parse_dates=True)\n",
    "perfect = perfect.level.dropna()\n",
    "perfect_adf = adfuller(perfect)\n",
    "perfect.plot()"
   ]
  },
  {
   "cell_type": "code",
   "execution_count": null,
   "metadata": {},
   "outputs": [],
   "source": [
    "diff_perfect = perfect.diff().dropna()\n",
    "diff_perfect_adf = adfuller(diff_perfect)\n",
    "diff_perfect.plot()"
   ]
  },
  {
   "cell_type": "code",
   "execution_count": null,
   "metadata": {},
   "outputs": [],
   "source": [
    "model_order = (6, 0, 0)\n",
    "arima_model_order = (6, 1, 0)\n",
    "\n",
    "arma_diff_perfect = SARIMAX(diff_perfect, order=model_order)\n",
    "fit_arma_diff_perfect = arma_diff_perfect.fit()\n",
    "\n",
    "isp_diff_perfect = fit_arma_diff_perfect.get_prediction(start=-365, dynamic=True)\n",
    "isp_diff_perfect_mean = isp_diff_perfect.predicted_mean\n",
    "isp_ci = isp_diff_perfect.conf_int()\n",
    "isp_lci = isp_ci.loc[:,\"lower level\"]\n",
    "isp_uci = isp_ci.loc[:,\"upper level\"]\n",
    "\n",
    "_ = plt.figure(figsize=(15,5))\n",
    "_ = plt.plot(diff_perfect.index[-1460:],  diff_perfect[-1460:], label=\"observed\")\n",
    "_ = plt.plot(isp_diff_perfect_mean.index, isp_diff_perfect_mean.values, color=\"r\", label=\"dynamic prediction\")\n",
    "_ = plt.fill_between(isp_lci.index, isp_lci, isp_uci, color=\"pink\")\n",
    "_ = plt.xlabel(\"Date\")\n",
    "_ = plt.ylabel(\"Level - First Order Difference\")\n",
    "_ = plt.legend(loc=\"upper left\")\n",
    "plt.show()"
   ]
  },
  {
   "cell_type": "code",
   "execution_count": null,
   "metadata": {},
   "outputs": [],
   "source": [
    "isp_perfect_invt = np.cumsum(isp_diff_perfect_mean)\n",
    "isp_lci_invt = np.cumsum(isp_ci.loc[:,\"lower level\"])\n",
    "isp_uci_invt = np.cumsum(isp_ci.loc[:,\"upper level\"])\n",
    "\n",
    "isp_perfect = perfect.iloc[-365] + isp_perfect_invt\n",
    "isp_perfect_lci = perfect.iloc[-365] + isp_lci_invt\n",
    "isp_perfect_uci = perfect.iloc[-365] + isp_uci_invt\n",
    "\n",
    "_ = plt.figure(figsize=(15,5))\n",
    "_ = plt.plot(perfect.index[-1460:],  perfect[-1460:], label=\"observed\")\n",
    "_ = plt.plot(isp_perfect.index, isp_perfect.values, color=\"r\", label=\"dynamic prediction\")\n",
    "_ = plt.fill_between(isp_perfect_lci.index, isp_perfect_lci, isp_perfect_uci, color=\"pink\")\n",
    "_ = plt.xlabel(\"Date\")\n",
    "_ = plt.ylabel(\"Level\")\n",
    "_ = plt.legend(loc=\"upper left\")\n",
    "plt.show()"
   ]
  },
  {
   "cell_type": "code",
   "execution_count": null,
   "metadata": {},
   "outputs": [],
   "source": [
    "arima_perfect = SARIMAX(perfect, order=arima_model_order)    #, initialization='approximate_diffuse')\n",
    "fit_arima_perfect = arima_perfect.fit()\n",
    "fit_arima_perfect.summary()\n",
    "\n",
    "isp_arima_perfect = fit_arima_perfect.get_prediction(start=-365, dynamic=True)\n",
    "isp_arima_perfect_mean = isp_arima_perfect.predicted_mean\n",
    "isp_arima_perfect_ci = isp_arima_perfect.conf_int()\n",
    "isp_arima_perfect_lci = isp_arima_perfect_ci.loc[:,\"lower level\"]\n",
    "isp_arima_perfect_uci = isp_arima_perfect_ci.loc[:,\"upper level\"]\n",
    "\n",
    "_ = plt.figure(figsize=(15,5))\n",
    "_ = plt.plot(perfect.index[-1460:],  perfect[-1460:], label=\"observed\")\n",
    "_ = plt.plot(isp_arima_perfect_mean.index, isp_arima_perfect_mean.values, color=\"r\", label=\"dynamic prediction\")\n",
    "_ = plt.fill_between(isp_arima_perfect_lci.index, isp_arima_perfect_lci, isp_arima_perfect_uci, color=\"pink\")\n",
    "_ = plt.xlabel(\"Date\")\n",
    "_ = plt.ylabel(\"Level\")\n",
    "_ = plt.legend(loc=\"upper left\")\n",
    "plt.show()"
   ]
  },
  {
   "cell_type": "markdown",
   "metadata": {},
   "source": [
    "#### <span style=\"color:darkred\">SARIMAX Model - Baseline ARMA Subclass Model</span>"
   ]
  },
  {
   "cell_type": "markdown",
   "metadata": {},
   "source": [
    "##### <span style=\"color:darkgreen\">Things to Do: SARIMAX Model - ARMA Subclass</span>\n",
    "1. Transform the raw data - for now just calculate the first order difference **(most financial data is going to be non-stationary)**\n",
    "2. Fit the ARMA subclass model to the first order difference\n",
    "3. Use dynamic mode to forecast the last 50 days of in-sample training data\n",
    "4. Use forecast model to forecast the last 50 days of out-of-sample test data using previous data as the training set"
   ]
  },
  {
   "cell_type": "code",
   "execution_count": null,
   "metadata": {},
   "outputs": [],
   "source": [
    "arma_diff = SARIMAX(diff, order=(2, 0, 2), trend=\"c\")\n",
    "fit_diff = arma_diff.fit()"
   ]
  },
  {
   "cell_type": "code",
   "execution_count": null,
   "metadata": {},
   "outputs": [],
   "source": [
    "fit_diff.summary()"
   ]
  },
  {
   "cell_type": "code",
   "execution_count": null,
   "metadata": {},
   "outputs": [],
   "source": [
    "isf = fit_diff.get_prediction(start=-50, dynamic=True)\n",
    "isf_meanp = isf.predicted_mean\n",
    "isf_ci = isf.conf_int()\n",
    "isf_lci = isf_ci.loc[:,\"lower close\"]\n",
    "isf_uci = isf_ci.loc[:,\"upper close\"]\n",
    "isf_meanp"
   ]
  },
  {
   "cell_type": "code",
   "execution_count": null,
   "metadata": {},
   "outputs": [],
   "source": [
    "_ = plt.figure()\n",
    "_ = plt.plot(diff.index[-50:],  diff[-50:], label=\"observed\")\n",
    "_ = plt.plot(isf_meanp.index, isf_meanp.values, color=\"r\", label=\"dynamic prediction\")\n",
    "plt.show()"
   ]
  },
  {
   "cell_type": "code",
   "execution_count": null,
   "metadata": {},
   "outputs": [],
   "source": [
    "isf_intp = np.cumsum(isf_meanp)\n",
    "close_forecast = osf_int_forecast + close\n",
    "close_forecast[-50:]"
   ]
  },
  {
   "cell_type": "code",
   "execution_count": null,
   "metadata": {},
   "outputs": [],
   "source": [
    "close_arima = SARIMAX(close, order=(2, 1, 2))\n",
    "close_arima_fit = close_arima.fit()"
   ]
  },
  {
   "cell_type": "code",
   "execution_count": null,
   "metadata": {},
   "outputs": [],
   "source": [
    "osf_arima = close_arima_fit.get_prediction(start=-30)\n",
    "osf_close_forecast = osf_arima.predicted_mean\n",
    "osf_close_forecast"
   ]
  },
  {
   "cell_type": "markdown",
   "metadata": {},
   "source": [
    "## Generating ARMA Data (Appendix)"
   ]
  },
  {
   "cell_type": "code",
   "execution_count": null,
   "metadata": {},
   "outputs": [],
   "source": [
    "from statsmodels.tsa.arima_process import arma_generate_sample\n",
    "np.random.seed(3)\n",
    "\n",
    "# set the ARMA model coefficients\n",
    "ar_coefs = [1, 0.2]\n",
    "ma_coefs = [1, 0.3, 0.4]\n",
    "\n",
    "# generate time-series data\n",
    "y = arma_generate_sample(ar_coefs, ma_coefs, nsample=4000, sigma=0.5)\n",
    "\n",
    "# plot the time-series\n",
    "plt.plot(y)\n",
    "plt.ylabel(r\"$y-t$\")\n",
    "plt.xlabel(r\"$t$\")\n",
    "plt.show()"
   ]
  },
  {
   "cell_type": "code",
   "execution_count": null,
   "metadata": {},
   "outputs": [],
   "source": [
    "from statsmodels.tsa.arima_model import ARMA\n",
    "model = ARMA(y, order=(1,2))\n",
    "results = model.fit()\n",
    "results.summary()"
   ]
  }
 ],
 "metadata": {
  "kernelspec": {
   "display_name": "Python 3",
   "language": "python",
   "name": "python3"
  },
  "language_info": {
   "codemirror_mode": {
    "name": "ipython",
    "version": 3
   },
   "file_extension": ".py",
   "mimetype": "text/x-python",
   "name": "python",
   "nbconvert_exporter": "python",
   "pygments_lexer": "ipython3",
   "version": "3.7.4"
  }
 },
 "nbformat": 4,
 "nbformat_minor": 4
}
